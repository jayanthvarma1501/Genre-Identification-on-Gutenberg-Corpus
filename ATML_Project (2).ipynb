{
  "nbformat": 4,
  "nbformat_minor": 0,
  "metadata": {
    "colab": {
      "name": "ATML_Project.ipynb",
      "provenance": [],
      "collapsed_sections": [],
      "toc_visible": true
    },
    "kernelspec": {
      "name": "python3",
      "display_name": "Python 3"
    }
  },
  "cells": [
    {
      "cell_type": "code",
      "metadata": {
        "id": "ngoPNdQWRxsw",
        "colab_type": "code",
        "colab": {
          "base_uri": "https://localhost:8080/",
          "height": 140
        },
        "outputId": "41ba4912-5483-451a-f06e-f3764c4915c0"
      },
      "source": [
        "from google.colab import drive\n",
        "drive.mount('/gdrive')\n",
        "%cd /gdrive"
      ],
      "execution_count": 3,
      "outputs": [
        {
          "output_type": "stream",
          "text": [
            "Go to this URL in a browser: https://accounts.google.com/o/oauth2/auth?client_id=947318989803-6bn6qk8qdgf4n4g3pfee6491hc0brc4i.apps.googleusercontent.com&redirect_uri=urn%3aietf%3awg%3aoauth%3a2.0%3aoob&response_type=code&scope=email%20https%3a%2f%2fwww.googleapis.com%2fauth%2fdocs.test%20https%3a%2f%2fwww.googleapis.com%2fauth%2fdrive%20https%3a%2f%2fwww.googleapis.com%2fauth%2fdrive.photos.readonly%20https%3a%2f%2fwww.googleapis.com%2fauth%2fpeopleapi.readonly\n",
            "\n",
            "Enter your authorization code:\n",
            "··········\n",
            "Mounted at /gdrive\n",
            "/gdrive\n"
          ],
          "name": "stdout"
        }
      ]
    },
    {
      "cell_type": "markdown",
      "metadata": {
        "id": "Tof8X0B6lmUF",
        "colab_type": "text"
      },
      "source": [
        "## Uploading the Dataset"
      ]
    },
    {
      "cell_type": "code",
      "metadata": {
        "id": "oS4KF7H6WWTk",
        "colab_type": "code",
        "colab": {
          "base_uri": "https://localhost:8080/",
          "height": 158
        },
        "outputId": "da2f1df9-d31b-4d18-e801-4aec72f60a16"
      },
      "source": [
        "\n",
        "from bs4 import BeautifulSoup\n",
        "from textblob import TextBlob\n",
        "import nltk\n",
        "nltk.download('punkt')\n",
        "nltk.download('averaged_perceptron_tagger')\n",
        "import pandas as pd \n",
        "\n",
        "#Label and file details load\n",
        "df = pd.read_csv('/gdrive/My Drive/Machine Learning /master996.csv', header = None, encoding='latin1')\n",
        "csvInput = df.values.tolist()\n",
        "\n",
        "#Please change file path\n",
        "file_path = '/gdrive/My Drive/Gutenberg_19th_century_English_Fiction'\n",
        "\n",
        "print(csvInput)\n"
      ],
      "execution_count": 4,
      "outputs": [
        {
          "output_type": "stream",
          "text": [
            "[nltk_data] Downloading package punkt to /root/nltk_data...\n",
            "[nltk_data]   Package punkt is already up-to-date!\n",
            "[nltk_data] Downloading package averaged_perceptron_tagger to\n",
            "[nltk_data]     /root/nltk_data...\n",
            "[nltk_data]   Package averaged_perceptron_tagger is already up-to-\n",
            "[nltk_data]       date!\n",
            "[['Book_Name;book_id;guten_genre;Author_Name'], ['The Mystery of the Boule Cabinet: A Detective Story;pg10067.epub;Detective and Mystery;Stevenson| Burton Egbert'], ['The Pupil;pg1032.epub;Literary;James| Henry'], [\"At Love's Cost;pg10379.epub;Literary;Garvice| Charles\"], ['The Heart of the Range;pg10473.epub;Western Stories;White| William Patterson'], ['The Worshipper of the Image;pg10812.epub;Literary;Gallienne| Richard Le'], ['The Book-Bills of Narcissus - An Account Rendered by Richard Le Gallienne;pg10826.epub;Literary;Gallienne| Richard Le'], ['Elusive Isabel;pg10943.epub;Detective and Mystery;Futrelle| Jacques'], [\"Joe Burke's Last Stand;pg11004.epub;Literary;Wetterau| John Moncure\"], ['O+F;pg11005.epub;Literary;Wetterau| John Moncure'], ['Polly and the Princess;pg11259.epub;Literary;Dowd| Emma C.'], [\"Maggie Miller: The Story of Old Hagar's Secret;pg11280.epub;Literary;Holmes| Mary Jane\"], ['The Obstacle Race;pg11520.epub;Literary;Dell| Ethel M.'], ['From out the Vasty Deep;pg11581.epub;Literary;Lowndes| Marie Belloc'], ['Fate Knocks at the Door: A Novel;pg11655.epub;Literary;Comfort| Will Levington'], ['The Torrent (Entre Naranjos);pg11674.epub;Literary;Ibez| Vicente Blasco'], ['The Jolly Corner;pg1190.epub;Ghost and Horror;James| Henry'], ['The Coxon Fund;pg1193.epub;Literary;James| Henry'], ['The Mystery of Monastery Farm;pg11931.epub;Literary;Naylor| H. R.'], ['Wife in Name Only;pg11970.epub;Literary;Brame| Charlotte M.'], ['Darrel of the Blessed Isles;pg12102.epub;Literary;Bacheller| Irving'], ['The Adventures of Jimmie Dale;pg1218.epub;Detective and Mystery;Packard| Frank L.'], ['The Story of Bessie Costrell;pg12181.epub;Literary;Ward| Mrs. Humphry'], ['Fated to Be Free: A Novel;pg12303.epub;Literary;Ingelow| Jean'], ['Nancy: A Novel;pg12304.epub;Literary;Broughton| Rhoda'], ['The Top of the World;pg12360.epub;Literary;Dell| Ethel M.'], ['The Reason Why;pg12450.epub;Literary;Glyn| Elinor'], ['Miriam Monfort - A Novel;pg12453.epub;Literary;Warfield| Catherine A.'], ['A Perilous Secret;pg12470.epub;Literary;Reade| Charles'], ['Deadham Hard: A Romance;pg12520.epub;Literary;Malet| Lucas'], ['A Simple Soul;pg1253.epub;Literary;Flaubert| Gustave'], ['A Spinner in the Sun;pg12672.epub;Literary;Reed| Myrtle'], ['The Autobiography of a Slander;pg1273.epub;Literary;Lyall| Edna'], ['Tokyo to Tijuana: Gabriele Departing America;pg12733.epub;Literary;Sills| Steven David Justin'], [\"The Coquette's Victim - Everyday Life Library No. 1;pg12886.epub;Literary;Brame| Charlotte M\"], ['The Song of the Blood-Red Flower;pg12935.epub;Literary;Linnankoski| Johannes'], ['People Like That - A Novel;pg12972.epub;Literary;Bosher| Kate Langley'], ['The Lady of Big Shanty;pg12989.epub;Literary;Smith| F. Berkeley'], ['The Philanderers;pg13057.epub;Literary;Mason| A. E. W.'], ['Coralie - Everyday Life Library No. 2;pg13162.epub;Literary;Brame| Charlotte M.'], ['Broken to the Plow - A Novel;pg13178.epub;Literary;Dobie| Charles Caldwell'], ['The Wild Olive: A Novel;pg13212.epub;Literary;King| Basil'], ['The American Baron: A Novel;pg13257.epub;Literary;Mille| James De'], ['Out of the Ashes;pg13273.epub;Literary;Grant| Ethel Watts Mumford'], ['The Light That Lures;pg13312.epub;Literary;Brebner| Percy James'], ['Miss Bretherton;pg13432.epub;Literary;Ward| Mrs. Humphry'], ['Aylwin;pg13454.epub;Literary;Watts-Dunton| Theodore'], ['The Collected Works of Ambrose Bierce- Volume 1;pg13541.epub;Literary;Bierce| Ambrose'], ['The Son of Clemenceau- A Novel of Modern Love and Life;pg13572.epub;Literary;Dumas| Alexandre'], [\"One Day  A sequel to 'Three Weeks';pg13776.epub;Literary;Elinor Glyn\"], ['The Port of Missing Men;pg13913.epub;Literary;Nicholson| Meredith'], ['The Seven Poor Travellers;pg1392.epub;Christmas Stories;Dickens| Charles'], ['Charles Rex;pg13960.epub;Love and Romance;Dell| Ethel M.'], [\"V. V.'s Eyes;pg13985.epub;Literary;Harrison| Henry Sydnor\"], ['The End of the World: A Love Story;pg14051.epub;Love and Romance;Eggleston| Edward'], ['Sandy;pg14079.epub;Sea and Adventure;Rice| Alice Caldwell Hegan'], ['If Winter Comes;pg14145.epub;Literary;Hutchinson| A. S. M.'], ['Going into Society;pg1422.epub;Literary;Dickens| Charles'], ['Flames;pg14253.epub;Literary;Hichens| Robert'], ['Queed - A Novel;pg14303.epub;Literary;Harrison| Henry Sydnor'], ['The Missing Bride;pg14382.epub;Literary;Southworth| Emma Dorothy Eliza Nevitte'], ['Septimus;pg14395.epub;Literary;Locke| William John'], ['The Exemplary Novels of Cervantes;pg14420.epub;Literary;Saavedra| Miguel de Cervantes'], [\"True Love's Reward - A Sequel to Mona;pg14427.epub;Literary;Sheldon| Mrs. Georgie\"], [\"The Doctor's Dilemma;pg14454.epub;Literary;Stretton| Hesba\"], ['A Daughter of To-Day;pg14490.epub;Literary;Duncan| Sara Jeannette'], ['Sister Carmen;pg14523.epub;Literary;Corvus| M.'], ['The Just and the Unjust;pg14581.epub;Literary;Kester| Vaughan'], [\"The Devil's Garden;pg14605.epub;Literary;Maxwell| W. B.\"], ['Jaffery;pg14669.epub;Literary;Locke| William John'], [\"Christian's Mistake;pg14687.epub;Literary;Craik| Dinah Maria Mulock\"], ['The Laurel Bush: An Old-Fashioned Love Story;pg14708.epub;Love and Romance;Craik| Dinah Maria Mulock'], ['Vandover and the Brute;pg14712.epub;Literary;Norris| Frank'], ['The Younger Set;pg14852.epub;Literary;Chambers| Robert W.'], ['The Man Thou Gavest;pg14858.epub;Literary;Comstock| Harriet T.'], ['Red Pottage;pg14885.epub;Literary;Cholmondeley| Mary'], ['The Keeper of the Door;pg15013.epub;Literary;Dell| Ethel M.'], ['The Cathedral;pg15067.epub;Literary;Huysmans| J.-K.'], ['The Cab of the Sleeping Horse;pg15094.epub;Literary;Scott| John Reed'], ['The Jervaise Comedy;pg15116.epub;Literary;Beresford| J. D.'], ['Sea and Shore - A Sequel to \"Miriam\\'s Memoirs\";pg15117.epub;Literary;Warfield| Catherine A.'], [\"David Lockwin\\x97The People's Idol;pg15123.epub;Literary;McGovern| John\"], ['The Inner Sisterhood - A Social Study in High Colors;pg15179.epub;Literary;Sherley| Douglass'], [\"My Mother's Rival - Everyday Life Library No. 4;pg15181.epub;Literary;Brame| Charlotte M.\"], [\"Marion Arleigh's Penance - Everyday Life Library No. 5;pg15182.epub;Literary;Brame| Charlotte M.\"], ['The Tragedy of the Chain Pier - Everyday Life Library No. 3;pg15183.epub;Literary;Brame| Charlotte M.'], ['Lewie - The Bended Twig;pg15244.epub;Literary;Bradford| Sarah H.'], [\"Bessie's Fortune: A Novel;pg15275.epub;Literary;Holmes| Mary Jane\"], ['Gladys- the Reaper;pg15315.epub;Literary;Beale| Anne'], [\"The Baronet's Bride- A Woman's Vengeance;pg15317.epub;Literary;Fleming| May Agnes\"], ['Tracy Park: A Novel;pg15321.epub;Literary;Holmes| Mary Jane'], ['The Lever: A Novel;pg15430.epub;Literary;Orcutt| William Dana'], ['Trumps;pg15498.epub;Literary;Curtis| George William'], ['Captivity;pg15527.epub;Literary;Eyles| Leonora'], ['A Splendid Hazard;pg15671.epub;Literary;MacGrath| Harold'], ['Far to Seek - A Romance of England and India;pg15704.epub;Literary;Diver| Maud'], ['Bunker Bean;pg15743.epub;Literary;Wilson| Harry Leon'], ['Ishmael- In the Depths;pg15774.epub;Literary;Southworth| Emma Dorothy Eliza Nevitte'], ['An Unpardonable Liar;pg15793.epub;Literary;Parker| Gilbert'], ['The Seeker;pg15797.epub;Literary;Wilson| Harry Leon'], ['Walter Harland - Memories of the Past;pg15799.epub;Literary;Caswell| Harriet S.'], ['Garman and Worse: A Norwegian Novel;pg15864.epub;Literary;Kielland| Alexander Lange'], ['The Unseen Bridegroom- Wedded For a Week;pg15875.epub;Literary;Fleming| May Agnes'], ['Allegories of Life;pg15895.epub;Allegories;Adams| Mrs. J. S.'], ['His Excellency the Minister;pg15934.epub;Literary;Claretie| Jules'], [\"An Englishwoman's Love-Letters;pg15941.epub;Literary;Housman| Laurence\"], ['The Fatal Glove;pg15989.epub;Literary;Augusta| Clara'], ['The Lost Lady of Lone;pg16039.epub;Literary;Southworth| Emma Dorothy Eliza Nevitte'], ['Uncle Max;pg16080.epub;Literary;Carey| Rosa Nouchette'], [\"For Woman's Love;pg16094.epub;Literary;Southworth| Emma Dorothy Eliza Nevitte\"], ['The Hoyden;pg16137.epub;Literary;Duchess|'], ['The Cromptons;pg16138.epub;Literary;Holmes| Mary Jane'], ['A Man and a Woman;pg16143.epub;Literary;Waterloo| Stanley'], ['Prince Fortunatus;pg16217.epub;Literary;Black| William'], ['Jan: A Dog and a Romance;pg16252.epub;Literary;Dawson| A. J.'], ['Idolatry: A Romance;pg16283.epub;Literary;Hawthorne| Julian'], ['The Foolish Virgin;pg1634.epub;Literary;Dixon| Thomas'], ['Ellen Walton - The Villain and His Victims;pg16345.epub;Literary;Addison| Alvin'], ['The Summons;pg16381.epub;Literary;Mason| A. E. W.'], ['What Necessity Knows;pg16398.epub;Literary;Dougall| L.'], ['Led Astray and The Sphinx - Two Novellas In One Volume;pg16403.epub;Literary;Feuillet| Octave'], ['The Measure of a Man;pg16453.epub;Literary;Barr| Amelia E.'], ['The Moon out of Reach;pg16497.epub;Love and Romance;Pedler| Margaret'], ['Foes;pg16554.epub;Literary;Johnston| Mary'], ['The Twins - A Domestic Novel;pg16574.epub;Literary;Tupper| Martin Farquhar'], ['The Lee Shore;pg16612.epub;Literary;Macaulay| Rose'], ['Bad Hugh;pg16662.epub;Literary;Holmes| Mary Jane'], ['Eveline Mandeville - The Horse Thief Rival;pg16676.epub;Literary;Addison| Alvin'], ['Adrien Leroy;pg16682.epub;Literary;Garvice| Charles'], ['A Comedy of Masks: A Novel;pg16703.epub;Literary;Dowson| Ernest Christopher| Moore| Arthur'], ['The Husbands of Edith;pg16719.epub;Literary;McCutcheon| George Barr'], [\"Marzio's Crucifix and Zoroaster;pg16720.epub;Literary;Crawford| F. Marion\"], ['Mike Fletcher: A Novel;pg16730.epub;Literary;Moore| George Augustus'], ['Jacqueline of Golden River;pg16771.epub;Literary;Egbert| H. M.'], ['My Little Lady;pg16788.epub;Literary;Poynter| E. Frances'], [\"Elster's Folly: A Novel;pg16798.epub;Literary;Wood| Mrs. Henry\"], ['Dangerous Ages;pg16799.epub;Literary;Macaulay| Rose'], ['Lydia of the Pines;pg16803.epub;Literary;Morrow| Honor'], ['Mark Hurdlestone - The Two Brothers;pg16836.epub;Literary;Moodie| Susanna'], ['The Halo;pg16909.epub;Literary;Hutten| Bettina Von'], ['The Bradys and the Girl Smuggler Working for the Custom House;pg16919.epub;Detective and Mystery;Doughty| Francis Worcester'], ['The Bad Man: A Novel;pg16968.epub;Literary;Browne| Porter Emerson| Towne| Charles Hanson'], ['The Vanished Messenger;pg1699.epub;Detective and Mystery;Oppenheim| E. Phillips'], ['Miss Dexie - A Romance of the Provinces;pg16993.epub;Literary;Eveleth| Stanford'], ['The Half-Hearted;pg17047.epub;Sea and Adventure;Buchan| John'], ['The Man and the Moment;pg17048.epub;Literary;Glyn| Elinor'], ['The Crock of Gold - A Rural Novel;pg17062.epub;Literary;Tupper| Martin Farquhar'], [\"Guy Livingstone'Thorough';pg17084.epub;Literary;Lawrence| George A.\"], ['Destiny;pg17141.epub;Literary;Buck| Charles Neville'], ['The Actress in High Life - An Episode in Winter Quarters;pg17191.epub;Literary;Bowen| Sue Petigru'], ['Atlantis;pg17241.epub;Literary;Hauptmann| Gerhart'], ['Sunrise;pg17308.epub;Literary;Black| William'], ['Arms and the Woman;pg17359.epub;Love and Romance;MacGrath| Harold'], ['Hearts and Masks;pg17390.epub;Literary;MacGrath| Harold'], ['The Adventures of Kathlyn;pg17402.epub;Literary;MacGrath| Harold'], ['The Thin Red Line  and Blue Blood;pg17434.epub;Literary;Griffiths| Arthur'], ['The Second Honeymoon;pg17446.epub;Literary;Ayres| Ruby M.'], ['The Red Seal;pg1747.epub;Literary;Lincoln| Natalie Sumner'], [\"Other People's Money;pg1748.epub;Detective and Mystery;Gaboriau| Emile\"], ['On the Church Steps;pg17559.epub;Literary;Hallowell| Sarah C.'], ['By the Light of the Soul: A Novel;pg17564.epub;Literary;Freeman| Mary Eleanor Wilkins'], ['Romance;pg17642.epub;Literary;Conrad| Joseph| Ford| Ford Madox'], ['Bella Donna: A Novel;pg17698.epub;Literary;Hichens| Robert'], [\"The Courage of Marge O'Doone;pg17745.epub;Literary;Curwood| James Oliver\"], ['Foes in Ambush;pg17806.epub;Literary;King| Charles'], ['Contrary Mary;pg17938.epub;Literary;Bailey| Temple'], ['Betty at Fort Blizzard;pg18022.epub;Literary;Seawell| Molly Elliot'], [\"Medoline Selwyn's Work;pg18052.epub;Literary;Colter| Mrs. J. J.\"], ['The Zeit-Geist;pg18054.epub;Literary;Dougall| L.'], [\"Bucky O'Connor: A Tale of the Unfenced Border;pg1809.epub;Western Stories;Raine| William MacLeod\"], ['The Road to Mandalay - A Tale of Burma;pg18239.epub;Literary;Croker| B. M.'], ['Gentle Julia;pg18259.epub;Literary;Tarkington| Booth'], ['Enter Bridget;pg18280.epub;Literary;Cobb| Thomas'], ['The Case of the Lamp That Went Out;pg1832.epub;Detective and Mystery;Groner| Auguste'], ['The Case of the Registered Letter;pg1833.epub;Detective and Mystery;Groner| Auguste'], ['The Lighted Match;pg18336.epub;Literary;Buck| Charles Neville'], ['The Case of the Pocket Diary Found in the Snow;pg1834.epub;Detective and Mystery;Groner| Auguste'], [\"The Case of the Pool of Blood in the Pastor's Study;pg1835.epub;Detective and Mystery;Groner| Auguste\"], ['The Case of the Golden Bullet;pg1836.epub;Detective and Mystery;Groner| Auguste'], ['A Melody in Silver;pg18434.epub;Literary;Abbott| Keene'], ['Parrot & Co.;pg18443.epub;Literary;MacGrath| Harold'], ['The Treasure of Heaven: A Romance of Riches;pg18449.epub;Literary;Corelli| Marie'], ['The Vision Splendid;pg1846.epub;Western Stories;Raine| William MacLeod'], ['The Place Beyond the Winds;pg18488.epub;Literary;Comstock| Harriet T.'], ['A Court of Inquiry;pg18489.epub;Literary;Richmond| Grace S.'], ['The Yellow Crayon;pg1849.epub;Detective and Mystery;Oppenheim| E. Phillips'], ['The Woman in the Alcove;pg1851.epub;Detective and Mystery;Green| Anna Katharine'], [\"A Mummer's Tale;pg18545.epub;Literary;France| Anatole\"], ['Initials Only;pg1857.epub;Detective and Mystery;Green| Anna Katharine'], ['The President: A Novel;pg18572.epub;Literary;Lewis| Alfred Henry'], ['The Poor Plutocrats;pg18705.epub;Literary;Jkai| Mr'], [\"Dr. Dumany's Wife;pg18708.epub;Literary;Jkai| Mr\"], ['Painted Windows;pg1875.epub;Literary;Peattie| Elia Wilkinson'], ['A Millionaire of Yesterday;pg1878.epub;Detective and Mystery;Oppenheim| E. Phillips'], ['The House of Martha;pg18822.epub;Literary;Stockton| Frank Richard'], ['Winner Take All;pg18829.epub;Literary;Evans| Larry'], ['The Bittermeads Mystery;pg1888.epub;Detective and Mystery;Punshon| E. R.'], [\"Then I'll Come Back to You;pg18894.epub;Literary;Evans| Larry\"], ['The Seventh Man;pg1897.epub;Western Stories;Brand| Max'], ['The Starbucks;pg18984.epub;Literary;Read| Opie Percival'], ['Sword and Gown: A Novel;pg19121.epub;Literary;Lawrence| George A.'], ['The House in the Mist;pg19147.epub;Detective and Mystery;Green| Anna Katharine'], ['The Cow Puncher;pg19173.epub;Literary;Stead| Robert J. C.'], ['Lady Larkspur;pg19204.epub;Literary;Nicholson| Meredith'], [\"The Alchemist's Secret;pg19224.epub;Literary;Williams| Isabel Cecilia\"], ['Joyce of the North Woods;pg19225.epub;Literary;Comstock| Harriet T.'], ['Michael McGrath- Postmaster;pg19257.epub;Literary;Connor| Ralph'], [\"His Heart's Queen;pg19259.epub;Literary;Sheldon| Mrs. Georgie\"], ['Born Again;pg19459.epub;Literary;Lawson| Alfred W.'], ['Branded;pg19472.epub;Western Stories;Lynde| Francis'], ['North of Fifty-Three;pg19510.epub;Literary;Sinclair| Bertrand W.'], [\"Kate Danton- Captain Danton's Daughters: A Novel;pg19512.epub;Literary;Fleming| May Agnes\"], ['Sight Unseen;pg1960.epub;Detective and Mystery;Rinehart| Mary Roberts'], ['The Confession;pg1963.epub;Detective and Mystery;Rinehart| Mary Roberts'], ['Dixie Hart;pg19818.epub;Literary;Harben| Will N.'], ['Heart - A Social Novel;pg20235.epub;Literary;Tupper| Martin Farquhar'], ['A Political Romance;pg20257.epub;Literary;Sterne| Laurence'], ['The Lovely Lady;pg20359.epub;Literary;Austin| Mary Hunter'], ['A Son of the Hills;pg20424.epub;Literary;Comstock| Harriet T.'], ['The Seventh Noon;pg20429.epub;Literary;Bartlett| Frederick Orin'], ['The Triflers;pg20458.epub;Literary;Bartlett| Frederick Orin'], ['Ernest Linwood- The Inner Life of the Author;pg20462.epub;Literary;Hentz| Caroline Lee'], ['The Complete Prose Works of Martin Farquhar Tupper;pg20610.epub;Literary;Tupper| Martin Farquhar'], ['The Master-Knot of Human Fate;pg20615.epub;Literary;Meredith| Ellis'], ['The Romance of an Old Fool;pg20661.epub;Love and Romance;Field| Roswell Martin'], ['The Monctons: A Novel. Volume 1 (of 2);pg20835.epub;Literary;Moodie| Susanna'], ['In Apple-Blossom Time: A Fairy-Tale to Date;pg20901.epub;Love and Romance;Burnham| Clara Louise'], ['Overdue: The Story of a Missing Ship;pg21067.epub;Sea and Adventure;Collingwood| Harry'], ['The Ghost Ship: A Mystery of the Sea;pg21087.epub;Sea and Adventure;Hutcheson| John C.'], ['Phyllis of Philistia;pg2155.epub;Literary;Moore| Frank Frankfort'], ['Rattlin the Reefer;pg21578.epub;Sea and Adventure;Howard| Edward'], ['On the Stairs;pg21613.epub;Literary;Fuller| Henry Blake'], [\"April's Lady: A Novel;pg21641.epub;Literary;Duchess|\"], ['The Making of a Soul;pg21674.epub;Literary;Rhodes| Kathlyn'], ['The Tyranny of Weakness;pg21689.epub;Literary;Buck| Charles Neville'], ['Flint: His Faults- His Friendships and His Fortunes;pg21690.epub;Literary;Goodwin| Maud Wilder'], [\"Agatha's Husband: A Novel;pg21767.epub;Literary;Craik| Dinah Maria Mulock\"], ['The Mark Of Cain;pg21821.epub;Literary;Lang| Andrew'], ['The Daughters of Danaus;pg21858.epub;Literary;Caird| Mona'], ['Afterwards;pg21867.epub;Literary;Rhodes| Kathlyn'], ['Luna Benamor;pg21870.epub;Literary;Ibez| Vicente Blasco'], ['Blacksheep! Blacksheep!;pg21887.epub;Sea and Adventure;Nicholson| Meredith'], ['Embarrassments;pg21932.epub;Literary;James| Henry'], ['The Pleasant Street Partnership: A Neighborhood Story;pg21944.epub;Literary;Leonard| Mary Finley'], ['The Lure of the Mask;pg22158.epub;Literary;MacGrath| Harold'], ['Aunt Rachel - A Rustic Sentimental Comedy;pg22202.epub;Literary;Murray| David Christie'], ['In Direst Peril;pg22205.epub;Literary;Murray| David Christie'], ['An Old Meerschaum - From Coals Of Fire And Other Stories- Volume II. (of III.);pg22206.epub;Literary;Murray| David Christie'], ['The Romance Of Giovanni Calvotti - From Coals Of Fire And Other Stories- Volume II. (of III.);pg22207.epub;Literary;Murray| David Christie'], ['Cruel Barbara Allen - From Coals Of Fire And Other Stories- Volume II. (of III.);pg22208.epub;Literary;Murray| David Christie'], ['Molly Bawn;pg22214.epub;Literary;Duchess| '], ['Oswald Langdon - Pierre and Paul Lanier. A Romance of 1894-1898;pg22221.epub;Literary;Hamilton| Levi Jackson'], ['Schwartz: A History - From \"Schwartz\" by David Christie Murray;pg22271.epub;Literary;Murray| David Christie'], ['Young Mr. Barter\\'s Repentance - From \"Schwartz\" by David Christie Murray;pg22272.epub;Literary;Murray| David Christie'], ['Bulldog And Butterfly - From \"Schwartz\" by David Christie Murray;pg22273.epub;Literary;Murray| David Christie'], ['Julia And Her Romeo: A Chronicle Of Castle Barfield - From \"Schwartz\" by David Christie Murray;pg22274.epub;Literary;Murray| David Christie'], ['VC \\x97 A Chronicle of Castle Barfield and of the Crimea;pg22275.epub;Literary;Murray| David Christie'], [\"Despair's Last Journey;pg22276.epub;Literary;Murray| David Christie\"], ['The Tale Of Mr. Peter Brown - Chelsea Justice - From \"The New Decameron\"|| Volume III.;pg22476.epub;Literary;Sackville-West| Vita'], [\"Mary Louise and Josie O'Gorman;pg22532.epub;Literary;Sampson| Emma Speed\"], ['King Candaules;pg22660.epub;Literary;Gautier| Thophile'], ['32 Caliber;pg22781.epub;Literary;McGibeny| Donald'], ['Havoc;pg2287.epub;Detective and Mystery;Oppenheim| E. Phillips'], [\"Doctor Luttrell's First Patient;pg22883.epub;Love and Romance;Carey| Rosa Nouchette\"], [\"Nell- of Shorne Mills- One Heart's Burden;pg22961.epub;Literary;Garvice| Charles\"], ['A Modern Idyll;pg23009.epub;Literary;Harris| Frank'], ['Gulmore- The Boss;pg23010.epub;Literary;Harris| Frank'], ['Elder Conklin;pg23012.epub;Literary;Harris| Frank'], [\"Helen and Arthur- Miss Thusa's Spinning Wheel;pg23106.epub;Literary;Hentz| Caroline Lee\"], ['A Chinese Command: A Story of Adventure in Eastern Seas;pg23118.epub;Sea and Adventure;Collingwood| Harry'], [\"Other People's Business: The Romantic Career of the Practical Miss Dale;pg23157.epub;Literary;Smith| Harriet L.\"], ['Old Ebenezer;pg23215.epub;Literary;Read| Opie Percival'], ['The Fête At Coqueville - 1907;pg23222.epub;Literary;Zola| ile'], ['Good Blood;pg23223.epub;Literary;Wildenbruch| Ernst von'], ['Mistress Anne;pg23246.epub;Literary;Bailey| Temple'], ['The Folly Of Eustace - 1896;pg23420.epub;Literary;Hichens| Robert'], ['The Man Next Door;pg23606.epub;Literary;Hough| Emerson'], ['The Riddle Of The Rocks - 1895;pg23629.epub;Literary;Murfree| Mary Noailles'], ['The Phantoms Of The Foot-Bridge - 1895;pg23630.epub;Literary;Murfree| Mary Noailles'], ['The Moonshiners At Hoho-Hebee Falls - 1895;pg23631.epub;Literary;Murfree| Mary Noailles'], [\"'way Down In Lonesome Cove - 1895;pg23632.epub;Literary;Murfree| Mary Noailles\"], ['His \"Day In Court\" - 1895;pg23633.epub;Literary;Murfree| Mary Noailles'], ['Flamsted quarries;pg23664.epub;Literary;Waller| Mary E.'], ['The Dew of Their Youth;pg23736.epub;Literary;Crockett| S. R.'], ['David Malcolm;pg23741.epub;Literary;Lloyd| Nelson'], ['Aladdin & Co.: A Romance of Yankee Magic;pg23745.epub;Literary;Quick| Herbert'], ['Cruel As The Grave;pg23789.epub;Literary;Southworth| Emma Dorothy Eliza Nevitte'], ['A True Friend: A Novel;pg23797.epub;Literary;Sergeant| Adeline'], ['The Opal Serpent;pg24769.epub;Detective and Mystery;Hume| Fergus'], ['The Book of All-Power;pg24920.epub;Literary;Wallace| Edgar'], ['The Kingdom Round the Corner: A Novel;pg25702.epub;Literary;Ashford| Angela| Ashford| Daisy'], ['An Apostate: Nawin of Thais;pg25730.epub;Literary;Dawson| Coningsby'], [\"Her Mother's Secret;pg26259.epub;Literary;Hume| Fergus\"], [\"Margarita's Soul: The Romantic Recollections of a Man of Fifty;pg26277.epub;Literary;Southworth| Emma Dorothy Eliza Nevitte\"], ['Simon;pg26306.epub;Detective and Mystery;Bacon| Josephine Daskam'], [\"Madeline Payne- the Detective's Daughter;pg26482.epub;Detective and Mystery;Lynch| Lawrence L.\"], ['Burlesques;pg2675.epub;Literary;Lynch| Lawrence L.'], ['Ringfield: A Novel;pg26768.epub;Literary;Thackeray| William Makepeace'], ['A Red Wallflower;pg26828.epub;Literary;Harrison| S. Frances'], ['A Pessimist in Theory and Practice;pg26847.epub;Literary;Warner| Susan'], ['The Bradys Beyond Their Depth- The Great Swamp Mystery;pg26925.epub;Detective and Mystery;Bird| Frederic Mayer'], ['Bird of Paradise;pg27323.epub;Literary;Seltzer| Charles Alden'], [\"The Giant's Robe;pg27507.epub;Literary;Sabin| Edwin L.\"], ['The Seven Secrets;pg27549.epub;Detective and Mystery;Anstey| F.'], [\"Five O'Clock Tea: Farce;pg27709.epub;Literary;Queux| William Le\"], [\"A Bachelor's Dream;pg27838.epub;Literary;Howells| William Dean\"], ['The Dominant Dollar;pg27857.epub;Literary;Duchess|'], [\"Dick Leslie's Luck: A Story of Shipwreck and Adventure;pg27909.epub;Sea and Adventure;Lillibridge| Will\"], ['Anderson Crow- Detective;pg28229.epub;Detective and Mystery;Morris| Gouverneur'], ['A Romantic Young Lady;pg28236.epub;Literary;McCutcheon| George Barr'], ['The Beloved Woman;pg28301.epub;Literary;Grant| Robert'], ['In Brief Authority;pg28459.epub;Literary;Norris| Kathleen Thompson'], ['Not Like Other Girls;pg28463.epub;Literary;Anstey| F.'], ['The Limit;pg28465.epub;Literary;Leverson| Ada'], ['The Brass Bound Box;pg28509.epub;Literary;Raymond| Evelyn'], ['Wee Wifie;pg28717.epub;Literary;Carey| Rosa Nouchette'], ['Lover or Friend;pg28925.epub;Literary;Carey| Rosa Nouchette'], ['Chit-Chat  Nirvana  The Searchlight;pg29071.epub;Literary;Holt| Mathew Joseph'], ['Cleo The Magnificent- The Muse of the Real: A Novel;pg29207.epub;Literary;Zangwill| Louis'], ['The First Violin - A Novel;pg29219.epub;Literary;Fothergill| Jessie'], ['People of Position;pg29274.epub;Literary;Hyatt| Stanley Portal'], ['Australia Revenged;pg29315.epub;Literary;Boomerang|'], [\"An Old Sailor's Yarns;pg29323.epub;Sea and Adventure;Ames| N.\"], ['The Prisoner;pg29366.epub;Literary;Brown| Alice'], ['Murder Point: A Tale of Keewatin;pg29400.epub;Detective and Mystery;Dawson| Coningsby'], ['Rope;pg29570.epub;Literary;Hall| Holworthy'], ['Once to Every Man;pg29646.epub;Literary;Evans| Larry'], ['Mixed Faces;pg29657.epub;Literary;Norton| Roy'], ['Nobody;pg29671.epub;Literary;Vance| Louis Joseph'], ['The Hound From The North;pg29695.epub;Literary;Cullum| Ridgwell'], ['The Heart of Thunder Mountain;pg29697.epub;Literary;Bingham| Edfrid A.'], [\"Hetty's Strange History;pg29699.epub;Literary;Jackson| Helen Hunt\"], ['The Princess Virginia;pg29715.epub;Literary;Williamson| A. M.| Williamson| C. N.'], ['The Strollers;pg29726.epub;Literary;Isham| Frederic Stewart'], [\"Victor's Triumph - Sequel to A Beautiful Fiend;pg29729.epub;Literary;Southworth| Emma Dorothy Eliza Nevitte\"], ['The Missionary;pg29743.epub;Literary;Griffith| George Chetwynd'], ['The Gorgeous Girl;pg29753.epub;Literary;Bartley| Nalbro'], ['The Dominant Strain;pg29760.epub;Literary;Ray| Anna Chapin'], ['Audrey Craven;pg29766.epub;Literary;Sinclair| May'], ['The Man Who Wins;pg29808.epub;Literary;Herrick| Robert'], ['The Paliser case;pg29847.epub;Literary;Saltus| Edgar'], ['Dwellers in the Hills;pg29851.epub;Literary;Post| Melville Davisson'], ['A Great Man: A Frolic;pg29860.epub;Literary;Bennett| Arnold'], ['The Old Countess- The Two Proposals;pg29862.epub;Literary;Stephens| Ann S.'], ['Love and Lucy;pg29868.epub;Literary;Hewlett| Maurice'], ['The Crimson Tide: A Novel;pg29880.epub;Literary;Chambers| Robert W.'], [\"The Doctor's Family;pg29890.epub;Literary;Oliphant| Mrs.\"], ['The Rector;pg29891.epub;Literary;Oliphant| Mrs.'], ['Changing Winds - A Novel;pg29902.epub;Literary;Ervine| St. John G.'], ['Jan and Her Job;pg29945.epub;Literary;Harker| L. Allen'], ['The Eye of Dread;pg30031.epub;Literary;Erskine| Payne'], ['In the Shadow of the Hills;pg30037.epub;Literary;Shedd| George C.'], ['Jessica- the Heiress;pg30074.epub;Literary;Raymond| Evelyn'], ['Our Next-Door Neighbors;pg30075.epub;Literary;Maniates| Belle Kanaris'], ['Amaryllis at the Fair;pg30087.epub;Literary;Jefferies| Richard'], ['Young Barbarians;pg30089.epub;Literary;Maclaren| Ian'], ['Robinetta;pg30090.epub;Literary;Findlater| Jane Helen| Findlater| Mary| McAulay| Allan| Wiggin| Kate Douglas Smith'], ['At the Crossroads;pg30095.epub;Literary;Comstock| Harriet T.'], ['The Vast Abyss - The Story of Tom Blount- his Uncles and his Cousin Sam;pg30106.epub;Literary;Fenn| George Manville'], ['The Quality of Mercy;pg30108.epub;Literary;Howells| William Dean'], ['Name and Fame: A Novel;pg30110.epub;Literary;Sergeant| Adeline'], ['A Noble Woman;pg30111.epub;Literary;Stephens| Ann S.'], ['Tante;pg30115.epub;Literary;Sedgwick| Anne Douglas'], ['Daisy Brooks- A Perilous Love;pg30137.epub;Sea and Adventure;Libbey| Laura Jean'], ['A Manual of the Art of Fiction;pg30183.epub;Literary;Hamilton| Clayton Meeker'], ['East of the Shadows;pg30193.epub;Literary;Barclay| Mrs. Hubert'], ['Officer 666;pg30228.epub;Literary;Currie| Barton Wood| McHugh| Augustin'], [\"Phemie Frost's Experiences;pg30245.epub;Literary;Stephens| Ann S.\"], [\"Mabel's Mistake;pg30247.epub;Literary;Stephens| Ann S.\"], ['A Captain in the Ranks: A Romance of Affairs;pg30263.epub;Literary;Eggleston| George Cary'], ['The Phantom Lover;pg30286.epub;Literary;Ayres| Ruby M.'], ['The Benefactress;pg30302.epub;Literary;Arnim| Elizabeth Von'], ['Hope Mills- Between Friend and Sweetheart;pg30436.epub;Literary;Douglas| Amanda M.'], ['The Lieutenant-Governor: A Novel;pg30448.epub;Literary;Carryl| Guy Wetmore'], ['A Manifest Destiny;pg30464.epub;Literary;Magruder| Julia'], ['Wild Oranges;pg30466.epub;Literary;Hergesheimer| Joseph'], ['Outside Inn;pg30483.epub;Literary;Kelley| Ethel M.'], [\"The Count's Millions;pg305.epub;Detective and Mystery;Gaboriau| Emile\"], ['The Pines of Lory;pg30600.epub;Literary;Mitchell| John Ames'], ['A Danish Parsonage;pg30617.epub;Literary;Vicary| John Fulford'], ['Wings of the Wind;pg30618.epub;Literary;Harris| Credo Fitch'], ['In the Heart of a Fool;pg30627.epub;Literary;White| William Allen'], ['Anything Once;pg30640.epub;Literary;Ostrander| Isabel'], ['An Ocean Tramp;pg30648.epub;Literary;McFee| William'], [\"Daisy's Necklace- and What Came of It;pg30668.epub;Literary;Aldrich| Thomas Bailey\"], ['Sir Tom;pg30692.epub;Literary;Oliphant| Mrs.'], ['The Record of Nicholas Freydon - An Autobiography;pg30704.epub;Literary;Dawson| A. J.'], [\"Captain Pott's Minister;pg30713.epub;Literary;Cooper| Francis L.\"], ['Absolution;pg30724.epub;Literary;Viebig| Clara'], ['The Fate of Felix Brand;pg30733.epub;Literary;Kelly| Florence Finch'], [\"Clark's Field;pg30736.epub;Literary;Herrick| Robert\"], ['Materials and Methods of Fiction - With an Introduction by Brander Matthews;pg30776.epub;Literary;Hamilton| Clayton Meeker'], ['The Beggar Man;pg30817.epub;Literary;Ayres| Ruby M.'], ['Ashton-Kirk- Criminologist;pg30838.epub;Detective and Mystery;McIntyre| John Thomas'], ['Kidnapped at the Altar- The Romance of that Saucy Jessie Bain;pg30980.epub;Sea and Adventure;Libbey| Laura Jean'], ['Ten Thousand a-Year. Volume 1.;pg31004.epub;Literary;Warren| Samuel'], ['The Recipe for Diamonds;pg31083.epub;Sea and Adventure;Hyne| Charles John Cutcliffe Wright'], ['Aliens;pg31241.epub;Literary;McFee| William'], [\"Cupid's Middleman;pg31561.epub;Literary;Lent| Edward B.\"], ['Walladmor- Vol. 1 (of 2) - \"Freely Translated into German from the English of Sir Walter Scott.\" And Now Freely Translated from the German into English.;pg31563.epub;Literary;Alexis| Willibald'], ['Walladmor- Vol. 2 (of 2) - \"Freely Translated into German from the English of Sir Walter Scott.\" And Now Freely Translated from the German into English.;pg31568.epub;Literary;Alexis| Willibald'], ['Room Number 3- and Other Detective Stories;pg31578.epub;Detective and Mystery;Green| Anna Katharine'], ['The Serapion Brethren- Vol. II;pg31668.epub;Literary;Hoffmann| E. T. A.'], ['Checkers: A Hard-luck Story;pg31813.epub;Literary;Blossom| Henry'], ['The Serapion Brethren- Vol. I.;pg31820.epub;Literary;Hoffmann| E. T. A.'], ['Portia- By Passions Rocked;pg31825.epub;Literary;Duchess|'], ['An Artist in Crime;pg31915.epub;Detective and Mystery;Ottolengui| Rodrigues'], ['The Portal of Dreams;pg31927.epub;Literary;Buck| Charles Neville'], ['A Life Sentence: A Novel;pg31984.epub;Literary;Sergeant| Adeline'], [\"Captain Macedoine's Daughter;pg32042.epub;Literary;McFee| William\"], ['A Rent In A Cloud;pg32082.epub;Literary;Lever| Charles James'], ['Command;pg32114.epub;Sea and Adventure;McFee| William'], ['Rose MacLeod;pg32115.epub;Literary;Brown| Alice'], ['When the Cock Crows;pg32116.epub;Literary;Baily| Waldron'], ['Long Live the King!;pg32132.epub;Literary;Boothby| Guy'], [\"Arthur O'Leary: His Wanderings And Ponderings In Many Lands;pg32424.epub;Literary;Lever| Charles James\"], ['The Brightener;pg32428.epub;Literary;Williamson| A. M.| Williamson| C. N.'], ['A Marriage at Sea;pg32516.epub;Sea and Adventure;Russell| William Clark'], ['Gerald Fitzgerald- the Chevalier: A Novel;pg32560.epub;Sea and Adventure;Viebig| Clara'], ['A Novelist on Novels;pg32576.epub;Literary;George| Walter Lionel'], [\"A Day's Ride: A Life's Romance;pg32692.epub;Literary;Lever| Charles James\"], [\"That Boy Of Norcott's;pg32693.epub;Literary;Lever| Charles James\"], [\"Jacob's Ladder;pg32732.epub;Detective and Mystery;Oppenheim| E. Phillips\"], ['Tried for Her Life - A Sequel to \"Cruel As the Grave\";pg32757.epub;Literary;Southworth| Emma Dorothy Eliza Nevitte'], ['Fairfax and His Pride: A Novel;pg32826.epub;Literary;Vorst| Marie Van'], ['One Of Them;pg32840.epub;Literary;Lever| Charles James'], ['Lady Cassandra;pg32882.epub;Literary;Vaizey| Mrs. George de Horne'], [\"Sir Hilton's Sin;pg32915.epub;Literary;Fenn| George Manville\"], ['The Sapphire Cross;pg32917.epub;Literary;Fenn| George Manville'], ['Thereby Hangs a Tale. Volume One;pg32929.epub;Literary;Fenn| George Manville'], ['An Unknown Lover;pg32936.epub;Literary;Vaizey| Mrs. George de Horne'], [\"The Red Rat's Daughter;pg33004.epub;Detective and Mystery;Boothby| Guy\"], ['The Green God;pg33019.epub;Detective and Mystery;Kummer| Frederic Arnold'], ['Sir Jasper Carew: His Life and Experience;pg33081.epub;Literary;Lever| Charles James'], ['The Truth About Tristrem Varick: A Novel;pg33099.epub;Literary;Saltus| Edgar'], ['Was It Right to Forgive? A Domestic Romance;pg33195.epub;Literary;Barr| Amelia E.'], ['Faith and Unfaith: A Novel;pg33312.epub;Literary;Duchess|'], ['The Little Schoolmaster Mark: A Spiritual Romance;pg33401.epub;Literary;Davis| Richard Harding'], ['A Man in the Open;pg33423.epub;Literary;Pocock| Roger'], ['Roland Cashel- Volume I (of II);pg33468.epub;Literary;Lever| Charles James'], ['Roland Cashel- Volume II (of II);pg33469.epub;Literary;Lever| Charles James'], ['The Furnace;pg33482.epub;Literary;Macaulay| Rose'], ['The Gambler: A Novel;pg33490.epub;Literary;Thurston| Katherine Cecil'], ['Bransford of Rainbow Range - Originally Published under the title of Bransford in Arcadia- The Little Eohippus;pg33498.epub;Western Stories;Rhodes| Eugene Manlove'], ['The Fortunes Of Glencore;pg33556.epub;Literary;Lever| Charles James'], ['The Bachelors: A Novel;pg33565.epub;Literary;Orcutt| William Dana'], ['Tony Butler;pg33604.epub;Literary;Lever| Charles James'], [\"Norine's Revenge- and- Sir Noel's Heir;pg33664.epub;Literary;Fleming| May Agnes\"], ['X Y Z: A Detective Story;pg33695.epub;Detective and Mystery;Green| Anna Katharine'], ['The Cottage of Delight: A Novel;pg33715.epub;Literary;Harben| Will N.'], ['An Engagement of Convenience: A Novel;pg33747.epub;Literary;Zangwill| Louis'], ['The Key to Yesterday;pg33759.epub;Literary;Buck| Charles Neville'], ['The Haunted Pajamas;pg33780.epub;Literary;Elliott| Francis Perry'], ['King of Camargue;pg33867.epub;Literary;Aicard| Jean'], ['Regina- or the Sins of the Fathers;pg33892.epub;Literary;Sudermann| Hermann'], ['The Unknown Sea;pg33945.epub;Allegories;Housman| Clemence'], ['The Reclaimers;pg33959.epub;Literary;McCarter| Margaret Hill'], ['The Mysterious Wanderer- Vol. I;pg33973.epub;Literary;Reeve| Sophia'], ['Love Works Wonders: A Novel;pg33989.epub;Literary;Brame| Charlotte M.'], ['The Belovéd Traitor;pg34034.epub;Literary;Packard| Frank L.'], ['The Hillman;pg34035.epub;Detective and Mystery;Oppenheim| E. Phillips'], ['Whispering Wires;pg34046.epub;Detective and Mystery;Leverage| Henry'], ['A Poached Peerage;pg34088.epub;Literary;Magnay| Sir William'], [\"Lady Maude's Mania;pg34138.epub;Literary;Fenn| George Manville\"], ['A Double Knot;pg34140.epub;Literary;Fenn| George Manville'], ['By Birth a Lady;pg34142.epub;Literary;Fenn| George Manville'], ['A Blot on the Scutcheon;pg34164.epub;Literary;Knowles| Mabel Winifred'], ['Capricious Caroline;pg34166.epub;Literary;Rowlands| Effie Adelaide'], ['Zula;pg34168.epub;Literary;Lindley| H. Esselstyn'], [\"The Girl From Tim's Place;pg34202.epub;Literary;Munn| Charles Clark\"], ['The Star-Gazers;pg34244.epub;Literary;Fenn| George Manville'], ['Of High Descent;pg34246.epub;Literary;Fenn| George Manville'], ['The Man with a Shadow;pg34248.epub;Literary;Fenn| George Manville'], ['A Mysterious Disappearance;pg34277.epub;Detective and Mystery;Tracy| Louis'], ['Phases of an Inferior Planet;pg34402.epub;Literary;Glasgow| Ellen Anderson Gholson'], ['For the Allinson Honor;pg34415.epub;Literary;Bindloss| Harold'], ['Alas! A Novel;pg34428.epub;Literary;Broughton| Rhoda'], ['The Rosery Folk;pg34482.epub;Literary;Fenn| George Manville'], ['The Gold Brick;pg34500.epub;Literary;Stephens| Ann S.'], ['Paradise Bend;pg34567.epub;Western Stories;White| William Patterson'], ['The Triumph of Virginia Dale;pg34575.epub;Literary;Francis| John'], [\"Mrs. Halliburton's Troubles;pg34587.epub;Literary;Trevena| John\"], ['Through Night to Light: A Novel;pg34598.epub;Literary;Spielhagen| Friedrich'], ['What the Swallow Sang: A Novel;pg34599.epub;Literary;Spielhagen| Friedrich'], ['King of the Castle;pg34609.epub;Literary;Fenn| George Manville'], ['Barren Honour: A Novel;pg34616.epub;Literary;Lawrence| George A.'], ['The Gateless Barrier;pg34619.epub;Ghost and Horror;Malet| Lucas'], ['I- Thou- and the Other One: A Love Story;pg34628.epub;Love and Romance;Barr| Amelia E.'], ['The Mysterious Wanderer  Vol. II;pg34629.epub;Literary;Reeve| Sophia'], ['The Breaking of the Storm- Vol. I.;pg34657.epub;Literary;Spielhagen| Friedrich'], ['The Breaking of the Storm- Vol. II.;pg34658.epub;Literary;Spielhagen| Friedrich'], ['The Breaking of the Storm- Vol. III.;pg34659.epub;Literary;Spielhagen| Friedrich'], ['Willing to Die: A Novel;pg34662.epub;Literary;Fanu| Joseph Sheridan Le'], ['Commodore Junk;pg34663.epub;Literary;Fenn| George Manville'], [\"The Mynns' Mystery;pg34664.epub;Detective and Mystery;Fenn| George Manville\"], ['The Man with the Double Heart;pg34709.epub;Literary;Hine| Muriel'], ['One of My Sons;pg34710.epub;Detective and Mystery;Green| Anna Katharine'], ['The Ivory Gate- a new edition;pg34738.epub;Literary;Besant| Walter'], ['Problematic Characters: A Novel;pg34748.epub;Literary;Spielhagen| Friedrich'], [\"Englefield Grange- Mary Armstrong's Troubles;pg34794.epub;Literary;Paull| Mrs. H. B.\"], [\"The Pagan's Cup;pg34835.epub;Detective and Mystery;Abbott| Eleanor Hallowell\"], [\"The Rival Crusoes- The Ship Wreck - Also A Voyage to Norway  and The Fisherman's Cottage.;pg34849.epub;Literary;Strickland| Agnes\"], ['Mystery and Confidence: A Tale. Vol. 1;pg34932.epub;Literary;Pinchard| Elizabeth Sibthorpe'], ['Mystery and Confidence: A Tale. Vol. 3;pg34933.epub;Literary;Pinchard| Elizabeth Sibthorpe'], ['£19-000;pg34934.epub;Detective and Mystery;Delannoy| Burford'], ['The House of Strange Secrets: A Detective Story;pg34947.epub;Detective and Mystery;Bayly| A. Eric'], ['Mystery and Confidence: A Tale. Vol. 2;pg34968.epub;Literary;Pinchard| Elizabeth Sibthorpe'], ['The Count of Nideck - adapted from the French of Erckmann-Chartrian;pg34999.epub;Literary;Erckmann-Chatrian| | Fiske| Ralph Browning'], ['The House in the Mist;pg35003.epub;Detective and Mystery;Green| Anna Katharine'], ['The Carleton Case;pg35038.epub;Literary;Clark| Ellery H.'], ['Dilemmas of Pride- (Vol 2 of 3);pg35057.epub;Literary;Loudon| Mrs.'], ['Dilemmas of Pride- (Vol 3 of 3);pg35058.epub;Literary;Loudon| Mrs.'], ['Girl Alone;pg35077.epub;Literary;Austin| Anne'], ['The Mesa Trail;pg35078.epub;Western Stories;Bedford-Jones| H.'], ['The Blind Mother- and The Last Confession;pg35140.epub;Literary;Caine| Sir Hall'], ['The Solitary Farm;pg35146.epub;Detective and Mystery;Hume| Fergus'], ['In the Van- The Builders;pg35203.epub;Literary;Price-Brown| John'], ['Who?;pg35205.epub;Detective and Mystery;Kent| Elizabeth'], ['The Guerilla Chief- and Other Tales;pg35214.epub;Literary;Reid| Mayne'], ['The Oyster;pg35217.epub;Literary;Peer|'], ['The Streets of Ascalon - Episodes in the Unfinished Career of Richard Quarren- Esqre.;pg35233.epub;Literary;Chambers| Robert W.'], ['In the Onyx Lobby;pg35254.epub;Detective and Mystery;Wells| Carolyn'], [\"A Wife's Duty: A Tale;pg35294.epub;Literary;Opie| Amelia\"], ['Sir Brook Fossbrooke- Volume I.;pg35296.epub;Literary;Lever| Charles James'], ['Sir Brook Fossbrooke- Volume II.;pg35297.epub;Literary;Lever| Charles James'], ['The Last Stroke: A Detective Story;pg35304.epub;Detective and Mystery;Lynch| Lawrence L.'], ['A Practical Novelist;pg35313.epub;Literary;Davidson| John'], [\"The Long Lane's Turning;pg35326.epub;Literary;Rives| Hallie Erminie\"], ['The Lady Evelyn: A Story of To-day;pg35336.epub;Literary;Pemberton| Max'], ['A Song of a Single Note: A Love Story;pg35358.epub;Love and Romance;Barr| Amelia E.'], ['The Wicked Marquis;pg35361.epub;Detective and Mystery;Oppenheim| E. Phillips'], ['Mad: A Story of Dust and Ashes;pg35367.epub;Literary;Fenn| George Manville'], ['Friends I Have Made;pg35368.epub;Literary;Fenn| George Manville'], ['Mrs. Geoffrey;pg35384.epub;Literary;Duchess| '], ['The Amethyst Box;pg35424.epub;Detective and Mystery;Green| Anna Katharine'], ['A Charming Fellow- Volume I;pg35428.epub;Literary;Trollope| Frances Eleanor'], ['A Charming Fellow- Volume II;pg35429.epub;Literary;Trollope| Frances Eleanor'], ['A Charming Fellow- Volume III;pg35430.epub;Literary;Trollope| Frances Eleanor'], ['The Dodd Family Abroad- Vol. I;pg35441.epub;Literary;Lever| Charles James'], ['The Dodd Family Abroad- Vol. II;pg35442.epub;Literary;Lever| Charles James'], ['Lost Lenore: The Adventures of a Rolling Stone;pg35443.epub;Sea and Adventure;Reid| Mayne'], ['Sharing Her Crime: A Novel;pg35462.epub;Detective and Mystery;Fleming| May Agnes'], ['The Black Eagle Mystery;pg35484.epub;Detective and Mystery;Bonner| Geraldine'], ['The Golden Road;pg35509.epub;Literary;Allen| Frank Waller'], ['The Three Impostors- The Transmutations;pg35517.epub;Ghost and Horror;Machen| Arthur'], ['Only One Love- Who Was the Heir;pg35523.epub;Literary;Garvice| Charles'], ['The Haute Noblesse: A Novel;pg35527.epub;Literary;Fenn| George Manville'], ['The Secret of the Sands- The \"Water Lily\" and her Crew;pg35528.epub;Sea and Adventure;Collingwood| Harry'], ['The Haunted Room: A Tale;pg35533.epub;Literary;E.| A. L. O.'], ['Doctor Cupid: A Novel;pg35548.epub;Literary;Broughton| Rhoda'], ['The Funny Philosophers- or Wags and Sweethearts.  A Novel;pg35599.epub;Literary;Yellott| George'], ['Mysterious Mr. Sabin;pg35661.epub;Detective and Mystery;Oppenheim| E. Phillips'], ['Titan: A Romance. v. 1 (of 2);pg35664.epub;Literary;Paul| Jean'], ['The Late Tenant;pg35691.epub;Literary;Tracy| Louis'], ['The Game and the Candle;pg35740.epub;Literary;Ingram| Eleanor M.'], ['Lily Pearl and The Mistress of Rosedale;pg35765.epub;Literary;Glenwood| Ida'], ['Dilemmas of Pride- (Vol 1 of 3);pg35769.epub;Literary;Loudon| Mrs'], ['The Hills of Refuge: A Novel;pg35785.epub;Literary;Harben| Will N.'], ['Plain Mary Smith: A Romance of Red Saunders;pg35787.epub;Humorous and Wit and Satire;Phillips| Henry Wallace'], ['The Black Star: A Detective Story;pg35833.epub;Detective and Mystery;McCulley| Johnston'], ['Final Proof- The Value of Evidence;pg35902.epub;Detective and Mystery;Ottolengui| Rodrigues'], ['The Finger of Fate: A Romance;pg35912.epub;Literary;Reid| Mayne'], ['The Child Wife;pg35913.epub;Literary;Reid| Mayne'], ['Silent Struggles;pg36027.epub;Literary;Stephens| Ann S.'], ['A Speckled Bird;pg36029.epub;Literary;Evans| Augusta J.'], ['Hesperus- Forty-Five Dog-Post-Days: A Biography. Vol. I.;pg36071.epub;Literary;Paul| Jean'], ['Hesperus- Forty-Five Dog-Post-Days: A Biography. Vol. II.;pg36087.epub;Literary;Paul| Jean'], ['The Letter of Credit;pg36159.epub;Love and Romance;Warner| Susan'], ['Bijou;pg36199.epub;Literary;Gyp| '], ['The Shooting of Dan McGrew- A Novel. Based on the Famous Poem of Robert Service;pg36232.epub;Literary;Dana| Marvin| Service| Robert W.'], ['The Red Mouse: A Mystery Romance;pg36247.epub;Detective and Mystery;Osborne| William Hamilton'], ['The Invisible Lodge;pg36353.epub;Literary;Paul| Jean'], ['Faithful Margaret: A Novel;pg36360.epub;Literary;Simpson| Mrs. J. M.'], ['Zoe- Some Day: A Novel;pg36364.epub;Literary;Leonard| May'], ['Dangerous Ground- The Rival Detectives;pg36366.epub;Detective and Mystery;Lynch| Lawrence L.'], ['Wives and Widows- The Broken Life;pg36374.epub;Literary;Stephens| Ann S.'], ['The Turn of the Tide: The Story of How Margaret Solved Her Problem;pg36401.epub;Literary;Porter| Eleanor H.'], ['Titan: A Romance. v. 2 (of 2);pg36403.epub;Literary;Paul| Jean'], ['Jessamine: A Novel;pg36414.epub;Literary;Harland| Marion'], ['The Story of an Untold Love;pg36439.epub;Literary;Ford| Paul Leicester'], ['A Butterfly on the Wheel: A Novel;pg36467.epub;Literary;Hemmerde| Edward G.| Neilson| Francis| Thorne| Guy'], ['The Red Derelict;pg36588.epub;Sea and Adventure;Mitford| Bertram'], [\"Fordham's Feud;pg36593.epub;Literary;Mitford| Bertram\"], ['The Haunted Homestead: A Novel;pg36713.epub;Literary;Southworth| Emma Dorothy Eliza Nevitte'], [\"One Maid's Mischief;pg36723.epub;Literary;Fenn| George Manville\"], [\"Cynthia Wakeham's Money;pg36758.epub;Detective and Mystery;Green| Anna Katharine\"], ['Midnight Webs;pg36875.epub;Literary;Fenn| George Manville'], ['In Strange Company: A Story of Chili and the Southern Seas;pg37081.epub;Sea and Adventure;Boothby| Guy'], ['A Life For a Love: A Novel;pg37107.epub;Literary;Meade| L. T.'], ['The Ranchman;pg37204.epub;Western Stories;Seltzer| Charles Alden'], ['The Wayfarers;pg37208.epub;Literary;Cutting| Mary Stewart'], ['The Crime Doctor;pg37338.epub;Detective and Mystery;Hornung| E. W.'], ['Pray You- Sir- Whose Daughter?;pg37355.epub;Literary;Gardener| Helen H.'], ['The Empty Sack;pg37412.epub;Literary;King| Basil'], ['The Sin of Monsieur Pettipon- and other humorous tales;pg37430.epub;Humorous and Wit and Satire;Connell| Richard Edward'], ['Rough-Hewn;pg37451.epub;Literary;Fisher| Dorothy Canfield'], ['Daisy Thornton;pg37467.epub;Literary;Holmes| Mary Jane'], ['Jessie Graham;pg37476.epub;Literary;Holmes| Mary Jane'], ['The Debit Account;pg37479.epub;Literary;Onions| Oliver'], [\"The Gray Phantom's Return;pg37490.epub;Detective and Mystery;Landon| Herman\"], ['The Sins of the Children: A Novel;pg37664.epub;Literary;Hamilton| Cosmo'], ['Mavis of Green Hill;pg37710.epub;Love and Romance;Baldwin| Faith'], ['Notwithstanding;pg37781.epub;Literary;Cholmondeley| Mary'], ['The Open Question: A Tale of Two Temperaments;pg37827.epub;Literary;Robins| Elizabeth'], ['The Story of Louie;pg37838.epub;Literary;Onions| Oliver'], ['A Humble Enterprise;pg37866.epub;Literary;Cambridge| Ada'], ['The Gray Phantom;pg37913.epub;Detective and Mystery;Landon| Herman'], ['In Accordance with the Evidence;pg37919.epub;Literary;Onions| Oliver'], ['The Heatherford Fortune - a sequel to the Magic Cameo;pg38006.epub;Literary;Sheldon| Mrs. Georgie'], ['The Sailor;pg38186.epub;Literary;Snaith| J. C.'], ['Kenneth McAlpine: A Tale of Mountain- Moorland and Sea;pg38199.epub;Literary;Stables| Gordon'], ['The Making of William Edwards- The Story of the Bridge of Beauty;pg38212.epub;Literary;Banks| Mrs. G. Linnaeus'], ['Simon the Jester;pg3828.epub;Humorous and Wit and Satire;Locke| William John'], ['A Witch of the Hills- v. 1 [of 2];pg38291.epub;Literary;Warden| Florence'], ['A Witch of the Hills- v. 2 [of 2];pg38292.epub;Literary;Warden| Florence'], ['The Happy Warrior;pg38325.epub;Literary;Hutchinson| A. S. M.'], ['A Knight on Wheels;pg38368.epub;Literary;Hay| Ian'], ['Loaded Dice;pg38474.epub;Literary;Clark| Ellery H.'], ['Gargoyles;pg38489.epub;Literary;Hecht| Ben'], ['The Story of Charles Strange: A Novel. Vol. 1 (of 3);pg38623.epub;Literary;Wood| Mrs. Henry'], ['The Story of Charles Strange: A Novel. Vol. 2 (of 3);pg38624.epub;Literary;Wood| Mrs. Henry'], ['The Story of Charles Strange: A Novel. Vol. 3 (of 3);pg38625.epub;Literary;Wood| Mrs. Henry'], ['Miranda of the Balcony: A Story;pg38679.epub;Literary;Mason| A. E. W.'], ['The Truants;pg38685.epub;Literary;Mason| A. E. W.'], ['The Turnstile;pg38689.epub;Literary;Mason| A. E. W.'], ['The Maker of Opportunities;pg38702.epub;Literary;Gibbs| George'], ['A Singular Metamorphosis;pg38715.epub;Literary;Skiles| May Evelyn'], ['The Monctons: A Novel. Volume 2 (of 2);pg38798.epub;Literary;Moodie| Susanna'], ['Out of a Labyrinth;pg38888.epub;Detective and Mystery;Lynch| Lawrence L.'], [\"Mr. Marx's Secret;pg39018.epub;Detective and Mystery;Oppenheim| E. Phillips\"], ['The White Blackbird;pg39066.epub;Literary;Aitken| Robert'], ['Miser Farebrother: A Novel (vol. 1 of 3);pg39111.epub;Literary;Farjeon| B. L.'], ['It May Be True- Vol. 2 (of 3);pg39192.epub;Literary;Wood| Mrs. Henry'], ['It May Be True- Vol. 3 (of 3);pg39193.epub;Literary;Wood| Mrs. Henry'], ['Tales for Fifteen;pg39207.epub;Literary;Cooper| James Fenimore'], ['Mitchelhurst Place: A Novel. Vol. 1 (of 2);pg39345.epub;Literary;Veley| Margaret'], [\"Wyndham's Pal;pg39349.epub;Literary;Bindloss| Harold\"], ['Mabel: A Novel. Vol. 3 (of 3);pg39359.epub;Literary;Newby| Mrs. C. J.'], ['Mildred Arkell: A Novel. Vol. 2 (of 3);pg39377.epub;Literary;Wood| Mrs. Henry'], ['A Gamble with Life;pg39417.epub;Detective and Mystery;Hocking| Silas K.'], ['The Mysterious Wanderer- Vol. III - A Novel in Three Volumes;pg39425.epub;Literary;Reeve| Sophia'], ['Guy and Pauline;pg39556.epub;Literary;MacKenzie| Compton'], ['In the Hands of the Malays- and Other Stories;pg39616.epub;Sea and Adventure;Henty| G. A.'], ['Sylvia & Michael: The later adventures of Sylvia Scarlett;pg39660.epub;Literary;MacKenzie| Compton'], ['Mildred Arkell: A Novel. Vol. 1 (of 3);pg39692.epub;Literary;Wood| Mrs. Henry'], ['Mildred Arkell: A Novel. Vol. 3 (of 3);pg39693.epub;Literary;Wood| Mrs. Henry'], ['The Marriage of Esther;pg39731.epub;Literary;Boothby| Guy'], ['Vassall Morton: A Novel;pg39768.epub;Literary;Parkman| Francis'], ['A Sovereign Remedy;pg39813.epub;Literary;Steel| Flora Annie Webster'], ['Upsidonia;pg39905.epub;Humorous and Wit and Satire;Marshall| Archibald'], ['Ashton-Kirk- Secret Agent;pg39940.epub;Detective and Mystery;McIntyre| John Thomas'], ['In Silk Attire: A Novel;pg40111.epub;Literary;Black| William'], ['Fashion and Famine;pg40114.epub;Literary;Stephens| Ann S.'], [\"A Woman's Love;pg40180.epub;Literary;Opie| Amelia\"], ['Mabel: A Novel. Vol. 2 (of 3);pg40199.epub;Literary;Newby| Mrs. C. J.'], ['The Threatening Eye;pg40278.epub;Literary;Knight| E. F.'], ['True to a Type- Vol. 1 (of 2);pg40324.epub;Literary;Cleland| Robert'], ['True to a Type- Vol. 2 (of 2);pg40325.epub;Literary;Cleland| Robert'], ['The Coward Behind the Curtain;pg40347.epub;Literary;Marsh| Richard'], ['The Crime and the Criminal;pg40348.epub;Detective and Mystery;Marsh| Richard'], ['It May Be True- Vol. 1 (of 3);pg40418.epub;Literary;Wood| Mrs. Henry'], ['Miss Hildreth: A Novel- Volume 1;pg40431.epub;Literary;Stevens| Augusta de Grasse'], ['Miss Hildreth: A Novel- Volume 2;pg40432.epub;Literary;Stevens| Augusta de Grasse'], ['Miss Hildreth: A Novel- Volume 3;pg40433.epub;Literary;Stevens| Augusta de Grasse'], [\"Violet Forster's Lover;pg40450.epub;Literary;Marsh| Richard\"], ['Under One Flag;pg40451.epub;Literary;Marsh| Richard'], ['The Twickenham Peerage;pg40452.epub;Literary;Marsh| Richard'], ['The Garden of Survival;pg4046.epub;Ghost and Horror;Blackwood| Algernon'], [\"Black Star's Campaign: A Detective Story;pg40484.epub;Detective and Mystery;McCulley| Johnston\"], ['The Red Lottery Ticket;pg40491.epub;Detective and Mystery;Boisgobey| Fortunu'], ['The King of Diamonds: A Tale of Mystery and Adventure;pg40493.epub;Detective and Mystery;Tracy| Louis'], ['The Ordeal of Elizabeth;pg40495.epub;Literary;Anonymous'], ['The Splendid Fairing;pg40545.epub;Literary;Holme| Constance'], [\"Moth and Rust  Together with Geoffrey's Wife and The Pitfall;pg40566.epub;Literary;Cholmondeley| Mary\"], ['Prince Charlie;pg40611.epub;Literary;Delannoy| Burford'], ['The Hypocrite;pg40651.epub;Literary;Thorne| Guy'], ['The White Virgin;pg40672.epub;Literary;Fenn| George Manville'], ['The Tiger Lily;pg40673.epub;Literary;Fenn| George Manville'], ['Sawn Off: A Tale of a Family Tree;pg40674.epub;Literary;Fenn| George Manville'], ['Gretchen: A Novel;pg40702.epub;Literary;Holmes| Mary Jane'], ['Fighting Byng: A Novel of Mystery- Intrigue and Adventure;pg40821.epub;Detective and Mystery;Stone| A.'], ['The Adventures of Peregrine Pickle;pg4084.epub;Literary;Smollett| T.'], ['Meg- of Valencia;pg40926.epub;Literary;Jarrell| Myra Williams'], ['The Day of Temptation;pg40998.epub;Literary;Queux| William Le'], ['Stolen Souls;pg40999.epub;Literary;Queux| William Le'], ['The Sign of the Stranger;pg41089.epub;Detective and Mystery;Queux| William Le'], ['Rayton: A Backwoods Mystery;pg41122.epub;Literary;Roberts| Theodore Goodridge'], [\"Jenifer's Prayer;pg41191.epub;Literary;Crane| Oliver\"], ['The Eve of All-Hallows- Adelaide of Tyrconnel- v. 1 of 3;pg41212.epub;Literary;Hartstonge| Matthew Weld'], ['Ten Thousand a-Year. Volume 3.;pg41247.epub;Literary;Warren| Samuel'], ['The Arm-Chair at the Inn;pg41284.epub;Literary;Smith| Francis Hopkinson'], ['My Danish Sweetheart: A Novel. Volume 1 of 3;pg41313.epub;Sea and Adventure;Russell| William Clark'], ['My Danish Sweetheart: A Novel. Volume 2 of 3;pg41314.epub;Sea and Adventure;Russell| William Clark'], ['My Danish Sweetheart: A Novel. Volume 3 of 3;pg41315.epub;Sea and Adventure;Russell| William Clark'], ['Mrs. Dorriman: A Novel. Volume 1 of 3;pg41329.epub;Literary;Chetwynd| Mrs. Henry Wayland'], ['Mrs. Dorriman: A Novel. Volume 2 of 3;pg41330.epub;Literary;Chetwynd| Mrs. Henry Wayland'], ['Mrs. Dorriman: A Novel. Volume 3 of 3;pg41331.epub;Literary;Chetwynd| Mrs. Henry Wayland'], ['Ten Thousand a-Year. Volume 2.;pg41332.epub;Literary;Warren| Samuel'], ['Mount Royal: A Novel. Volume 1 of 3;pg41339.epub;Literary;Braddon| M. E.'], ['Mount Royal: A Novel. Volume 2 of 3;pg41340.epub;Literary;Braddon| M. E.'], ['Mount Royal: A Novel. Volume 3 of 3;pg41341.epub;Literary;Braddon| M. E.'], ['Mohawks: A Novel. Volume 1 of 3;pg41374.epub;Literary;Braddon| M. E.'], ['Mohawks: A Novel. Volume 2 of 3;pg41375.epub;Literary;Braddon| M. E.'], ['Mohawks: A Novel. Volume 3 of 3;pg41376.epub;Literary;Braddon| M. E.'], ['The Broken Thread;pg41459.epub;Detective and Mystery;Queux| William Le'], ['The Yazoo Mystery: A Novel;pg41483.epub;Literary;Craddock| Irving'], ['The Decadent: Being the Gospel of Inaction - Wherein Are Set Forth in Romance Form Certain Reflections Touching the Curious Characteristics of These Ultimate Years- and the Divers Causes Thereof;pg41490.epub;Literary;Cram| Ralph Adams'], ['The House Opposite: A Mystery;pg41525.epub;Detective and Mystery;Kent| Elizabeth'], ['Rose Clark;pg41542.epub;Literary;Fern| Fanny'], ['Mabel: A Novel. Vol. 1 (of 3);pg41564.epub;Literary;Newby| Mrs. C. J.'], ['A Fortnight of Folly;pg41660.epub;Literary;Conway| Hugh| Thompson| Maurice'], ['A Changed Heart: A Novel;pg41672.epub;Literary;Fleming| May Agnes'], ['Albrecht;pg41764.epub;Literary;Bates| Arlo'], ['Quintus Oakes: A Detective Story;pg41790.epub;Detective and Mystery;Jackson| Charles Ross'], ['The Last Miracle;pg41794.epub;Literary;Shiel| M. P.'], ['John Marvel- Assistant;pg41817.epub;Literary;Page| Thomas Nelson'], ['The Golden Bough;pg41844.epub;Literary;Gibbs| George'], ['The Terms of Surrender;pg41859.epub;Literary;Tracy| Louis'], ['Ragna;pg41863.epub;Literary;Costantini| Anna Miller'], ['A Fair Mystery: The Story of a Coquette;pg41932.epub;Literary;Brame| Charlotte M.'], ['The Debatable Land: A Novel;pg41963.epub;Literary;Colton| Arthur'], ['The Barrel Mystery;pg42010.epub;Detective and Mystery;Flynn| William J.'], ['The Eve of All-Hallows- Adelaide of Tyrconnel- v. 2 of 3;pg42095.epub;Literary;Hartstonge| Matthew Weld'], ['The Trail-Hunter: A Tale of the Far West;pg42115.epub;Western Stories;Aimard| Gustave'], ['The Pirates of the Prairies: Adventures in the American Desert;pg42117.epub;Western Stories;Aimard| Gustave'], ['The World Before Them: A Novel. Volume 2 (of 3);pg42145.epub;Literary;Moodie| Susanna'], ['The World Before Them: A Novel. Volume 1 (of 3);pg42165.epub;Literary;Moodie| Susanna'], ['The World Before Them: A Novel. Volume 3 (of 3);pg42174.epub;Literary;Moodie| Susanna'], ['The Shadow of a Sin;pg42320.epub;Literary;Brame| Charlotte M.'], ['Justin Wingate- Ranchman;pg42423.epub;Western Stories;Whitson| John Harvey'], ['Barbara Rebell;pg42462.epub;Literary;Lowndes| Marie Belloc'], ['Lady Eureka- The Mystery: A Prophecy of the Future. Volume 1;pg42491.epub;Literary;Williams| Robert Folkestone'], ['Lady Eureka- The Mystery: A Prophecy of the Future. Volume 2;pg42492.epub;Literary;Williams| Robert Folkestone'], ['Lady Eureka- The Mystery: A Prophecy of the Future. Volume 3;pg42493.epub;Literary;Williams| Robert Folkestone'], ['Miracle Gold: A Novel (Vol. 2 of 3);pg42496.epub;Literary;Dowling| Richard'], ['Miracle Gold: A Novel (Vol. 1 of 3);pg42498.epub;Literary;Dowling| Richard'], ['Miracle Gold: A Novel (Vol. 3 of 3);pg42499.epub;Literary;Dowling| Richard'], ['Blackthorn Farm;pg42519.epub;Literary;Applin| Arthur'], ['Narcissus;pg42533.epub;Literary;Scott| Evelyn'], ['The Narrow House;pg42534.epub;Literary;Scott| Evelyn'], ['Yonder;pg42536.epub;Literary;Young| E. H.'], ['The Deacon: An Original Comedy Drama in Five Acts;pg42581.epub;Literary;Dale| Horace C.'], ['Tales and Fantasies;pg426.epub;Literary;Stevenson| Robert Louis'], ['The Luminous Face;pg42714.epub;Detective and Mystery;Wells| Carolyn'], ['Tempest-Driven: A Romance (Vol. 1 of 3);pg42750.epub;Literary;Dowling| Richard'], ['Tempest-Driven: A Romance (Vol. 2 of 3);pg42751.epub;Literary;Dowling| Richard'], ['Tempest-Driven: A Romance (Vol. 3 of 3);pg42752.epub;Literary;Dowling| Richard'], ['Swords Reluctant;pg42763.epub;Literary;Pemberton| Max'], ['It Pays to Smile;pg42772.epub;Literary;Putnam| Nina Wilcox'], ['The Mystery of the Clasped Hands: A Novel;pg42807.epub;Detective and Mystery;Boothby| Guy'], ['Great Porter Square: A Mystery. v. 1;pg42905.epub;Detective and Mystery;Farjeon| B. L.'], ['Great Porter Square: A Mystery. v. 2;pg42906.epub;Detective and Mystery;Farjeon| B. L.'], ['Great Porter Square: A Mystery. v. 3;pg42907.epub;Detective and Mystery;Farjeon| B. L.'], ['The Last of Their Race;pg42926.epub;Literary;Swan| Annie S.'], [\"Guy Kenmore's Wife- and The Rose and the Lily;pg43037.epub;Literary;Miller| Mrs. Alex. McVeigh\"], ['Devota;pg43080.epub;Literary;Evans| Augusta J.'], [\"Hugh Crichton's Romance;pg43162.epub;Literary;Coleridge| Christabel R.\"], [\"Blade-O'-Grass. Golden Grain. and Bread and Cheese and Kisses.;pg43190.epub;Christmas Stories;Farjeon| B. L.\"], ['Mrs. Severn: A Novel- Vol. 1 (of 3);pg43449.epub;Literary;Carter| Mary Elizabeth'], [\"The Gypsy Queen's Vow;pg43489.epub;Literary;Fleming| May Agnes\"], ['Flora Adair- Love Works Wonders. Vol. 1 (of 2);pg43498.epub;Literary;Donelan| A. M.'], ['Flora Adair- Love Works Wonders. Vol. 2 (of 2);pg43499.epub;Literary;Donelan| A. M.'], ['The Adventurers;pg43716.epub;Sea and Adventure;Aimard| Gustave'], ['Munster Village;pg43743.epub;Literary;Hamilton| Lady Mary'], ['The Prairie Flower: A Tale of the Indian Border;pg43925.epub;Western Stories;Aimard| Gustave'], ['First Love: A Novel. Vol. 1 of 3;pg44018.epub;Literary;Loudon| Mrs.'], ['The Eve of All-Hallows- Adelaide of Tyrconnel- v. 3 of 3;pg44264.epub;Literary;Hartstonge| Matthew Weld'], ['Wanted: A Husband. A Novel;pg44326.epub;Literary;Adams| Samuel Hopkins'], ['The Bee Hunters: A Tale of Adventure;pg44375.epub;Sea and Adventure;Aimard| Gustave'], ['The Rebel Chief: A Tale of Guerilla Life;pg44421.epub;Literary;Aimard| Gustave'], ['The Smuggler Chief: A Novel;pg44454.epub;Sea and Adventure;Aimard| Gustave'], ['The Stoneground Ghost Tales - Compiled from the recollections of the reverend Roland Batchel- the vicar of the parish.;pg44581.epub;Ghost and Horror;Swain| E. G.'], ['Held to Answer: A Novel;pg44633.epub;Literary;MacFarlane| Peter Clark'], ['The Prodigal Village: A Christmas Tale;pg44796.epub;Christmas Stories;Bacheller| Irving'], [\"Little Golden's Daughter- The Dream of a Life Time;pg44803.epub;Literary;Miller| Mrs. Alex. McVeigh\"], [\"Kathleen's Diamonds- She Loved a Handsome Actor;pg44819.epub;Literary;Miller| Mrs. Alex. McVeigh\"], ['Wild Margaret;pg44828.epub;Literary;Garvice| Charles'], ['The Mark of Cain;pg44841.epub;Detective and Mystery;Wells| Carolyn'], ['The Man Who Fell Through the Earth;pg44872.epub;Detective and Mystery;Wells| Carolyn'], [\"A Man's World;pg44878.epub;Literary;Edwards| Albert\"], ['The Mystery Girl;pg44984.epub;Detective and Mystery;Wells| Carolyn'], ['A Mock Idyl;pg45042.epub;Literary;Ross| Percy'], ['The Red River Half-Breed: A Tale of the Wild North-West;pg45047.epub;Western Stories;Aimard| Gustave'], ['Farewell;pg45104.epub;Literary;Stacpoole| William Henry'], ['The Guide of the Desert;pg45401.epub;Western Stories;Aimard| Gustave'], ['The Insurgent Chief;pg45402.epub;Literary;Aimard| Gustave'], ['The Flying Horseman;pg45403.epub;Literary;Aimard| Gustave'], ['Deadwood Dick Jr. Branded- Red Rover at Powder Pocket.;pg45618.epub;Western Stories;Wheeler| Edward L.'], ['The Curved Blades;pg45622.epub;Detective and Mystery;Wells| Carolyn'], ['Stolen Idols;pg45636.epub;Detective and Mystery;Oppenheim| E. Phillips'], ['The House on the Moor- v. 1-3;pg45816.epub;Literary;Oliphant| Mrs.'], ['The House on the Moor- v. 2-3;pg45817.epub;Literary;Oliphant| Mrs.'], ['The House on the Moor- v. 3-3;pg45818.epub;Literary;Oliphant| Mrs.'], ['Pretty Geraldine- the New York Salesgirl- Wedded to Her Choice;pg45872.epub;Literary;Miller| Mrs. Alex. McVeigh'], ['The Vanishing of Betty Varian;pg45912.epub;Detective and Mystery;Wells| Carolyn'], ['The Room with the Tassels;pg46008.epub;Detective and Mystery;Wells| Carolyn'], ['The Deep Lake Mystery;pg46064.epub;Detective and Mystery;Wells| Carolyn'], ['The Romantic Lady;pg46217.epub;Literary;Arlen| Michael'], ['The Good Time Coming;pg4632.epub;Literary;Arthur| T. S.'], [\"Uncle William: The Man Who Was Shif'less;pg4634.epub;Literary;Lee| Jennette\"], ['Harry Blount- the Detective- The Martin Mystery Solved;pg46402.epub;Detective and Mystery;Flanagan| T. J.'], [\"White Wolf's Law: A Western Story;pg46457.epub;Western Stories;Dunning| Hal\"], ['Alone;pg46505.epub;Literary;Harland| Marion'], [\"God's Good Man: A Simple Love Story;pg4653.epub;Love and Romance;Corelli| Marie\"], ['The Crime Club;pg46566.epub;Detective and Mystery;Holt-White| W.'], [\"At War with Society- Tales of the Outcasts;pg46623.epub;Detective and Mystery;M'Levy| James\"], ['Outpost;pg4676.epub;Literary;Austin| Jane G.'], ['The Idol of the Blind: A Novel;pg47211.epub;Literary;Gallon| Tom'], ['A Country Sweetheart;pg47282.epub;Literary;Russell| Dora'], ['When Egypt Went Broke: A Novel;pg4733.epub;Literary;Day| Holman'], ['Kate Vernon: A Tale. Vol. 1 (of 3);pg47338.epub;Literary;Alexander| Mrs.'], ['At the Villa Rose;pg4745.epub;Detective and Mystery;Mason| A. E. W.'], ['The Fiction Factory - Being the experience of a writer who- for twenty-two years- has kept a story-mill grinding successfully;pg47455.epub;Literary;Cook| William Wallace'], ['Odette\\'s Marriage - A Novel- from the French of Albert Delpit- Translated from the \"Revue des Deux Mondes||\" by Emily Prescott;pg47697.epub;Literary;Delpit| Albert'], ['Sekhet;pg47744.epub;Literary;Miller| Irene'], ['Mirk Abbey- Volume 1 (of 3);pg47771.epub;Literary;Payn| James'], ['Mirk Abbey- Volume 2 (of 3);pg47772.epub;Literary;Payn| James'], ['Mirk Abbey- Volume 3 (of 3);pg47773.epub;Literary;Payn| James'], ['Half a Rogue;pg4790.epub;Literary;MacGrath| Harold'], ['Dawn;pg4794.epub;Literary;Adams| Mrs. H. A.'], [\"The Circassian Slave- the Sultan's favorite : a story of Constantinople and the Caucasus;pg4795.epub;Literary;Ballou| Maturin Murray\"], ['A Life for a Life- Volume 1 (of 3);pg47997.epub;Literary;Craik| Dinah Maria Mulock'], [\"A Soldier's Daughter- and Other Stories;pg48297.epub;Sea and Adventure;Henty| G. A.\"], ['A Life for a Life- Volume 2 (of 3);pg48482.epub;Literary;Craik| Dinah Maria Mulock'], ['A Life for a Life- Volume 3 (of 3);pg48483.epub;Literary;Craik| Dinah Maria Mulock'], ['Tinman;pg48989.epub;Literary;Gallon| Tom'], ['Hilda Wade- a Woman with Tenacity of Purpose;pg4903.epub;Literary;Allen| Grant'], ['The Lilac Sunbonnet: A Love Story;pg4918.epub;Love and Romance;Crockett| S. R.'], ['King Midas: a Romance;pg4923.epub;Literary;Sinclair| Upton'], ['The Fashionable Adventures of Joshua Craig: A Novel;pg4929.epub;Sea and Adventure;Phillips| David Graham'], ['The Spider and the Fly- An Undesired Love;pg49537.epub;Literary;Garvice| Charles'], ['Leah Mordecai: A Novel;pg4955.epub;Literary;Abbott| Belle K.'], ['Chetwynd Calverley - New Edition- 1877;pg49680.epub;Literary;Ainsworth| William Harrison'], ['The Desultory Man - Collection of Ancient and Modern British Novels and Romances. Vol. CXLVII.;pg49718.epub;Literary;James| G. P. R.'], ['The Forgery- Best Intentions.;pg50042.epub;Literary;James| G. P. R.'], ['Desert Gold;pg502.epub;Western Stories;Grey| Zane'], ['The Mystery of the Sycamore;pg50209.epub;Detective and Mystery;Wells| Carolyn'], [\"Leslie's Loyalty;pg50440.epub;Literary;Garvice| Charles\"], [\"De L'Orme. - The Works of G. P. R. James- Esq.|| Vol. XVI.;pg50688.epub;Literary;James| G. P. R.\"], ['The Romance of Elaine - Sequel to \"Exploits of Elaine\";pg5094.epub;Detective and Mystery;Reeve| Arthur B.'], ['Morley Ernstein- the Tenants of the Heart;pg51251.epub;Literary;James| G. P. R.'], ['The Fate: A Tale of Stirring Times;pg51455.epub;Literary;James| G. P. R.'], ['Margret Howth: A Story of To-day;pg515.epub;Literary;Davis| Rebecca Harding'], ['The Exploits of Elaine;pg5151.epub;Detective and Mystery;Reeve| Arthur B.'], ['Delaware- The Ruined Family. Vol. 1;pg51628.epub;Literary;James| G. P. R.'], ['Delaware- The Ruined Family. Vol. 2;pg51629.epub;Literary;James| G. P. R.'], ['Delaware- The Ruined Family. Vol. 3;pg51630.epub;Literary;James| G. P. R.'], ['Innocent : her fancy and his fact;pg5165.epub;Love and Romance;Corelli| Marie'], ['A Whim- and Its Consequences - Collection of British Authors Vol. CXIV;pg51715.epub;Literary;James| G. P. R.'], ['Corpus of a Siam Mosquito;pg5176.epub;Literary;Sills| Steven'], ['A Siren;pg5179.epub;Detective and Mystery;Trollope| Thomas Adolphus'], ['Daireen. Volume 1 of 2;pg51936.epub;Literary;Moore| Frank Frankfort'], ['Daireen. Volume 2 of 2;pg51937.epub;Literary;Moore| Frank Frankfort'], ['Daireen. Complete;pg51938.epub;Literary;Moore| Frank Frankfort'], ['Priscilla and Charybdis: A Story of Alternatives;pg51972.epub;Literary;Moore| Frank Frankfort'], ['Well- After All;pg51988.epub;Literary;Moore| Frank Frankfort'], ['The Confessions of Harry Lorrequer \\x97 Volume 1;pg5234.epub;Literary;Lever| Charles James'], ['The Confessions of Harry Lorrequer \\x97 Volume 2;pg5235.epub;Literary;Lever| Charles James'], ['The Confessions of Harry Lorrequer \\x97 Volume 3;pg5236.epub;Literary;Lever| Charles James'], ['The Confessions of Harry Lorrequer \\x97 Volume 4;pg5237.epub;Literary;Lever| Charles James'], ['The Confessions of Harry Lorrequer \\x97 Volume 5;pg5238.epub;Literary;Lever| Charles James'], ['The Confessions of Harry Lorrequer \\x97 Volume 6;pg5239.epub;Literary;Lever| Charles James'], ['The Confessions of Harry Lorrequer \\x97 Complete;pg5240.epub;Literary;Lever| Charles James'], ['Youth- a Narrative;pg525.epub;Sea and Adventure;Conrad| Joseph'], ['Kate Vernon: A Tale. Vol. 2 (of 3);pg53356.epub;Literary;Alexander| Mrs.'], ['The Touch of Abner;pg53604.epub;Literary;Cody| H. A.'], ['Kate Vernon: A Tale. Vol. 3 (of 3);pg53668.epub;Literary;Alexander| Mrs.'], [\"Baron Trigault's Vengeance;pg547.epub;Detective and Mystery;Gaboriau| Emile\"], ['At Last: A Novel;pg5622.epub;Literary;Harland| Marion'], ['The Potato Child & Others;pg5662.epub;Christmas Stories;Woodbury| Lucia Prudence Hall'], ['The Prose of Alfred Lichtenstein;pg5663.epub;Literary;Lichtenstein| Alfred'], ['The Queen of Sheba- and My Cousin the Colonel;pg5705.epub;Literary;Aldrich| Thomas Bailey'], ['The Flyers;pg5848.epub;Literary;McCutcheon| George Barr'], [\"Michael's Crag;pg5869.epub;Literary;Allen| Grant\"], [\"Danny's Own Story;pg587.epub;Humorous and Wit and Satire;Marquis| Don\"], ['Celibates;pg6005.epub;Literary;Moore| George Augustus'], ['Opening a Chestnut Burr;pg6028.epub;Literary;Roe| Edward Payson'], ['Fran;pg6057.epub;Literary;Ellis| J. Breckenridge'], ['Philistia;pg6060.epub;Literary;Allen| Grant'], ['From Jest to Earnest;pg6102.epub;Literary;Roe| Edward Payson'], ['Their Yesterdays;pg6105.epub;Love and Romance;Wright| Harold Bell'], ['A Day of Fate;pg6113.epub;Love and Romance;Roe| Edward Payson'], ['No Defense- Volume 1.;pg6292.epub;Literary;Parker| Gilbert'], ['No Defense- Volume 2.;pg6293.epub;Literary;Parker| Gilbert'], ['No Defense- Volume 3.;pg6294.epub;Literary;Parker| Gilbert'], ['No Defense- Complete;pg6295.epub;Literary;Parker| Gilbert'], [\"Carnac's Folly- Volume 1.;pg6296.epub;Literary;Parker| Gilbert\"], [\"Carnac's Folly- Volume 2.;pg6297.epub;Literary;Parker| Gilbert\"], [\"Carnac's Folly- Volume 3.;pg6298.epub;Literary;Parker| Gilbert\"], [\"Carnac's Folly- Complete;pg6299.epub;Literary;Parker| Gilbert\"], ['A Knight of the Nineteenth Century;pg6311.epub;Literary;Roe| Edward Payson'], ['Self-Raised- From the Depths;pg6376.epub;Literary;Southworth| Emma Dorothy Eliza Nevitte'], ['Once Aboard the Lugger-- The History of George and his Mary;pg6410.epub;Humorous and Wit and Satire;Hutchinson| A. S. M.'], ['The Iron Woman;pg6474.epub;Literary;Deland| Margaret Wade Campbell'], ['The Grey Lady;pg6517.epub;Literary;Merriman| Henry Seton'], ['Any Coincidence Is - The Day Julia & Cecil the Cat Faced a Fate Worse Than Death;pg6526.epub;Literary;Callahan| Daniel'], [\"Si'Wren of the Patriarchs;pg6592.epub;Literary;Cheney| Roland Jon\"], [\"The Doctor's Daughter;pg6809.epub;Literary;Vera|\"], ['Creatures That Once Were Men;pg681.epub;Literary;Gorky| Maksim'], ['Average Jones;pg6864.epub;Detective and Mystery;Adams| Samuel Hopkins'], ['The Happy Adventurers;pg6901.epub;Literary;Middleton| Lydia Miller'], ['Aikenside;pg6954.epub;Literary;Holmes| Mary Jane'], ['A Terrible Secret: A Novel;pg7063.epub;Literary;Fleming| May Agnes'], ['Fanshawe;pg7085.epub;Literary;Hawthorne| Nathaniel'], ['The Dolliver Romance;pg7119.epub;Literary;Hawthorne| Nathaniel'], ['Linda Condon;pg7171.epub;Literary;Hergesheimer| Joseph'], [\"Doctor Grimshawe's Secret \\x97 a Romance;pg7183.epub;Literary;Hawthorne| Nathaniel\"], ['A Psychological Counter-Current in Recent Fiction;pg726.epub;Literary;Howells| William Dean'], ['The Wishing-Ring Man;pg7424.epub;Literary;Widdemer| Margaret'], ['Falkland- Book 1.;pg7757.epub;Literary;Lytton| Baron Edward Bulwer Lytton'], ['Falkland- Book 2.;pg7758.epub;Literary;Lytton| Baron Edward Bulwer Lytton'], ['Falkland- Book 3.;pg7759.epub;Literary;Lytton| Baron Edward Bulwer Lytton'], ['Falkland- Book 4.;pg7760.epub;Literary;Lytton| Baron Edward Bulwer Lytton'], ['Falkland- Complete;pg7761.epub;Literary;Lytton| Baron Edward Bulwer Lytton'], [\"Fan : The Story of a Young Girl's Life;pg7827.epub;Literary;Hudson| W. H.\"], ['The Rise of Iskander;pg7842.epub;Literary;Disraeli| Earl of Beaconsfield Benjamin'], ['The Vision of Desire;pg7855.epub;Literary;Pedler| Margaret'], ['An Ambitious Man;pg7866.epub;Literary;Wilcox| Ella Wheeler'], ['A Fool for Love;pg8073.epub;Literary;Lynde| Francis'], ['A Fountain Sealed;pg8087.epub;Literary;Sedgwick| Anne Douglas'], ['The Misses Mallett (The Bridge Dividing);pg8131.epub;Literary;Young| E. H.'], ['The Ghost of Guir House;pg8182.epub;Ghost and Horror;Beale| Charles Willing'], ['Monsieur Maurice;pg8383.epub;Literary;Edwards| Amelia Ann Blanford'], ['Ptomaine Street: The Tale of Warble Petticoat;pg8386.epub;Literary;Wells| Carolyn'], ['The Gentleman: A Romance of the Sea;pg8396.epub;Sea and Adventure;Ollivant| Alfred'], [\"Young People's Pride: A Novel;pg8403.epub;Literary;Ben Stephen Vincent\"], ['Rest Harrow: A Comedy of Resolution;pg8464.epub;Literary;Hewlett| Maurice'], ['The Puritans;pg8522.epub;Literary;Bates| Arlo'], ['The Woman with the Fan;pg8549.epub;Literary;Hichens| Robert'], ['The Far Horizon;pg8569.epub;Literary;Malet| Lucas'], ['The Philistines;pg8570.epub;Literary;Bates| Arlo'], [\"The Wheel O' Fortune;pg8596.epub;Literary;Tracy| Louis\"], ['The Pagans;pg8671.epub;Literary;Bates| Arlo'], ['The Living Link: A Novel;pg8711.epub;Literary;Mille| James De'], ['The Brass Bowl;pg8741.epub;Literary;Vance| Louis Joseph'], ['From One Generation to Another;pg8805.epub;Literary;Merriman| Henry Seton'], [\"Miss Theodosia's Heartstrings;pg8865.epub;Literary;Donnell| Annie Hamilton\"], ['A Love Story;pg8883.epub;Literary;Christie| William Harvey'], ['Three Weeks;pg8899.epub;Love and Romance;Glyn| Elinor'], ['The Golden Calf;pg9052.epub;Literary;Braddon| M. E.'], ['Eleanor;pg9087.epub;Literary;Ward| Mrs. Humphry'], ['The Bride of Dreams;pg9111.epub;Literary;Eeden| Frederik van'], ['Henry Dunbar: A Novel;pg9189.epub;Literary;Braddon| M. E.'], [\"Charlotte's Inheritance;pg9259.epub;Literary;Braddon| M. E.\"], [\"One Day's Courtship- and The Heralds of Fame;pg9305.epub;Literary;Barr| Robert\"], [\"Hetty's Strange History;pg9311.epub;Literary;Jackson| Helen Hunt\"], ['Birds of Prey;pg9362.epub;Literary;Braddon| M. E.'], ['A Woman Intervenes;pg9379.epub;Literary;Barr| Robert'], ['Theresa Marchmont- the Maid of Honour: A Tale;pg9387.epub;Literary;Gore| Mrs.'], ['Helen of the Old House;pg9410.epub;Literary;Wright| Harold Bell'], ['The Ashiel mystery: A Detective Story;pg9746.epub;Detective and Mystery;Bryce| Mrs. Charles'], ['The Fortune Hunter;pg9747.epub;Literary;Smith| Winchell| Vance| Louis Joseph'], ['Scarhaven Keep;pg9807.epub;Detective and Mystery;Fletcher| J. S.'], ['The Price of Things;pg9809.epub;Literary;Glyn| Elinor'], ['The Brown Mask;pg9849.epub;Sea and Adventure;Brebner| Percy James'], ['The Two Guardians - Home in This World;pg9926.epub;Literary;Yonge| Charlotte M.'], ['The Bronze Bell;pg9927.epub;Sea and Adventure;Vance| Louis Joseph'], ['Mr. Waddington of Wyck;pg9967.epub;Literary;Sinclair| May'], ['Captivating Mary Carstairs;pg9993.epub;Literary;Harrison| Henry Sydnor'], ['Persuasion;pg105JaneAusPersuatn.epub;Literary;Austen| Jane'], ['Return of Sherlock Holmes;pg108DoyleReturnSherlk.epub;Detective and Mystery;Connan| Doyle'], ['The Secret Adversary;pg1155Agatha2.epub;Detective and Mystery;Christie| Agatha'], [\"Alice's Adventures in Wonderland;pg11CarolAlice.epub;Literary;Carroll| Lewis\"], ['Through the Looking-Glass;pg12CarolGlassLook.epub;Literary;Carroll| Lewis'], ['Pride and Prejudice;pg1342JaneAustenPP.epub;Literary;Austen| Jane'], ['Mardi: and A Voyage Thither I;pg13720HermanVoyage1.epub;Sea and Adventure;Melville| Herman'], ['Mardi: and A Voyage Thither ||;pg13721HermanVoyage2.epub;Sea and Adventure;Melville| Herman'], ['Great Expectations;pg1400DickensGreatExp.epub;Literary;Dickens| Charles'], ['Mansfield Park;pg141JaneAusMansPark.epub;Literary;Austen| Jane'], ['Emma;pg158JaneAustenEmma.epub;Literary;Austen| Jane'], ['Sense and Sensibility;pg161SJaneAusSensSensi.epub;Literary;Austen| Jane'], ['A Christmas Carol;pg19337DickensChristCarl.epub;Christmas Stories;Dickens| Charles'], ['The Sign of Four;pg2097DoyleSignFour.epub;Detective and Mystery;Connan| Doyle'], ['The Works of Edgar Allan Poe I;pg2147EdgarPoe1.epub;Detective and Mystery;Poe| Edgar Allan'], ['The Works of Edgar Allan Poe II;pg2148EdgarPoe2.epub;Detective and Mystery;Poe| Edgar Allan'], ['The Works of Edgar Allan Poe III;pg2149EdgarPoe3.epub;Detective and Mystery;Poe| Edgar Allan'], ['The Works of Edgar Allan Poe IV;pg2150EdgarPoe4.epub;Detective and Mystery;Poe| Edgar Allan'], ['The Confidence-Man;pg21816HermanConfidence.epub;Literary;Melville| Herman'], ['Five Tales;pg2684Galsw4.epub;Literary;Galsworthy| John'], ['Moby Dick;pg2701HermanMobyDick.epub;Sea and Adventure;Melville| Herman'], ['The Hound of the Baskervilles;pg2852DoyleHound.epub;Detective and Mystery;Connan| Doyle'], ['A Tangled Tale;pg29042CarolTangTale.epub;Literary;Carroll| Lewis'], ['Justice;pg2911Galsw2.epub;Literary;Galsworthy| John'], ['The Little Man;pg2919Galsw5.epub;Literary;Galsworthy| John'], ['Pierre or The Ambiguities;pg34970HermanPierre.epub;Literary;Melville| Herman'], ['Omoo Adventures in the South Seas;pg4045HermanOmmo.epub;Sea and Adventure;Melville| Herman'], ['The Forsyte Saga;pg4397Galsw1.epub;Literary;Galsworthy| John'], ['The Game of Logic;pg4763CarolLogik.epub;Literary;Carroll| Lewis'], ['Loyalties;pg4765Galsw3.epub;Literary;Galsworthy| John'], ['Tales of Terror and Mystery;pg537DoyleTerrorTales.epub;Detective and Mystery;Connan| Doyle'], ['Sylvie and Bruno;pg620CarolBruno.epub;Literary;Carroll| Lewis'], ['Oliver Twist;pg730DickensOliverTw.epub;Literary;Dickens| Charles'], ['David Copperfield;pg766DickensDavidCopfld.epub;Literary;Dickens| Charles'], ['Hard Times;pg786DickensHardTimes.epub;Literary;Dickens| Charles'], ['Memoirs of Shelock Holmes;pg834DoyleMemoirsSherlk.epub;Detective and Mystery;Connan| Doyle'], ['The Mysterious Affair at Styles;pg863Agatha1.epub;Detective and Mystery;Christie| Agatha'], ['A Tale of Two Cities;pg98DickensTaleCities.epub;Literary;Dickens| Charles']]\n"
          ],
          "name": "stdout"
        }
      ]
    },
    {
      "cell_type": "code",
      "metadata": {
        "id": "OYNyooxxysBl",
        "colab_type": "code",
        "colab": {
          "base_uri": "https://localhost:8080/",
          "height": 34
        },
        "outputId": "ce68286d-e3cd-496a-f955-8afa39f213f6"
      },
      "source": [
        "import os\n",
        "os.chdir(\"/content\")\n",
        "os.getcwd()"
      ],
      "execution_count": null,
      "outputs": [
        {
          "output_type": "execute_result",
          "data": {
            "text/plain": [
              "'/content'"
            ]
          },
          "metadata": {
            "tags": []
          },
          "execution_count": 48
        }
      ]
    },
    {
      "cell_type": "markdown",
      "metadata": {
        "id": "FyV5tEYdleAp",
        "colab_type": "text"
      },
      "source": [
        "## Feature Extraction from the Books"
      ]
    },
    {
      "cell_type": "code",
      "metadata": {
        "id": "B2DKvhLK9ARS",
        "colab_type": "code",
        "colab": {}
      },
      "source": [
        "\n",
        "pr_list = [] \n",
        "feature_list = []  \n",
        "#Please change file path\n",
        "file_path = '/gdrive/My Drive/Gutenberg_19th_century_English_Fiction'\n",
        "import os\n",
        "os.chdir(\"/content\")\n",
        "pr_list = [] \n",
        "feature_list = []\n",
        "personal_pronoun = 0\n",
        "male_pronoun = ['He', 'His', 'Him', 'Himself']\n",
        "male_pronoun_count = 0 \n",
        "female_pronoun = ['She','Her','Hers', 'Herself']\n",
        "female_pronoun_count = 0\n",
        "possessive_pronoun = ['Mine','Yours','Hers', 'His', 'Ours', 'Yours', 'Theirs']\n",
        "possessive_pronoun_count  = 0\n",
        "paragraph_count = 0\n",
        "prepositions = 0\n",
        "cordinating_conjunction = ['For', 'And', 'Nor', 'But', 'Or', 'Yet', 'So']\n",
        "conjuction_count = 0\n",
        "books  = 0\n",
        "index = 0\n",
        "for book_details in csvInput:\n",
        "    if index == 0:\n",
        "      index = index + 1\n",
        "      continue\n",
        "    print(book_details)\n",
        "    #Getting the file name from CSV\n",
        "    a_split = book_details[0].split(';')\n",
        "    file_name = a_split[1]\n",
        "    if \".\" in a_split[1]:\n",
        "      file_name = file_name.split('.')[0]\n",
        "    #attaching the filename to filepath\n",
        "    file_path_new = file_path +'/'+ file_name + '-content.html'\n",
        "    #Loading HTML content\n",
        "    html = open(file_path_new, encoding=\"UTF-8\").read()\n",
        "    soup = BeautifulSoup(html, features=\"lxml\")\n",
        "    all_p = soup.find_all('p')\n",
        "    \n",
        "    \n",
        "    #Extracting feature of pronouns - Counts of pronouns\n",
        "    for p in all_p:\n",
        "      wiki = TextBlob(p.getText())\n",
        "      string = str(wiki)\n",
        "      colon = string.count(\":\")\n",
        "      semicolon = string.count(\";\")\n",
        "      hypen = string.count(\"-\")\n",
        "      interjection = string.count(\"!\")\n",
        "      comma = string.count(\",\")\n",
        "      period = string.count(\".\")\n",
        "\n",
        "\n",
        "      paragraph_count = paragraph_count + 1\n",
        "\n",
        "      for word in wiki.tags:\n",
        "\n",
        "        if word[1] == 'PRP' or word[1] == 'PRP$':\n",
        "          personal_pronoun = personal_pronoun + 1\n",
        "\n",
        "        if word[0] in male_pronoun:\n",
        "          male_pronoun_count = male_pronoun_count + 1\n",
        "\n",
        "        if word[0] in female_pronoun:\n",
        "          female_pronoun_count = female_pronoun_count + 1\n",
        "\n",
        "        if word[0] in possessive_pronoun:\n",
        "          possessive_pronoun_count = possessive_pronoun_count + 1\n",
        "        \n",
        "        if word[0] in cordinating_conjunction:\n",
        "          conjuction_count = conjuction_count + 1\n",
        "\n",
        "        if word[1] in ['IN']:\n",
        "          prepositions = prepositions + 1\n",
        "\n",
        "\n",
        "\n",
        "    # New features extraction need to be added here\n",
        "    #Adding pronoun count and Label to list \n",
        "    pr_list.append(paragraph_count)\n",
        "    pr_list.append(female_pronoun_count)\n",
        "    pr_list.append(male_pronoun_count)\n",
        "    pr_list.append(personal_pronoun)\n",
        "    pr_list.append(possessive_pronoun_count)\n",
        "    pr_list.append(conjuction_count)\n",
        "    pr_list.append(prepositions)\n",
        "    pr_list.append(comma)\n",
        "    pr_list.append(period)\n",
        "    pr_list.append(colon)\n",
        "    pr_list.append(semicolon)\n",
        "    pr_list.append(hypen)\n",
        "    pr_list.append(interjection)\n",
        "\n",
        "    if a_split[2] == \"Literary\":\n",
        "      pr_list.append(1)\n",
        "    elif a_split[2] == \"Detective and Mystery\":\n",
        "      pr_list.append(2)\n",
        "    elif a_split[2] == \"Western Stories\":\n",
        "      pr_list.append(3)   \n",
        "    elif a_split[2] == \"Ghost and Horror\":\n",
        "      pr_list.append(4)  \n",
        "    elif a_split[2] == \"Humorous and Wit and Satire\":\n",
        "      pr_list.append(5)\n",
        "    elif a_split[2] == \"Christmas Stories\":\n",
        "      pr_list.append(6)\n",
        "    elif a_split[2] == \"Love and Romance\":\n",
        "      pr_list.append(7)\n",
        "    elif a_split[2] == \"Sea and Adventure\":\n",
        "      pr_list.append(8)\n",
        "    elif a_split[2] == \"Allegories\":\n",
        "      pr_list.append(9)\n",
        "    elif a_split[2] == \"All\":\n",
        "      pr_list.append(10)\n",
        "\n",
        "\n",
        "    print(pr_list)\n",
        "    feature_list.append(pr_list)\n",
        "    pr_list = []\n",
        "    personal_pronoun = 0\n",
        "    male_pronoun_count = 0 \n",
        "    female_pronoun_count = 0\n",
        "    possessive_pronoun_count  = 0\n",
        "    paragraph_count = 0\n",
        "    prepositions = 0\n",
        "    conjuction_count = 0\n",
        "    \n",
        "\n",
        "    #if(books == 3):\n",
        "   \n",
        "print(feature_list)\n",
        "# Printing features to CSV\n",
        "outputDataFrame = pd.DataFrame(feature_list, columns=['f0','f1','f2','f3','f4','f6','f5','f7','f8','f9','f10','f11','f12','label'])\n",
        "output_file_path = 'feature.csv'\n",
        "outputDataFrame.to_csv(output_file_path, index =  True, header=True, encoding=\"utf-8\") \n"
      ],
      "execution_count": null,
      "outputs": []
    },
    {
      "cell_type": "markdown",
      "metadata": {
        "id": "JJuJ7kMjChS5",
        "colab_type": "text"
      },
      "source": [
        "## Feature Scaling"
      ]
    },
    {
      "cell_type": "code",
      "metadata": {
        "id": "rX45hK-LyVZc",
        "colab_type": "code",
        "colab": {
          "base_uri": "https://localhost:8080/",
          "height": 241
        },
        "outputId": "ecf95343-a6a7-4500-c705-6962d54b5409"
      },
      "source": [
        "#from sklearn.preprocessing import MinMaxScalar\n",
        "from sklearn.preprocessing import StandardScaler\n",
        "import pandas as pd\n",
        "dataset = pd.read_csv('/content/feature.csv')\n",
        "\n",
        "data = dataset.iloc[0:,1:-1]\n",
        "label = dataset.iloc[0:,-1]\n",
        "\n",
        "sc = StandardScaler()\n",
        "data = sc.fit_transform(data)\n",
        "data\n"
      ],
      "execution_count": 2,
      "outputs": [
        {
          "output_type": "execute_result",
          "data": {
            "text/plain": [
              "array([[ 0.44962041, -0.8563035 ,  0.03601265, ..., -0.18264687,\n",
              "        -0.47613168,  1.05742491],\n",
              "       [-1.3154065 , -0.8706005 , -0.9765783 , ..., -0.18264687,\n",
              "        -0.47613168, -0.38927181],\n",
              "       [ 1.52440354,  1.63614099,  1.16299672, ...,  0.24438665,\n",
              "        -0.47613168, -0.38927181],\n",
              "       ...,\n",
              "       [ 0.25078115, -0.69427078,  0.1419322 , ..., -0.18264687,\n",
              "        -0.47613168, -0.38927181],\n",
              "       [ 0.66860637, -0.14145326, -0.21819428, ..., -0.18264687,\n",
              "         0.93107055, -0.38927181],\n",
              "       [-1.21204512, -0.92302285, -1.06555073, ..., -0.18264687,\n",
              "        -0.47613168, -0.38927181]])"
            ]
          },
          "metadata": {
            "tags": []
          },
          "execution_count": 2
        }
      ]
    },
    {
      "cell_type": "markdown",
      "metadata": {
        "id": "tIppDiURDFJQ",
        "colab_type": "text"
      },
      "source": [
        "## Splitting into train and test"
      ]
    },
    {
      "cell_type": "code",
      "metadata": {
        "id": "yfDqEJPJ41LH",
        "colab_type": "code",
        "colab": {}
      },
      "source": [
        "from sklearn.model_selection import train_test_split\n",
        "\n",
        "x_train, x_test, y_train, y_test = train_test_split(data, label, test_size=0.33, random_state=45)"
      ],
      "execution_count": 69,
      "outputs": []
    },
    {
      "cell_type": "code",
      "metadata": {
        "id": "9K6FfY8EiQss",
        "colab_type": "code",
        "colab": {
          "base_uri": "https://localhost:8080/",
          "height": 34
        },
        "outputId": "a697657d-3f0f-451e-bd89-a3cb676ec006"
      },
      "source": [
        "x_train.shape"
      ],
      "execution_count": 4,
      "outputs": [
        {
          "output_type": "execute_result",
          "data": {
            "text/plain": [
              "(667, 13)"
            ]
          },
          "metadata": {
            "tags": []
          },
          "execution_count": 4
        }
      ]
    },
    {
      "cell_type": "markdown",
      "metadata": {
        "id": "ospeap2yDa_s",
        "colab_type": "text"
      },
      "source": [
        "## Combining Training data with its labels"
      ]
    },
    {
      "cell_type": "code",
      "metadata": {
        "id": "9cRtgqAXDUMy",
        "colab_type": "code",
        "colab": {
          "base_uri": "https://localhost:8080/",
          "height": 413
        },
        "outputId": "07bb4368-a098-4410-d099-99c697d941eb"
      },
      "source": [
        "import numpy as np\n",
        "x_train = np.array(x_train)\n",
        "y_train = np.array(y_train)\n",
        "\n",
        "train_data = np.column_stack((x_train, y_train))\n",
        "train_data.shape\n",
        "\n",
        "train_data = pd.DataFrame(train_data)\n",
        "\n",
        "#train_data = np.concatenate((x_train,y_train), axis = 0)\n",
        "\n",
        "#pd.concat([x_train, pd.DataFrame(y_train)])\n",
        "train_data"
      ],
      "execution_count": 73,
      "outputs": [
        {
          "output_type": "execute_result",
          "data": {
            "text/html": [
              "<div>\n",
              "<style scoped>\n",
              "    .dataframe tbody tr th:only-of-type {\n",
              "        vertical-align: middle;\n",
              "    }\n",
              "\n",
              "    .dataframe tbody tr th {\n",
              "        vertical-align: top;\n",
              "    }\n",
              "\n",
              "    .dataframe thead th {\n",
              "        text-align: right;\n",
              "    }\n",
              "</style>\n",
              "<table border=\"1\" class=\"dataframe\">\n",
              "  <thead>\n",
              "    <tr style=\"text-align: right;\">\n",
              "      <th></th>\n",
              "      <th>0</th>\n",
              "      <th>1</th>\n",
              "      <th>2</th>\n",
              "      <th>3</th>\n",
              "      <th>4</th>\n",
              "      <th>5</th>\n",
              "      <th>6</th>\n",
              "      <th>7</th>\n",
              "      <th>8</th>\n",
              "      <th>9</th>\n",
              "      <th>10</th>\n",
              "      <th>11</th>\n",
              "      <th>12</th>\n",
              "      <th>13</th>\n",
              "    </tr>\n",
              "  </thead>\n",
              "  <tbody>\n",
              "    <tr>\n",
              "      <th>0</th>\n",
              "      <td>0.588020</td>\n",
              "      <td>0.649648</td>\n",
              "      <td>0.226668</td>\n",
              "      <td>1.302164</td>\n",
              "      <td>-0.318939</td>\n",
              "      <td>-0.236550</td>\n",
              "      <td>0.981253</td>\n",
              "      <td>0.610961</td>\n",
              "      <td>-0.195770</td>\n",
              "      <td>-0.262533</td>\n",
              "      <td>-0.182647</td>\n",
              "      <td>-0.476132</td>\n",
              "      <td>-0.389272</td>\n",
              "      <td>1.0</td>\n",
              "    </tr>\n",
              "    <tr>\n",
              "      <th>1</th>\n",
              "      <td>-0.315955</td>\n",
              "      <td>-0.365440</td>\n",
              "      <td>0.124985</td>\n",
              "      <td>-0.698457</td>\n",
              "      <td>0.201288</td>\n",
              "      <td>-0.749895</td>\n",
              "      <td>-0.723940</td>\n",
              "      <td>-0.084090</td>\n",
              "      <td>-0.195770</td>\n",
              "      <td>-0.262533</td>\n",
              "      <td>-0.182647</td>\n",
              "      <td>-0.476132</td>\n",
              "      <td>-0.389272</td>\n",
              "      <td>8.0</td>\n",
              "    </tr>\n",
              "    <tr>\n",
              "      <th>2</th>\n",
              "      <td>-0.968533</td>\n",
              "      <td>-0.956383</td>\n",
              "      <td>-0.942684</td>\n",
              "      <td>-0.691363</td>\n",
              "      <td>-0.839166</td>\n",
              "      <td>-0.725113</td>\n",
              "      <td>0.279457</td>\n",
              "      <td>-0.257853</td>\n",
              "      <td>-0.294001</td>\n",
              "      <td>-0.262533</td>\n",
              "      <td>-0.182647</td>\n",
              "      <td>-0.476132</td>\n",
              "      <td>1.057425</td>\n",
              "      <td>1.0</td>\n",
              "    </tr>\n",
              "    <tr>\n",
              "      <th>3</th>\n",
              "      <td>-1.007950</td>\n",
              "      <td>-0.903960</td>\n",
              "      <td>-1.184181</td>\n",
              "      <td>-0.401037</td>\n",
              "      <td>-1.196822</td>\n",
              "      <td>-0.293195</td>\n",
              "      <td>0.433532</td>\n",
              "      <td>0.263436</td>\n",
              "      <td>0.000690</td>\n",
              "      <td>-0.262533</td>\n",
              "      <td>0.671420</td>\n",
              "      <td>-0.476132</td>\n",
              "      <td>-0.389272</td>\n",
              "      <td>8.0</td>\n",
              "    </tr>\n",
              "    <tr>\n",
              "      <th>4</th>\n",
              "      <td>-0.688231</td>\n",
              "      <td>-0.327314</td>\n",
              "      <td>-0.730845</td>\n",
              "      <td>0.107293</td>\n",
              "      <td>-0.839166</td>\n",
              "      <td>0.074997</td>\n",
              "      <td>-0.437255</td>\n",
              "      <td>0.031752</td>\n",
              "      <td>0.197151</td>\n",
              "      <td>2.136394</td>\n",
              "      <td>-0.182647</td>\n",
              "      <td>0.227469</td>\n",
              "      <td>-0.389272</td>\n",
              "      <td>1.0</td>\n",
              "    </tr>\n",
              "    <tr>\n",
              "      <th>...</th>\n",
              "      <td>...</td>\n",
              "      <td>...</td>\n",
              "      <td>...</td>\n",
              "      <td>...</td>\n",
              "      <td>...</td>\n",
              "      <td>...</td>\n",
              "      <td>...</td>\n",
              "      <td>...</td>\n",
              "      <td>...</td>\n",
              "      <td>...</td>\n",
              "      <td>...</td>\n",
              "      <td>...</td>\n",
              "      <td>...</td>\n",
              "      <td>...</td>\n",
              "    </tr>\n",
              "    <tr>\n",
              "      <th>662</th>\n",
              "      <td>2.200632</td>\n",
              "      <td>-0.098562</td>\n",
              "      <td>-0.065670</td>\n",
              "      <td>0.923425</td>\n",
              "      <td>-0.286425</td>\n",
              "      <td>0.740575</td>\n",
              "      <td>0.394786</td>\n",
              "      <td>-0.199932</td>\n",
              "      <td>-0.294001</td>\n",
              "      <td>2.136394</td>\n",
              "      <td>-0.182647</td>\n",
              "      <td>-0.476132</td>\n",
              "      <td>-0.389272</td>\n",
              "      <td>1.0</td>\n",
              "    </tr>\n",
              "    <tr>\n",
              "      <th>663</th>\n",
              "      <td>0.804378</td>\n",
              "      <td>2.879980</td>\n",
              "      <td>1.684121</td>\n",
              "      <td>2.402220</td>\n",
              "      <td>1.826997</td>\n",
              "      <td>2.156698</td>\n",
              "      <td>1.379264</td>\n",
              "      <td>-0.257853</td>\n",
              "      <td>-0.195770</td>\n",
              "      <td>-0.262533</td>\n",
              "      <td>-0.182647</td>\n",
              "      <td>-0.476132</td>\n",
              "      <td>-0.389272</td>\n",
              "      <td>1.0</td>\n",
              "    </tr>\n",
              "    <tr>\n",
              "      <th>664</th>\n",
              "      <td>-0.069814</td>\n",
              "      <td>0.196909</td>\n",
              "      <td>-0.413086</td>\n",
              "      <td>-0.050673</td>\n",
              "      <td>-0.579053</td>\n",
              "      <td>0.007731</td>\n",
              "      <td>-0.246981</td>\n",
              "      <td>-0.199932</td>\n",
              "      <td>-0.195770</td>\n",
              "      <td>-0.262533</td>\n",
              "      <td>0.244387</td>\n",
              "      <td>-0.476132</td>\n",
              "      <td>-0.389272</td>\n",
              "      <td>1.0</td>\n",
              "    </tr>\n",
              "    <tr>\n",
              "      <th>665</th>\n",
              "      <td>0.565245</td>\n",
              "      <td>-0.818178</td>\n",
              "      <td>-0.442744</td>\n",
              "      <td>1.394902</td>\n",
              "      <td>0.461401</td>\n",
              "      <td>-0.289655</td>\n",
              "      <td>2.694631</td>\n",
              "      <td>-0.257853</td>\n",
              "      <td>-0.195770</td>\n",
              "      <td>-0.262533</td>\n",
              "      <td>-0.182647</td>\n",
              "      <td>-0.476132</td>\n",
              "      <td>-0.389272</td>\n",
              "      <td>1.0</td>\n",
              "    </tr>\n",
              "    <tr>\n",
              "      <th>666</th>\n",
              "      <td>-0.875683</td>\n",
              "      <td>-0.846772</td>\n",
              "      <td>-0.514769</td>\n",
              "      <td>-0.698630</td>\n",
              "      <td>-0.514025</td>\n",
              "      <td>-0.870265</td>\n",
              "      <td>-0.715754</td>\n",
              "      <td>-0.142011</td>\n",
              "      <td>-0.097540</td>\n",
              "      <td>-0.262533</td>\n",
              "      <td>-0.182647</td>\n",
              "      <td>0.227469</td>\n",
              "      <td>-0.389272</td>\n",
              "      <td>2.0</td>\n",
              "    </tr>\n",
              "  </tbody>\n",
              "</table>\n",
              "<p>667 rows × 14 columns</p>\n",
              "</div>"
            ],
            "text/plain": [
              "           0         1         2         3   ...        10        11        12   13\n",
              "0    0.588020  0.649648  0.226668  1.302164  ... -0.182647 -0.476132 -0.389272  1.0\n",
              "1   -0.315955 -0.365440  0.124985 -0.698457  ... -0.182647 -0.476132 -0.389272  8.0\n",
              "2   -0.968533 -0.956383 -0.942684 -0.691363  ... -0.182647 -0.476132  1.057425  1.0\n",
              "3   -1.007950 -0.903960 -1.184181 -0.401037  ...  0.671420 -0.476132 -0.389272  8.0\n",
              "4   -0.688231 -0.327314 -0.730845  0.107293  ... -0.182647  0.227469 -0.389272  1.0\n",
              "..        ...       ...       ...       ...  ...       ...       ...       ...  ...\n",
              "662  2.200632 -0.098562 -0.065670  0.923425  ... -0.182647 -0.476132 -0.389272  1.0\n",
              "663  0.804378  2.879980  1.684121  2.402220  ... -0.182647 -0.476132 -0.389272  1.0\n",
              "664 -0.069814  0.196909 -0.413086 -0.050673  ...  0.244387 -0.476132 -0.389272  1.0\n",
              "665  0.565245 -0.818178 -0.442744  1.394902  ... -0.182647 -0.476132 -0.389272  1.0\n",
              "666 -0.875683 -0.846772 -0.514769 -0.698630  ... -0.182647  0.227469 -0.389272  2.0\n",
              "\n",
              "[667 rows x 14 columns]"
            ]
          },
          "metadata": {
            "tags": []
          },
          "execution_count": 73
        }
      ]
    },
    {
      "cell_type": "markdown",
      "metadata": {
        "id": "DzfuETkJDpPx",
        "colab_type": "text"
      },
      "source": [
        "## Tackling Class Imbalance"
      ]
    },
    {
      "cell_type": "code",
      "metadata": {
        "id": "mPxEv6kFDhm_",
        "colab_type": "code",
        "colab": {
          "base_uri": "https://localhost:8080/",
          "height": 516
        },
        "outputId": "a19e595c-b325-4dd7-f5b6-6135e536ab0e"
      },
      "source": [
        "Lit = train_data[train_data[13] ==1]\n",
        "D_M = train_data[train_data[13] ==2]\n",
        "W_S = train_data[train_data[13] ==3]\n",
        "G_H = train_data[train_data[13] ==4]\n",
        "H_W_S = train_data[train_data[13] ==5]\n",
        "C_S = train_data[train_data[13] ==6]\n",
        "L_R = train_data[train_data[13] ==7]\n",
        "S_A = train_data[train_data[13] ==8]\n",
        "A_L = train_data[train_data[13] ==9]\n",
        "\n",
        "Lit[13] = 1\n",
        "Lit"
      ],
      "execution_count": 74,
      "outputs": [
        {
          "output_type": "stream",
          "text": [
            "/usr/local/lib/python3.6/dist-packages/ipykernel_launcher.py:11: SettingWithCopyWarning: \n",
            "A value is trying to be set on a copy of a slice from a DataFrame.\n",
            "Try using .loc[row_indexer,col_indexer] = value instead\n",
            "\n",
            "See the caveats in the documentation: https://pandas.pydata.org/pandas-docs/stable/user_guide/indexing.html#returning-a-view-versus-a-copy\n",
            "  # This is added back by InteractiveShellApp.init_path()\n"
          ],
          "name": "stderr"
        },
        {
          "output_type": "execute_result",
          "data": {
            "text/html": [
              "<div>\n",
              "<style scoped>\n",
              "    .dataframe tbody tr th:only-of-type {\n",
              "        vertical-align: middle;\n",
              "    }\n",
              "\n",
              "    .dataframe tbody tr th {\n",
              "        vertical-align: top;\n",
              "    }\n",
              "\n",
              "    .dataframe thead th {\n",
              "        text-align: right;\n",
              "    }\n",
              "</style>\n",
              "<table border=\"1\" class=\"dataframe\">\n",
              "  <thead>\n",
              "    <tr style=\"text-align: right;\">\n",
              "      <th></th>\n",
              "      <th>0</th>\n",
              "      <th>1</th>\n",
              "      <th>2</th>\n",
              "      <th>3</th>\n",
              "      <th>4</th>\n",
              "      <th>5</th>\n",
              "      <th>6</th>\n",
              "      <th>7</th>\n",
              "      <th>8</th>\n",
              "      <th>9</th>\n",
              "      <th>10</th>\n",
              "      <th>11</th>\n",
              "      <th>12</th>\n",
              "      <th>13</th>\n",
              "    </tr>\n",
              "  </thead>\n",
              "  <tbody>\n",
              "    <tr>\n",
              "      <th>0</th>\n",
              "      <td>0.588020</td>\n",
              "      <td>0.649648</td>\n",
              "      <td>0.226668</td>\n",
              "      <td>1.302164</td>\n",
              "      <td>-0.318939</td>\n",
              "      <td>-0.236550</td>\n",
              "      <td>0.981253</td>\n",
              "      <td>0.610961</td>\n",
              "      <td>-0.195770</td>\n",
              "      <td>-0.262533</td>\n",
              "      <td>-0.182647</td>\n",
              "      <td>-0.476132</td>\n",
              "      <td>-0.389272</td>\n",
              "      <td>1</td>\n",
              "    </tr>\n",
              "    <tr>\n",
              "      <th>2</th>\n",
              "      <td>-0.968533</td>\n",
              "      <td>-0.956383</td>\n",
              "      <td>-0.942684</td>\n",
              "      <td>-0.691363</td>\n",
              "      <td>-0.839166</td>\n",
              "      <td>-0.725113</td>\n",
              "      <td>0.279457</td>\n",
              "      <td>-0.257853</td>\n",
              "      <td>-0.294001</td>\n",
              "      <td>-0.262533</td>\n",
              "      <td>-0.182647</td>\n",
              "      <td>-0.476132</td>\n",
              "      <td>1.057425</td>\n",
              "      <td>1</td>\n",
              "    </tr>\n",
              "    <tr>\n",
              "      <th>4</th>\n",
              "      <td>-0.688231</td>\n",
              "      <td>-0.327314</td>\n",
              "      <td>-0.730845</td>\n",
              "      <td>0.107293</td>\n",
              "      <td>-0.839166</td>\n",
              "      <td>0.074997</td>\n",
              "      <td>-0.437255</td>\n",
              "      <td>0.031752</td>\n",
              "      <td>0.197151</td>\n",
              "      <td>2.136394</td>\n",
              "      <td>-0.182647</td>\n",
              "      <td>0.227469</td>\n",
              "      <td>-0.389272</td>\n",
              "      <td>1</td>\n",
              "    </tr>\n",
              "    <tr>\n",
              "      <th>5</th>\n",
              "      <td>-0.067186</td>\n",
              "      <td>0.211206</td>\n",
              "      <td>2.434031</td>\n",
              "      <td>-0.236842</td>\n",
              "      <td>0.493915</td>\n",
              "      <td>0.436108</td>\n",
              "      <td>-0.128378</td>\n",
              "      <td>-0.199932</td>\n",
              "      <td>-0.195770</td>\n",
              "      <td>-0.262533</td>\n",
              "      <td>-0.182647</td>\n",
              "      <td>-0.476132</td>\n",
              "      <td>2.504122</td>\n",
              "      <td>1</td>\n",
              "    </tr>\n",
              "    <tr>\n",
              "      <th>6</th>\n",
              "      <td>1.586596</td>\n",
              "      <td>-0.903960</td>\n",
              "      <td>-0.442744</td>\n",
              "      <td>0.688811</td>\n",
              "      <td>-0.058826</td>\n",
              "      <td>-0.505614</td>\n",
              "      <td>0.806986</td>\n",
              "      <td>-0.199932</td>\n",
              "      <td>-0.097540</td>\n",
              "      <td>-0.262533</td>\n",
              "      <td>-0.182647</td>\n",
              "      <td>-0.476132</td>\n",
              "      <td>-0.389272</td>\n",
              "      <td>1</td>\n",
              "    </tr>\n",
              "    <tr>\n",
              "      <th>...</th>\n",
              "      <td>...</td>\n",
              "      <td>...</td>\n",
              "      <td>...</td>\n",
              "      <td>...</td>\n",
              "      <td>...</td>\n",
              "      <td>...</td>\n",
              "      <td>...</td>\n",
              "      <td>...</td>\n",
              "      <td>...</td>\n",
              "      <td>...</td>\n",
              "      <td>...</td>\n",
              "      <td>...</td>\n",
              "      <td>...</td>\n",
              "      <td>...</td>\n",
              "    </tr>\n",
              "    <tr>\n",
              "      <th>661</th>\n",
              "      <td>-0.358000</td>\n",
              "      <td>-0.184344</td>\n",
              "      <td>-0.535953</td>\n",
              "      <td>-0.116939</td>\n",
              "      <td>-0.741624</td>\n",
              "      <td>-0.707411</td>\n",
              "      <td>-0.256440</td>\n",
              "      <td>0.031752</td>\n",
              "      <td>-0.195770</td>\n",
              "      <td>-0.262533</td>\n",
              "      <td>-0.182647</td>\n",
              "      <td>-0.476132</td>\n",
              "      <td>-0.389272</td>\n",
              "      <td>1</td>\n",
              "    </tr>\n",
              "    <tr>\n",
              "      <th>662</th>\n",
              "      <td>2.200632</td>\n",
              "      <td>-0.098562</td>\n",
              "      <td>-0.065670</td>\n",
              "      <td>0.923425</td>\n",
              "      <td>-0.286425</td>\n",
              "      <td>0.740575</td>\n",
              "      <td>0.394786</td>\n",
              "      <td>-0.199932</td>\n",
              "      <td>-0.294001</td>\n",
              "      <td>2.136394</td>\n",
              "      <td>-0.182647</td>\n",
              "      <td>-0.476132</td>\n",
              "      <td>-0.389272</td>\n",
              "      <td>1</td>\n",
              "    </tr>\n",
              "    <tr>\n",
              "      <th>663</th>\n",
              "      <td>0.804378</td>\n",
              "      <td>2.879980</td>\n",
              "      <td>1.684121</td>\n",
              "      <td>2.402220</td>\n",
              "      <td>1.826997</td>\n",
              "      <td>2.156698</td>\n",
              "      <td>1.379264</td>\n",
              "      <td>-0.257853</td>\n",
              "      <td>-0.195770</td>\n",
              "      <td>-0.262533</td>\n",
              "      <td>-0.182647</td>\n",
              "      <td>-0.476132</td>\n",
              "      <td>-0.389272</td>\n",
              "      <td>1</td>\n",
              "    </tr>\n",
              "    <tr>\n",
              "      <th>664</th>\n",
              "      <td>-0.069814</td>\n",
              "      <td>0.196909</td>\n",
              "      <td>-0.413086</td>\n",
              "      <td>-0.050673</td>\n",
              "      <td>-0.579053</td>\n",
              "      <td>0.007731</td>\n",
              "      <td>-0.246981</td>\n",
              "      <td>-0.199932</td>\n",
              "      <td>-0.195770</td>\n",
              "      <td>-0.262533</td>\n",
              "      <td>0.244387</td>\n",
              "      <td>-0.476132</td>\n",
              "      <td>-0.389272</td>\n",
              "      <td>1</td>\n",
              "    </tr>\n",
              "    <tr>\n",
              "      <th>665</th>\n",
              "      <td>0.565245</td>\n",
              "      <td>-0.818178</td>\n",
              "      <td>-0.442744</td>\n",
              "      <td>1.394902</td>\n",
              "      <td>0.461401</td>\n",
              "      <td>-0.289655</td>\n",
              "      <td>2.694631</td>\n",
              "      <td>-0.257853</td>\n",
              "      <td>-0.195770</td>\n",
              "      <td>-0.262533</td>\n",
              "      <td>-0.182647</td>\n",
              "      <td>-0.476132</td>\n",
              "      <td>-0.389272</td>\n",
              "      <td>1</td>\n",
              "    </tr>\n",
              "  </tbody>\n",
              "</table>\n",
              "<p>534 rows × 14 columns</p>\n",
              "</div>"
            ],
            "text/plain": [
              "           0         1         2         3   ...        10        11        12  13\n",
              "0    0.588020  0.649648  0.226668  1.302164  ... -0.182647 -0.476132 -0.389272   1\n",
              "2   -0.968533 -0.956383 -0.942684 -0.691363  ... -0.182647 -0.476132  1.057425   1\n",
              "4   -0.688231 -0.327314 -0.730845  0.107293  ... -0.182647  0.227469 -0.389272   1\n",
              "5   -0.067186  0.211206  2.434031 -0.236842  ... -0.182647 -0.476132  2.504122   1\n",
              "6    1.586596 -0.903960 -0.442744  0.688811  ... -0.182647 -0.476132 -0.389272   1\n",
              "..        ...       ...       ...       ...  ...       ...       ...       ...  ..\n",
              "661 -0.358000 -0.184344 -0.535953 -0.116939  ... -0.182647 -0.476132 -0.389272   1\n",
              "662  2.200632 -0.098562 -0.065670  0.923425  ... -0.182647 -0.476132 -0.389272   1\n",
              "663  0.804378  2.879980  1.684121  2.402220  ... -0.182647 -0.476132 -0.389272   1\n",
              "664 -0.069814  0.196909 -0.413086 -0.050673  ...  0.244387 -0.476132 -0.389272   1\n",
              "665  0.565245 -0.818178 -0.442744  1.394902  ... -0.182647 -0.476132 -0.389272   1\n",
              "\n",
              "[534 rows x 14 columns]"
            ]
          },
          "metadata": {
            "tags": []
          },
          "execution_count": 74
        }
      ]
    },
    {
      "cell_type": "code",
      "metadata": {
        "id": "Mtsiv4VKD6SB",
        "colab_type": "code",
        "colab": {
          "base_uri": "https://localhost:8080/",
          "height": 1000
        },
        "outputId": "be155908-2088-46ea-9e72-da666776ca6f"
      },
      "source": [
        "from sklearn.utils import resample\n",
        "import sys\n",
        "\n",
        "D_M_upsampled = resample(D_M, \n",
        "                                 replace=True,     # sample with replacement\n",
        "                                 n_samples=534,    # to match majority class\n",
        "                                 random_state=123)\n",
        "D_M_upsampled[13] = 2\n",
        "\n",
        "########################\n",
        "W_S_upsampled = resample(W_S, \n",
        "                                 replace=True,     # sample with replacement\n",
        "                                 n_samples=534,    # to match majority class\n",
        "                                 random_state=123)\n",
        "W_S_upsampled[13] = 3\n",
        "\n",
        "######################\n",
        "\n",
        "G_H_upsampled = resample(G_H, \n",
        "                                 replace=True,     # sample with replacement\n",
        "                                 n_samples=534,    # to match majority class\n",
        "                                 random_state=123)\n",
        "G_H_upsampled[13] = 4\n",
        "\n",
        "#######################\n",
        "\n",
        "H_W_S_upsampled = resample(H_W_S, \n",
        "                                 replace=True,     # sample with replacement\n",
        "                                 n_samples=534,    # to match majority class\n",
        "                                 random_state=123)\n",
        "H_W_S_upsampled[13] = 5\n",
        "\n",
        "#######################\n",
        "\n",
        "C_S_upsampled = resample(C_S, \n",
        "                                 replace=True,     # sample with replacement\n",
        "                                 n_samples=534,    # to match majority class\n",
        "                                 random_state=123)\n",
        "C_S_upsampled[13] = 6\n",
        "\n",
        "####################\n",
        "\n",
        "L_R_upsampled = resample(L_R, \n",
        "                                 replace=True,     # sample with replacement\n",
        "                                 n_samples=534,    # to match majority class\n",
        "                                 random_state=123)\n",
        "L_R_upsampled[13] = 7\n",
        "\n",
        "#####################\n",
        "\n",
        "S_A_upsampled = resample(S_A, \n",
        "                                 replace=True,     # sample with replacement\n",
        "                                 n_samples=534,    # to match majority class\n",
        "                                 random_state=123)\n",
        "S_A_upsampled[13] = 8\n",
        "\n",
        "########################\n",
        "\n",
        "A_L_upsampled = resample(A_L, \n",
        "                                 replace=True,     # sample with replacement\n",
        "                                 n_samples=534,    # to match majority class\n",
        "                                 random_state=123)\n",
        "A_L_upsampled[13] = 9\n",
        "\n",
        "A_L_upsampled\n"
      ],
      "execution_count": 75,
      "outputs": [
        {
          "output_type": "stream",
          "text": [
            "/usr/local/lib/python3.6/dist-packages/ipykernel_launcher.py:8: SettingWithCopyWarning: \n",
            "A value is trying to be set on a copy of a slice from a DataFrame.\n",
            "Try using .loc[row_indexer,col_indexer] = value instead\n",
            "\n",
            "See the caveats in the documentation: https://pandas.pydata.org/pandas-docs/stable/user_guide/indexing.html#returning-a-view-versus-a-copy\n",
            "  \n",
            "/usr/local/lib/python3.6/dist-packages/ipykernel_launcher.py:15: SettingWithCopyWarning: \n",
            "A value is trying to be set on a copy of a slice from a DataFrame.\n",
            "Try using .loc[row_indexer,col_indexer] = value instead\n",
            "\n",
            "See the caveats in the documentation: https://pandas.pydata.org/pandas-docs/stable/user_guide/indexing.html#returning-a-view-versus-a-copy\n",
            "  from ipykernel import kernelapp as app\n",
            "/usr/local/lib/python3.6/dist-packages/ipykernel_launcher.py:23: SettingWithCopyWarning: \n",
            "A value is trying to be set on a copy of a slice from a DataFrame.\n",
            "Try using .loc[row_indexer,col_indexer] = value instead\n",
            "\n",
            "See the caveats in the documentation: https://pandas.pydata.org/pandas-docs/stable/user_guide/indexing.html#returning-a-view-versus-a-copy\n",
            "/usr/local/lib/python3.6/dist-packages/ipykernel_launcher.py:31: SettingWithCopyWarning: \n",
            "A value is trying to be set on a copy of a slice from a DataFrame.\n",
            "Try using .loc[row_indexer,col_indexer] = value instead\n",
            "\n",
            "See the caveats in the documentation: https://pandas.pydata.org/pandas-docs/stable/user_guide/indexing.html#returning-a-view-versus-a-copy\n",
            "/usr/local/lib/python3.6/dist-packages/ipykernel_launcher.py:39: SettingWithCopyWarning: \n",
            "A value is trying to be set on a copy of a slice from a DataFrame.\n",
            "Try using .loc[row_indexer,col_indexer] = value instead\n",
            "\n",
            "See the caveats in the documentation: https://pandas.pydata.org/pandas-docs/stable/user_guide/indexing.html#returning-a-view-versus-a-copy\n",
            "/usr/local/lib/python3.6/dist-packages/ipykernel_launcher.py:47: SettingWithCopyWarning: \n",
            "A value is trying to be set on a copy of a slice from a DataFrame.\n",
            "Try using .loc[row_indexer,col_indexer] = value instead\n",
            "\n",
            "See the caveats in the documentation: https://pandas.pydata.org/pandas-docs/stable/user_guide/indexing.html#returning-a-view-versus-a-copy\n",
            "/usr/local/lib/python3.6/dist-packages/ipykernel_launcher.py:55: SettingWithCopyWarning: \n",
            "A value is trying to be set on a copy of a slice from a DataFrame.\n",
            "Try using .loc[row_indexer,col_indexer] = value instead\n",
            "\n",
            "See the caveats in the documentation: https://pandas.pydata.org/pandas-docs/stable/user_guide/indexing.html#returning-a-view-versus-a-copy\n",
            "/usr/local/lib/python3.6/dist-packages/ipykernel_launcher.py:63: SettingWithCopyWarning: \n",
            "A value is trying to be set on a copy of a slice from a DataFrame.\n",
            "Try using .loc[row_indexer,col_indexer] = value instead\n",
            "\n",
            "See the caveats in the documentation: https://pandas.pydata.org/pandas-docs/stable/user_guide/indexing.html#returning-a-view-versus-a-copy\n"
          ],
          "name": "stderr"
        },
        {
          "output_type": "execute_result",
          "data": {
            "text/html": [
              "<div>\n",
              "<style scoped>\n",
              "    .dataframe tbody tr th:only-of-type {\n",
              "        vertical-align: middle;\n",
              "    }\n",
              "\n",
              "    .dataframe tbody tr th {\n",
              "        vertical-align: top;\n",
              "    }\n",
              "\n",
              "    .dataframe thead th {\n",
              "        text-align: right;\n",
              "    }\n",
              "</style>\n",
              "<table border=\"1\" class=\"dataframe\">\n",
              "  <thead>\n",
              "    <tr style=\"text-align: right;\">\n",
              "      <th></th>\n",
              "      <th>0</th>\n",
              "      <th>1</th>\n",
              "      <th>2</th>\n",
              "      <th>3</th>\n",
              "      <th>4</th>\n",
              "      <th>5</th>\n",
              "      <th>6</th>\n",
              "      <th>7</th>\n",
              "      <th>8</th>\n",
              "      <th>9</th>\n",
              "      <th>10</th>\n",
              "      <th>11</th>\n",
              "      <th>12</th>\n",
              "      <th>13</th>\n",
              "    </tr>\n",
              "  </thead>\n",
              "  <tbody>\n",
              "    <tr>\n",
              "      <th>538</th>\n",
              "      <td>-0.120619</td>\n",
              "      <td>0.068236</td>\n",
              "      <td>0.091091</td>\n",
              "      <td>-0.382351</td>\n",
              "      <td>0.721515</td>\n",
              "      <td>-0.314437</td>\n",
              "      <td>-0.361582</td>\n",
              "      <td>-0.257853</td>\n",
              "      <td>-0.19577</td>\n",
              "      <td>6.93425</td>\n",
              "      <td>0.67142</td>\n",
              "      <td>1.634672</td>\n",
              "      <td>-0.389272</td>\n",
              "      <td>9</td>\n",
              "    </tr>\n",
              "    <tr>\n",
              "      <th>538</th>\n",
              "      <td>-0.120619</td>\n",
              "      <td>0.068236</td>\n",
              "      <td>0.091091</td>\n",
              "      <td>-0.382351</td>\n",
              "      <td>0.721515</td>\n",
              "      <td>-0.314437</td>\n",
              "      <td>-0.361582</td>\n",
              "      <td>-0.257853</td>\n",
              "      <td>-0.19577</td>\n",
              "      <td>6.93425</td>\n",
              "      <td>0.67142</td>\n",
              "      <td>1.634672</td>\n",
              "      <td>-0.389272</td>\n",
              "      <td>9</td>\n",
              "    </tr>\n",
              "    <tr>\n",
              "      <th>538</th>\n",
              "      <td>-0.120619</td>\n",
              "      <td>0.068236</td>\n",
              "      <td>0.091091</td>\n",
              "      <td>-0.382351</td>\n",
              "      <td>0.721515</td>\n",
              "      <td>-0.314437</td>\n",
              "      <td>-0.361582</td>\n",
              "      <td>-0.257853</td>\n",
              "      <td>-0.19577</td>\n",
              "      <td>6.93425</td>\n",
              "      <td>0.67142</td>\n",
              "      <td>1.634672</td>\n",
              "      <td>-0.389272</td>\n",
              "      <td>9</td>\n",
              "    </tr>\n",
              "    <tr>\n",
              "      <th>538</th>\n",
              "      <td>-0.120619</td>\n",
              "      <td>0.068236</td>\n",
              "      <td>0.091091</td>\n",
              "      <td>-0.382351</td>\n",
              "      <td>0.721515</td>\n",
              "      <td>-0.314437</td>\n",
              "      <td>-0.361582</td>\n",
              "      <td>-0.257853</td>\n",
              "      <td>-0.19577</td>\n",
              "      <td>6.93425</td>\n",
              "      <td>0.67142</td>\n",
              "      <td>1.634672</td>\n",
              "      <td>-0.389272</td>\n",
              "      <td>9</td>\n",
              "    </tr>\n",
              "    <tr>\n",
              "      <th>538</th>\n",
              "      <td>-0.120619</td>\n",
              "      <td>0.068236</td>\n",
              "      <td>0.091091</td>\n",
              "      <td>-0.382351</td>\n",
              "      <td>0.721515</td>\n",
              "      <td>-0.314437</td>\n",
              "      <td>-0.361582</td>\n",
              "      <td>-0.257853</td>\n",
              "      <td>-0.19577</td>\n",
              "      <td>6.93425</td>\n",
              "      <td>0.67142</td>\n",
              "      <td>1.634672</td>\n",
              "      <td>-0.389272</td>\n",
              "      <td>9</td>\n",
              "    </tr>\n",
              "    <tr>\n",
              "      <th>...</th>\n",
              "      <td>...</td>\n",
              "      <td>...</td>\n",
              "      <td>...</td>\n",
              "      <td>...</td>\n",
              "      <td>...</td>\n",
              "      <td>...</td>\n",
              "      <td>...</td>\n",
              "      <td>...</td>\n",
              "      <td>...</td>\n",
              "      <td>...</td>\n",
              "      <td>...</td>\n",
              "      <td>...</td>\n",
              "      <td>...</td>\n",
              "      <td>...</td>\n",
              "    </tr>\n",
              "    <tr>\n",
              "      <th>538</th>\n",
              "      <td>-0.120619</td>\n",
              "      <td>0.068236</td>\n",
              "      <td>0.091091</td>\n",
              "      <td>-0.382351</td>\n",
              "      <td>0.721515</td>\n",
              "      <td>-0.314437</td>\n",
              "      <td>-0.361582</td>\n",
              "      <td>-0.257853</td>\n",
              "      <td>-0.19577</td>\n",
              "      <td>6.93425</td>\n",
              "      <td>0.67142</td>\n",
              "      <td>1.634672</td>\n",
              "      <td>-0.389272</td>\n",
              "      <td>9</td>\n",
              "    </tr>\n",
              "    <tr>\n",
              "      <th>538</th>\n",
              "      <td>-0.120619</td>\n",
              "      <td>0.068236</td>\n",
              "      <td>0.091091</td>\n",
              "      <td>-0.382351</td>\n",
              "      <td>0.721515</td>\n",
              "      <td>-0.314437</td>\n",
              "      <td>-0.361582</td>\n",
              "      <td>-0.257853</td>\n",
              "      <td>-0.19577</td>\n",
              "      <td>6.93425</td>\n",
              "      <td>0.67142</td>\n",
              "      <td>1.634672</td>\n",
              "      <td>-0.389272</td>\n",
              "      <td>9</td>\n",
              "    </tr>\n",
              "    <tr>\n",
              "      <th>538</th>\n",
              "      <td>-0.120619</td>\n",
              "      <td>0.068236</td>\n",
              "      <td>0.091091</td>\n",
              "      <td>-0.382351</td>\n",
              "      <td>0.721515</td>\n",
              "      <td>-0.314437</td>\n",
              "      <td>-0.361582</td>\n",
              "      <td>-0.257853</td>\n",
              "      <td>-0.19577</td>\n",
              "      <td>6.93425</td>\n",
              "      <td>0.67142</td>\n",
              "      <td>1.634672</td>\n",
              "      <td>-0.389272</td>\n",
              "      <td>9</td>\n",
              "    </tr>\n",
              "    <tr>\n",
              "      <th>538</th>\n",
              "      <td>-0.120619</td>\n",
              "      <td>0.068236</td>\n",
              "      <td>0.091091</td>\n",
              "      <td>-0.382351</td>\n",
              "      <td>0.721515</td>\n",
              "      <td>-0.314437</td>\n",
              "      <td>-0.361582</td>\n",
              "      <td>-0.257853</td>\n",
              "      <td>-0.19577</td>\n",
              "      <td>6.93425</td>\n",
              "      <td>0.67142</td>\n",
              "      <td>1.634672</td>\n",
              "      <td>-0.389272</td>\n",
              "      <td>9</td>\n",
              "    </tr>\n",
              "    <tr>\n",
              "      <th>538</th>\n",
              "      <td>-0.120619</td>\n",
              "      <td>0.068236</td>\n",
              "      <td>0.091091</td>\n",
              "      <td>-0.382351</td>\n",
              "      <td>0.721515</td>\n",
              "      <td>-0.314437</td>\n",
              "      <td>-0.361582</td>\n",
              "      <td>-0.257853</td>\n",
              "      <td>-0.19577</td>\n",
              "      <td>6.93425</td>\n",
              "      <td>0.67142</td>\n",
              "      <td>1.634672</td>\n",
              "      <td>-0.389272</td>\n",
              "      <td>9</td>\n",
              "    </tr>\n",
              "  </tbody>\n",
              "</table>\n",
              "<p>534 rows × 14 columns</p>\n",
              "</div>"
            ],
            "text/plain": [
              "           0         1         2         3   ...       10        11        12  13\n",
              "538 -0.120619  0.068236  0.091091 -0.382351  ...  0.67142  1.634672 -0.389272   9\n",
              "538 -0.120619  0.068236  0.091091 -0.382351  ...  0.67142  1.634672 -0.389272   9\n",
              "538 -0.120619  0.068236  0.091091 -0.382351  ...  0.67142  1.634672 -0.389272   9\n",
              "538 -0.120619  0.068236  0.091091 -0.382351  ...  0.67142  1.634672 -0.389272   9\n",
              "538 -0.120619  0.068236  0.091091 -0.382351  ...  0.67142  1.634672 -0.389272   9\n",
              "..        ...       ...       ...       ...  ...      ...       ...       ...  ..\n",
              "538 -0.120619  0.068236  0.091091 -0.382351  ...  0.67142  1.634672 -0.389272   9\n",
              "538 -0.120619  0.068236  0.091091 -0.382351  ...  0.67142  1.634672 -0.389272   9\n",
              "538 -0.120619  0.068236  0.091091 -0.382351  ...  0.67142  1.634672 -0.389272   9\n",
              "538 -0.120619  0.068236  0.091091 -0.382351  ...  0.67142  1.634672 -0.389272   9\n",
              "538 -0.120619  0.068236  0.091091 -0.382351  ...  0.67142  1.634672 -0.389272   9\n",
              "\n",
              "[534 rows x 14 columns]"
            ]
          },
          "metadata": {
            "tags": []
          },
          "execution_count": 75
        }
      ]
    },
    {
      "cell_type": "markdown",
      "metadata": {
        "id": "CB6D_0LfEES1",
        "colab_type": "text"
      },
      "source": [
        "## Concatinating the upsampled classes"
      ]
    },
    {
      "cell_type": "code",
      "metadata": {
        "id": "1jISylEJD9wA",
        "colab_type": "code",
        "colab": {
          "base_uri": "https://localhost:8080/",
          "height": 51
        },
        "outputId": "ab62aede-555e-4f97-fc1a-e1bf28a517f3"
      },
      "source": [
        "frame = [Lit, D_M_upsampled,W_S_upsampled, G_H_upsampled, H_W_S_upsampled, C_S_upsampled,L_R_upsampled,S_A_upsampled, A_L_upsampled]\n",
        "train_data = pd.concat(frame)\n",
        "\n",
        "x_train = train_data.iloc[0:, 0:-1]\n",
        "y_train = train_data.iloc[0:,-1]\n",
        "\n",
        "x_test = pd.DataFrame(x_test)\n",
        "x_test = x_test.iloc[0:, 0:13]\n",
        "\n",
        "print(x_train.shape)\n",
        "print(x_test.shape)"
      ],
      "execution_count": 76,
      "outputs": [
        {
          "output_type": "stream",
          "text": [
            "(4806, 13)\n",
            "(329, 13)\n"
          ],
          "name": "stdout"
        }
      ]
    },
    {
      "cell_type": "markdown",
      "metadata": {
        "id": "8lwBhvTXE224",
        "colab_type": "text"
      },
      "source": [
        "## Training an SVM model"
      ]
    },
    {
      "cell_type": "code",
      "metadata": {
        "id": "8LU9thqZEKqT",
        "colab_type": "code",
        "colab": {
          "base_uri": "https://localhost:8080/",
          "height": 86
        },
        "outputId": "67530316-87b0-4809-a80f-625e00308ffb"
      },
      "source": [
        "from sklearn.svm import SVC\n",
        "from sklearn import metrics\n",
        "\n",
        "non_linear_svm = SVC(kernel='linear')\n",
        "\n",
        "non_linear_svm.fit(x_train, y_train)\n"
      ],
      "execution_count": 77,
      "outputs": [
        {
          "output_type": "execute_result",
          "data": {
            "text/plain": [
              "SVC(C=1.0, break_ties=False, cache_size=200, class_weight=None, coef0=0.0,\n",
              "    decision_function_shape='ovr', degree=3, gamma='scale', kernel='linear',\n",
              "    max_iter=-1, probability=False, random_state=None, shrinking=True,\n",
              "    tol=0.001, verbose=False)"
            ]
          },
          "metadata": {
            "tags": []
          },
          "execution_count": 77
        }
      ]
    },
    {
      "cell_type": "markdown",
      "metadata": {
        "id": "rFSOySgCFJ1-",
        "colab_type": "text"
      },
      "source": [
        "## Testing the model"
      ]
    },
    {
      "cell_type": "code",
      "metadata": {
        "id": "RtG4jOGoEiAe",
        "colab_type": "code",
        "colab": {
          "base_uri": "https://localhost:8080/",
          "height": 34
        },
        "outputId": "4974adbf-1231-453f-ff4b-0da03a23ab94"
      },
      "source": [
        "svm_pred = non_linear_svm.predict(x_test)\n",
        "svm_score = metrics.accuracy_score(y_test, svm_pred)\n",
        "print(svm_score)"
      ],
      "execution_count": 78,
      "outputs": [
        {
          "output_type": "stream",
          "text": [
            "0.3556231003039514\n"
          ],
          "name": "stdout"
        }
      ]
    },
    {
      "cell_type": "markdown",
      "metadata": {
        "id": "C-N17_eyFNxu",
        "colab_type": "text"
      },
      "source": [
        "## Model Selection"
      ]
    },
    {
      "cell_type": "code",
      "metadata": {
        "id": "Svi9HF7QFTWz",
        "colab_type": "code",
        "colab": {
          "base_uri": "https://localhost:8080/",
          "height": 293
        },
        "outputId": "315f0fa5-4092-4dc1-faf9-72d46ad72293"
      },
      "source": [
        "from sklearn.model_selection import GridSearchCV\n",
        "\n",
        "parameters = [{'C':[1,10,100,100], 'kernel': ['linear']},\n",
        "               {'C':[1,10,100,100], 'kernel': ['rbf'], 'gamma': [0.1,0.2,0.3,0.4,0.5,0.6,0.7,0.8,0.9]},\n",
        "                {'C':[1,10,100,100], 'kernel': ['poly']} ]\n",
        "\n",
        "grid_search = GridSearchCV(estimator=non_linear_svm,\n",
        "                           param_grid= parameters,\n",
        "                           scoring = 'accuracy',\n",
        "                           cv = 10)\n",
        "grid_search.fit(x_train,y_train)"
      ],
      "execution_count": null,
      "outputs": [
        {
          "output_type": "execute_result",
          "data": {
            "text/plain": [
              "GridSearchCV(cv=10, error_score=nan,\n",
              "             estimator=SVC(C=1.0, break_ties=False, cache_size=200,\n",
              "                           class_weight=None, coef0=0.0,\n",
              "                           decision_function_shape='ovr', degree=3,\n",
              "                           gamma='scale', kernel='linear', max_iter=-1,\n",
              "                           probability=False, random_state=None, shrinking=True,\n",
              "                           tol=0.001, verbose=False),\n",
              "             iid='deprecated', n_jobs=None,\n",
              "             param_grid=[{'C': [1, 10, 100, 100], 'kernel': ['linear']},\n",
              "                         {'C': [1, 10, 100, 100],\n",
              "                          'gamma': [0.1, 0.2, 0.3, 0.4, 0.5, 0.6, 0.7, 0.8,\n",
              "                                    0.9],\n",
              "                          'kernel': ['rbf']},\n",
              "                         {'C': [1, 10, 100, 100], 'kernel': ['poly']}],\n",
              "             pre_dispatch='2*n_jobs', refit=True, return_train_score=False,\n",
              "             scoring='accuracy', verbose=0)"
            ]
          },
          "metadata": {
            "tags": []
          },
          "execution_count": 13
        }
      ]
    },
    {
      "cell_type": "code",
      "metadata": {
        "id": "phtXDMt7FVpy",
        "colab_type": "code",
        "colab": {
          "base_uri": "https://localhost:8080/",
          "height": 34
        },
        "outputId": "5a3da90e-a0f4-41ad-a7fa-01c0704ae829"
      },
      "source": [
        "grid_search.best_params_"
      ],
      "execution_count": null,
      "outputs": [
        {
          "output_type": "execute_result",
          "data": {
            "text/plain": [
              "{'C': 100, 'gamma': 0.9, 'kernel': 'rbf'}"
            ]
          },
          "metadata": {
            "tags": []
          },
          "execution_count": 14
        }
      ]
    },
    {
      "cell_type": "markdown",
      "metadata": {
        "id": "qfV-f8K3FepD",
        "colab_type": "text"
      },
      "source": [
        "## Training the model with Best parameters"
      ]
    },
    {
      "cell_type": "code",
      "metadata": {
        "id": "htQBP2CxFe5Q",
        "colab_type": "code",
        "colab": {
          "base_uri": "https://localhost:8080/",
          "height": 86
        },
        "outputId": "0f5d45a5-edc9-4205-e8b1-9f913ac91234"
      },
      "source": [
        "from sklearn.svm import SVC\n",
        "from sklearn import metrics\n",
        "\n",
        "non_linear_svm = SVC(C = 100, kernel='rbf', gamma=0.9)\n",
        "\n",
        "non_linear_svm.fit(x_train, y_train)"
      ],
      "execution_count": 79,
      "outputs": [
        {
          "output_type": "execute_result",
          "data": {
            "text/plain": [
              "SVC(C=100, break_ties=False, cache_size=200, class_weight=None, coef0=0.0,\n",
              "    decision_function_shape='ovr', degree=3, gamma=0.9, kernel='rbf',\n",
              "    max_iter=-1, probability=False, random_state=None, shrinking=True,\n",
              "    tol=0.001, verbose=False)"
            ]
          },
          "metadata": {
            "tags": []
          },
          "execution_count": 79
        }
      ]
    },
    {
      "cell_type": "markdown",
      "metadata": {
        "id": "0lgmWhAcFnLx",
        "colab_type": "text"
      },
      "source": [
        "## Evaluating the results on the Test set"
      ]
    },
    {
      "cell_type": "code",
      "metadata": {
        "id": "GC7sKC81Frl_",
        "colab_type": "code",
        "colab": {
          "base_uri": "https://localhost:8080/",
          "height": 34
        },
        "outputId": "590a24c0-ea42-4bd5-9189-31a55d407b43"
      },
      "source": [
        "svm_pred = non_linear_svm.predict(x_test)\n",
        "svm_score = metrics.accuracy_score(y_test, svm_pred)\n",
        "print(svm_score)"
      ],
      "execution_count": 80,
      "outputs": [
        {
          "output_type": "stream",
          "text": [
            "0.7629179331306991\n"
          ],
          "name": "stdout"
        }
      ]
    },
    {
      "cell_type": "code",
      "metadata": {
        "id": "UGMuafNIeEd_",
        "colab_type": "code",
        "colab": {
          "base_uri": "https://localhost:8080/",
          "height": 381
        },
        "outputId": "6ccdb9fa-e6bb-4529-f71f-d5ef9dfe3249"
      },
      "source": [
        "from sklearn.metrics import classification_report\n",
        "print(classification_report(y_test, svm_pred))"
      ],
      "execution_count": 81,
      "outputs": [
        {
          "output_type": "stream",
          "text": [
            "              precision    recall  f1-score   support\n",
            "\n",
            "           1       0.81      0.93      0.87       260\n",
            "           2       0.36      0.27      0.31        33\n",
            "           3       1.00      0.12      0.22         8\n",
            "           4       0.00      0.00      0.00         1\n",
            "           5       0.00      0.00      0.00         2\n",
            "           6       0.00      0.00      0.00         0\n",
            "           7       0.00      0.00      0.00         8\n",
            "           8       0.00      0.00      0.00        16\n",
            "           9       0.00      0.00      0.00         1\n",
            "\n",
            "    accuracy                           0.76       329\n",
            "   macro avg       0.24      0.15      0.16       329\n",
            "weighted avg       0.70      0.76      0.72       329\n",
            "\n"
          ],
          "name": "stdout"
        },
        {
          "output_type": "stream",
          "text": [
            "/usr/local/lib/python3.6/dist-packages/sklearn/metrics/_classification.py:1272: UndefinedMetricWarning: Precision and F-score are ill-defined and being set to 0.0 in labels with no predicted samples. Use `zero_division` parameter to control this behavior.\n",
            "  _warn_prf(average, modifier, msg_start, len(result))\n",
            "/usr/local/lib/python3.6/dist-packages/sklearn/metrics/_classification.py:1272: UndefinedMetricWarning: Recall and F-score are ill-defined and being set to 0.0 in labels with no true samples. Use `zero_division` parameter to control this behavior.\n",
            "  _warn_prf(average, modifier, msg_start, len(result))\n"
          ],
          "name": "stderr"
        }
      ]
    },
    {
      "cell_type": "markdown",
      "metadata": {
        "id": "3-XBCvBfFyZx",
        "colab_type": "text"
      },
      "source": [
        "# Confusion Matrix"
      ]
    },
    {
      "cell_type": "code",
      "metadata": {
        "id": "ZSX7EwsPF00_",
        "colab_type": "code",
        "colab": {
          "base_uri": "https://localhost:8080/",
          "height": 172
        },
        "outputId": "03b8bf4b-a7ff-4544-c733-0f8e3cadff13"
      },
      "source": [
        "import matplotlib.pyplot as plt\n",
        "from sklearn.metrics import plot_confusion_matrix\n",
        "from sklearn.metrics import confusion_matrix\n",
        "\n",
        "cm = confusion_matrix(y_test, svm_pred)\n",
        "\n",
        "print(cm)\n"
      ],
      "execution_count": 14,
      "outputs": [
        {
          "output_type": "stream",
          "text": [
            "[[241  13   0   4   0   2   0   0   0]\n",
            " [ 23   9   0   0   0   0   1   0   0]\n",
            " [  6   1   1   0   0   0   0   0   0]\n",
            " [  1   0   0   0   0   0   0   0   0]\n",
            " [  1   1   0   0   0   0   0   0   0]\n",
            " [  0   0   0   0   0   0   0   0   0]\n",
            " [  7   1   0   0   0   0   0   0   0]\n",
            " [ 16   0   0   0   0   0   0   0   0]\n",
            " [  1   0   0   0   0   0   0   0   0]]\n"
          ],
          "name": "stdout"
        }
      ]
    },
    {
      "cell_type": "markdown",
      "metadata": {
        "id": "qxNM3TlMiab2",
        "colab_type": "text"
      },
      "source": [
        "#Feature Selection"
      ]
    },
    {
      "cell_type": "code",
      "metadata": {
        "id": "e_90UeyLG-KS",
        "colab_type": "code",
        "colab": {}
      },
      "source": [
        "from sklearn.feature_selection import SelectKBest, chi2, f_classif\n",
        "\n",
        "anova = SelectKBest(f_classif, k=8)\n",
        "x_train_anova = anova.fit_transform(x_train, y_train)\n",
        "x_test_anova = anova.transform(x_test)"
      ],
      "execution_count": 91,
      "outputs": []
    },
    {
      "cell_type": "markdown",
      "metadata": {
        "id": "tkYKJQTIiqCc",
        "colab_type": "text"
      },
      "source": [
        "#Model Selection"
      ]
    },
    {
      "cell_type": "code",
      "metadata": {
        "id": "W8KiVTxGirsS",
        "colab_type": "code",
        "colab": {}
      },
      "source": [
        "from sklearn.model_selection import GridSearchCV\n",
        "\n",
        "parameters = [{'C':[1,10,100], 'kernel': ['linear']},\n",
        "               {'C':[1,10,100], 'kernel': ['rbf'], 'gamma': [0.1,0.2,0.3,0.4,0.5,0.6,0.7,0.8,0.9]},\n",
        "                {'C':[1,10,100], 'kernel': ['poly'], 'degree': [1,2,3,4,5,6]} ]\n",
        "\n",
        "grid_search = GridSearchCV(estimator=non_linear_svm,\n",
        "                           param_grid= parameters,\n",
        "                           scoring = 'accuracy',\n",
        "                           cv = 10,\n",
        "                           n_jobs = -1)\n",
        "grid_search.fit(x_train_anova,y_train)"
      ],
      "execution_count": null,
      "outputs": []
    },
    {
      "cell_type": "markdown",
      "metadata": {
        "id": "sZbpUyYkp7eT",
        "colab_type": "text"
      },
      "source": [
        "## Model training and Evaluation"
      ]
    },
    {
      "cell_type": "code",
      "metadata": {
        "id": "cCDgBkp5pXbW",
        "colab_type": "code",
        "colab": {
          "base_uri": "https://localhost:8080/",
          "height": 86
        },
        "outputId": "c770e6eb-c617-4e00-a28a-907f7187ea81"
      },
      "source": [
        "from sklearn.svm import SVC\n",
        "from sklearn import metrics\n",
        "\n",
        "non_linear_svm = SVC(C = 100, kernel='rbf', gamma=0.9)\n",
        "\n",
        "non_linear_svm.fit(x_train_anova, y_train)"
      ],
      "execution_count": 83,
      "outputs": [
        {
          "output_type": "execute_result",
          "data": {
            "text/plain": [
              "SVC(C=100, break_ties=False, cache_size=200, class_weight=None, coef0=0.0,\n",
              "    decision_function_shape='ovr', degree=3, gamma=0.9, kernel='rbf',\n",
              "    max_iter=-1, probability=False, random_state=None, shrinking=True,\n",
              "    tol=0.001, verbose=False)"
            ]
          },
          "metadata": {
            "tags": []
          },
          "execution_count": 83
        }
      ]
    },
    {
      "cell_type": "code",
      "metadata": {
        "id": "GEGPv-VqpftH",
        "colab_type": "code",
        "colab": {
          "base_uri": "https://localhost:8080/",
          "height": 34
        },
        "outputId": "2ad1eb5d-e669-4c9d-fcb9-2df1ea5d8c06"
      },
      "source": [
        "svm_pred = non_linear_svm.predict(x_test_anova)\n",
        "svm_score = metrics.accuracy_score(y_test, svm_pred)\n",
        "print(svm_score)"
      ],
      "execution_count": 84,
      "outputs": [
        {
          "output_type": "stream",
          "text": [
            "0.6899696048632219\n"
          ],
          "name": "stdout"
        }
      ]
    },
    {
      "cell_type": "markdown",
      "metadata": {
        "id": "eas4BVNTqR0B",
        "colab_type": "text"
      },
      "source": [
        "#Confusion Matrix"
      ]
    },
    {
      "cell_type": "code",
      "metadata": {
        "id": "h0oifKyGpllz",
        "colab_type": "code",
        "colab": {
          "base_uri": "https://localhost:8080/",
          "height": 172
        },
        "outputId": "8f1379fb-3ee7-4cc1-831b-261768b0d61b"
      },
      "source": [
        "import matplotlib.pyplot as plt\n",
        "from sklearn.metrics import plot_confusion_matrix\n",
        "from sklearn.metrics import confusion_matrix\n",
        "\n",
        "cm = confusion_matrix(y_test, svm_pred)\n",
        "\n",
        "print(cm)"
      ],
      "execution_count": null,
      "outputs": [
        {
          "output_type": "stream",
          "text": [
            "[[217  27   2   2   0   4   0   8   0]\n",
            " [ 23   7   1   0   1   0   1   0   0]\n",
            " [  5   2   1   0   0   0   0   0   0]\n",
            " [  1   0   0   0   0   0   0   0   0]\n",
            " [  1   1   0   0   0   0   0   0   0]\n",
            " [  0   0   0   0   0   0   0   0   0]\n",
            " [  6   1   0   0   0   0   1   0   0]\n",
            " [ 13   2   0   0   0   0   0   1   0]\n",
            " [  1   0   0   0   0   0   0   0   0]]\n"
          ],
          "name": "stdout"
        }
      ]
    },
    {
      "cell_type": "code",
      "metadata": {
        "id": "JWOz0PnTqB-K",
        "colab_type": "code",
        "colab": {
          "base_uri": "https://localhost:8080/",
          "height": 381
        },
        "outputId": "5f152680-542c-4791-c621-1cfee9c8315e"
      },
      "source": [
        "from sklearn.metrics import classification_report\n",
        "print(classification_report(y_test, svm_pred))"
      ],
      "execution_count": null,
      "outputs": [
        {
          "output_type": "stream",
          "text": [
            "              precision    recall  f1-score   support\n",
            "\n",
            "           1       0.81      0.83      0.82       260\n",
            "           2       0.17      0.21      0.19        33\n",
            "           3       0.25      0.12      0.17         8\n",
            "           4       0.00      0.00      0.00         1\n",
            "           5       0.00      0.00      0.00         2\n",
            "           6       0.00      0.00      0.00         0\n",
            "           7       0.50      0.12      0.20         8\n",
            "           8       0.11      0.06      0.08        16\n",
            "           9       0.00      0.00      0.00         1\n",
            "\n",
            "    accuracy                           0.69       329\n",
            "   macro avg       0.21      0.15      0.16       329\n",
            "weighted avg       0.68      0.69      0.68       329\n",
            "\n"
          ],
          "name": "stdout"
        },
        {
          "output_type": "stream",
          "text": [
            "/usr/local/lib/python3.6/dist-packages/sklearn/metrics/_classification.py:1272: UndefinedMetricWarning: Precision and F-score are ill-defined and being set to 0.0 in labels with no predicted samples. Use `zero_division` parameter to control this behavior.\n",
            "  _warn_prf(average, modifier, msg_start, len(result))\n",
            "/usr/local/lib/python3.6/dist-packages/sklearn/metrics/_classification.py:1272: UndefinedMetricWarning: Recall and F-score are ill-defined and being set to 0.0 in labels with no true samples. Use `zero_division` parameter to control this behavior.\n",
            "  _warn_prf(average, modifier, msg_start, len(result))\n"
          ],
          "name": "stderr"
        }
      ]
    },
    {
      "cell_type": "markdown",
      "metadata": {
        "id": "ipTRVjHWyIoo",
        "colab_type": "text"
      },
      "source": [
        "#Random Forest\n"
      ]
    },
    {
      "cell_type": "code",
      "metadata": {
        "id": "gkk8nb4_0ppW",
        "colab_type": "code",
        "colab": {
          "base_uri": "https://localhost:8080/",
          "height": 155
        },
        "outputId": "9b9221d0-65bd-410e-9d67-0fb09ebdb780"
      },
      "source": [
        "from sklearn.ensemble import RandomForestClassifier\n",
        "\n",
        "rf = RandomForestClassifier(n_estimators = 10, criterion = 'entropy', random_state = 42)\n",
        "rf.fit(x_train_anova, y_train)"
      ],
      "execution_count": 49,
      "outputs": [
        {
          "output_type": "execute_result",
          "data": {
            "text/plain": [
              "RandomForestClassifier(bootstrap=True, ccp_alpha=0.0, class_weight=None,\n",
              "                       criterion='entropy', max_depth=None, max_features='auto',\n",
              "                       max_leaf_nodes=None, max_samples=None,\n",
              "                       min_impurity_decrease=0.0, min_impurity_split=None,\n",
              "                       min_samples_leaf=1, min_samples_split=2,\n",
              "                       min_weight_fraction_leaf=0.0, n_estimators=10,\n",
              "                       n_jobs=None, oob_score=False, random_state=42, verbose=0,\n",
              "                       warm_start=False)"
            ]
          },
          "metadata": {
            "tags": []
          },
          "execution_count": 49
        }
      ]
    },
    {
      "cell_type": "code",
      "metadata": {
        "id": "lmZ66Be63LPh",
        "colab_type": "code",
        "colab": {
          "base_uri": "https://localhost:8080/",
          "height": 706
        },
        "outputId": "d99a02b1-f2e5-4881-f510-1f28382101d9"
      },
      "source": [
        "from sklearn.model_selection import GridSearchCV\n",
        "# Create the parameter grid based on the results of random search \n",
        "param_grid = {\n",
        "    'bootstrap': [True],\n",
        "    'max_depth': [80, 90, 100, 110],\n",
        "    'max_features': [2, 3],\n",
        "    'min_samples_leaf': [3, 4, 5],\n",
        "    'min_samples_split': [8, 10, 12],\n",
        "    'n_estimators': [10,50, 100, 200, 300],\n",
        "    'criterion': ['entropy','gini']\n",
        "    \n",
        "}\n",
        "# Create a based model\n",
        "# Instantiate the grid search model\n",
        "grid_search = GridSearchCV(estimator = rf, param_grid = param_grid, \n",
        "                          cv = 10, n_jobs = -1, verbose = 2)\n",
        "grid_search.fit(x_train,y_train)"
      ],
      "execution_count": 52,
      "outputs": [
        {
          "output_type": "stream",
          "text": [
            "Fitting 10 folds for each of 720 candidates, totalling 7200 fits\n"
          ],
          "name": "stdout"
        },
        {
          "output_type": "stream",
          "text": [
            "[Parallel(n_jobs=-1)]: Using backend LokyBackend with 2 concurrent workers.\n",
            "[Parallel(n_jobs=-1)]: Done  37 tasks      | elapsed:   11.6s\n",
            "[Parallel(n_jobs=-1)]: Done 158 tasks      | elapsed:  1.1min\n",
            "[Parallel(n_jobs=-1)]: Done 361 tasks      | elapsed:  2.5min\n",
            "[Parallel(n_jobs=-1)]: Done 644 tasks      | elapsed:  4.8min\n",
            "[Parallel(n_jobs=-1)]: Done 1009 tasks      | elapsed:  7.7min\n",
            "[Parallel(n_jobs=-1)]: Done 1454 tasks      | elapsed: 11.1min\n",
            "[Parallel(n_jobs=-1)]: Done 1981 tasks      | elapsed: 15.2min\n",
            "[Parallel(n_jobs=-1)]: Done 2588 tasks      | elapsed: 20.0min\n",
            "[Parallel(n_jobs=-1)]: Done 3277 tasks      | elapsed: 25.3min\n",
            "[Parallel(n_jobs=-1)]: Done 4046 tasks      | elapsed: 30.6min\n",
            "[Parallel(n_jobs=-1)]: Done 4897 tasks      | elapsed: 35.7min\n",
            "[Parallel(n_jobs=-1)]: Done 5828 tasks      | elapsed: 41.2min\n",
            "[Parallel(n_jobs=-1)]: Done 6841 tasks      | elapsed: 47.3min\n",
            "[Parallel(n_jobs=-1)]: Done 7200 out of 7200 | elapsed: 49.6min finished\n"
          ],
          "name": "stderr"
        },
        {
          "output_type": "execute_result",
          "data": {
            "text/plain": [
              "GridSearchCV(cv=10, error_score=nan,\n",
              "             estimator=RandomForestClassifier(bootstrap=True, ccp_alpha=0.0,\n",
              "                                              class_weight=None,\n",
              "                                              criterion='entropy',\n",
              "                                              max_depth=None,\n",
              "                                              max_features='auto',\n",
              "                                              max_leaf_nodes=None,\n",
              "                                              max_samples=None,\n",
              "                                              min_impurity_decrease=0.0,\n",
              "                                              min_impurity_split=None,\n",
              "                                              min_samples_leaf=1,\n",
              "                                              min_samples_split=2,\n",
              "                                              min_weight_fraction_leaf=0.0,\n",
              "                                              n_estimators=10, n_jobs=None,\n",
              "                                              oob_score=False, random_state=42,\n",
              "                                              verbose=0, warm_start=False),\n",
              "             iid='deprecated', n_jobs=-1,\n",
              "             param_grid={'bootstrap': [True], 'criterion': ['entropy', 'gini'],\n",
              "                         'max_depth': [80, 90, 100, 110],\n",
              "                         'max_features': [2, 3], 'min_samples_leaf': [3, 4, 5],\n",
              "                         'min_samples_split': [8, 10, 12],\n",
              "                         'n_estimators': [10, 50, 100, 200, 300]},\n",
              "             pre_dispatch='2*n_jobs', refit=True, return_train_score=False,\n",
              "             scoring=None, verbose=2)"
            ]
          },
          "metadata": {
            "tags": []
          },
          "execution_count": 52
        }
      ]
    },
    {
      "cell_type": "code",
      "metadata": {
        "id": "q3FTgmzPEChB",
        "colab_type": "code",
        "colab": {
          "base_uri": "https://localhost:8080/",
          "height": 138
        },
        "outputId": "5daa728f-d3a8-435e-963b-6b4295061751"
      },
      "source": [
        "grid_search.best_params_"
      ],
      "execution_count": 53,
      "outputs": [
        {
          "output_type": "execute_result",
          "data": {
            "text/plain": [
              "{'bootstrap': True,\n",
              " 'criterion': 'gini',\n",
              " 'max_depth': 80,\n",
              " 'max_features': 2,\n",
              " 'min_samples_leaf': 3,\n",
              " 'min_samples_split': 8,\n",
              " 'n_estimators': 200}"
            ]
          },
          "metadata": {
            "tags": []
          },
          "execution_count": 53
        }
      ]
    },
    {
      "cell_type": "code",
      "metadata": {
        "id": "LJGyyHbyEVVf",
        "colab_type": "code",
        "colab": {
          "base_uri": "https://localhost:8080/",
          "height": 155
        },
        "outputId": "60d33c99-8ddf-4eea-f28b-43b638d82175"
      },
      "source": [
        "from sklearn.ensemble import RandomForestClassifier\n",
        "\n",
        "rf = RandomForestClassifier(n_estimators = 200, criterion = 'gini',bootstrap = True, max_depth=80, max_features=2, min_samples_leaf =3,min_samples_split=8,random_state=True)\n",
        "rf.fit(x_train, y_train)"
      ],
      "execution_count": 96,
      "outputs": [
        {
          "output_type": "execute_result",
          "data": {
            "text/plain": [
              "RandomForestClassifier(bootstrap=True, ccp_alpha=0.0, class_weight=None,\n",
              "                       criterion='gini', max_depth=80, max_features=2,\n",
              "                       max_leaf_nodes=None, max_samples=None,\n",
              "                       min_impurity_decrease=0.0, min_impurity_split=None,\n",
              "                       min_samples_leaf=3, min_samples_split=8,\n",
              "                       min_weight_fraction_leaf=0.0, n_estimators=200,\n",
              "                       n_jobs=None, oob_score=False, random_state=True,\n",
              "                       verbose=0, warm_start=False)"
            ]
          },
          "metadata": {
            "tags": []
          },
          "execution_count": 96
        }
      ]
    },
    {
      "cell_type": "markdown",
      "metadata": {
        "id": "NGSNkNpKIu_x",
        "colab_type": "text"
      },
      "source": [
        "## Evaluating of Random Forest"
      ]
    },
    {
      "cell_type": "code",
      "metadata": {
        "id": "jKMjACv92fOD",
        "colab_type": "code",
        "colab": {
          "base_uri": "https://localhost:8080/",
          "height": 34
        },
        "outputId": "7375c5d3-33f7-4502-a9db-a231127e09bc"
      },
      "source": [
        "rf_pred = rf.predict(x_test)\n",
        "rf_score = metrics.accuracy_score(y_test, rf_pred)\n",
        "print(rf_score)"
      ],
      "execution_count": 97,
      "outputs": [
        {
          "output_type": "stream",
          "text": [
            "0.7811550151975684\n"
          ],
          "name": "stdout"
        }
      ]
    },
    {
      "cell_type": "code",
      "metadata": {
        "id": "5OoqHj1-I_fg",
        "colab_type": "code",
        "colab": {
          "base_uri": "https://localhost:8080/",
          "height": 330
        },
        "outputId": "2463fdea-5904-4aa0-9155-56d6b113b5af"
      },
      "source": [
        "from sklearn.metrics import classification_report\n",
        "print(classification_report(y_test, rf_pred))"
      ],
      "execution_count": 98,
      "outputs": [
        {
          "output_type": "stream",
          "text": [
            "              precision    recall  f1-score   support\n",
            "\n",
            "           1       0.82      0.95      0.88       260\n",
            "           2       0.38      0.24      0.30        33\n",
            "           3       0.00      0.00      0.00         8\n",
            "           4       0.00      0.00      0.00         1\n",
            "           5       0.00      0.00      0.00         2\n",
            "           7       0.00      0.00      0.00         8\n",
            "           8       0.33      0.06      0.11        16\n",
            "           9       0.00      0.00      0.00         1\n",
            "\n",
            "    accuracy                           0.78       329\n",
            "   macro avg       0.19      0.16      0.16       329\n",
            "weighted avg       0.70      0.78      0.73       329\n",
            "\n"
          ],
          "name": "stdout"
        },
        {
          "output_type": "stream",
          "text": [
            "/usr/local/lib/python3.6/dist-packages/sklearn/metrics/_classification.py:1272: UndefinedMetricWarning: Precision and F-score are ill-defined and being set to 0.0 in labels with no predicted samples. Use `zero_division` parameter to control this behavior.\n",
            "  _warn_prf(average, modifier, msg_start, len(result))\n"
          ],
          "name": "stderr"
        }
      ]
    },
    {
      "cell_type": "markdown",
      "metadata": {
        "id": "BWxdxRnpJPpv",
        "colab_type": "text"
      },
      "source": [
        "## Confusion matrix"
      ]
    },
    {
      "cell_type": "code",
      "metadata": {
        "id": "q-e35_r1JSoY",
        "colab_type": "code",
        "colab": {
          "base_uri": "https://localhost:8080/",
          "height": 155
        },
        "outputId": "c2ee3b53-4f6f-466a-cb93-11618a49624d"
      },
      "source": [
        "import matplotlib.pyplot as plt\n",
        "from sklearn.metrics import plot_confusion_matrix\n",
        "from sklearn.metrics import confusion_matrix\n",
        "\n",
        "cm = confusion_matrix(y_test, rf_pred)\n",
        "\n",
        "print(cm)"
      ],
      "execution_count": 99,
      "outputs": [
        {
          "output_type": "stream",
          "text": [
            "[[248  11   0   0   0   0   1   0]\n",
            " [ 24   8   0   0   0   1   0   0]\n",
            " [  6   1   0   0   0   0   1   0]\n",
            " [  1   0   0   0   0   0   0   0]\n",
            " [  2   0   0   0   0   0   0   0]\n",
            " [  7   1   0   0   0   0   0   0]\n",
            " [ 15   0   0   0   0   0   1   0]\n",
            " [  1   0   0   0   0   0   0   0]]\n"
          ],
          "name": "stdout"
        }
      ]
    },
    {
      "cell_type": "markdown",
      "metadata": {
        "id": "fw8c_BcziDjo",
        "colab_type": "text"
      },
      "source": [
        "## Using Baseline Model"
      ]
    },
    {
      "cell_type": "code",
      "metadata": {
        "id": "CXIxBKcp8p_l",
        "colab_type": "code",
        "colab": {
          "base_uri": "https://localhost:8080/",
          "height": 158
        },
        "outputId": "daf142ba-887b-4c26-f080-b25355801b6b"
      },
      "source": [
        "from bs4 import BeautifulSoup\n",
        "from textblob import TextBlob\n",
        "import nltk\n",
        "nltk.download('punkt')\n",
        "nltk.download('averaged_perceptron_tagger')\n",
        "import pandas as pd \n",
        "\n",
        "#Label and file details load\n",
        "df = pd.read_csv('/gdrive/My Drive/Machine Learning /master996.csv', header = None, encoding='latin1')\n",
        "csvInput = df.values.tolist()\n",
        "\n",
        "#Please change file path\n",
        "file_path = '/gdrive/My Drive/Gutenberg_19th_century_English_Fiction'\n",
        "\n",
        "print(csvInput)"
      ],
      "execution_count": 5,
      "outputs": [
        {
          "output_type": "stream",
          "text": [
            "[nltk_data] Downloading package punkt to /root/nltk_data...\n",
            "[nltk_data]   Package punkt is already up-to-date!\n",
            "[nltk_data] Downloading package averaged_perceptron_tagger to\n",
            "[nltk_data]     /root/nltk_data...\n",
            "[nltk_data]   Package averaged_perceptron_tagger is already up-to-\n",
            "[nltk_data]       date!\n",
            "[['Book_Name;book_id;guten_genre;Author_Name'], ['The Mystery of the Boule Cabinet: A Detective Story;pg10067.epub;Detective and Mystery;Stevenson| Burton Egbert'], ['The Pupil;pg1032.epub;Literary;James| Henry'], [\"At Love's Cost;pg10379.epub;Literary;Garvice| Charles\"], ['The Heart of the Range;pg10473.epub;Western Stories;White| William Patterson'], ['The Worshipper of the Image;pg10812.epub;Literary;Gallienne| Richard Le'], ['The Book-Bills of Narcissus - An Account Rendered by Richard Le Gallienne;pg10826.epub;Literary;Gallienne| Richard Le'], ['Elusive Isabel;pg10943.epub;Detective and Mystery;Futrelle| Jacques'], [\"Joe Burke's Last Stand;pg11004.epub;Literary;Wetterau| John Moncure\"], ['O+F;pg11005.epub;Literary;Wetterau| John Moncure'], ['Polly and the Princess;pg11259.epub;Literary;Dowd| Emma C.'], [\"Maggie Miller: The Story of Old Hagar's Secret;pg11280.epub;Literary;Holmes| Mary Jane\"], ['The Obstacle Race;pg11520.epub;Literary;Dell| Ethel M.'], ['From out the Vasty Deep;pg11581.epub;Literary;Lowndes| Marie Belloc'], ['Fate Knocks at the Door: A Novel;pg11655.epub;Literary;Comfort| Will Levington'], ['The Torrent (Entre Naranjos);pg11674.epub;Literary;Ibez| Vicente Blasco'], ['The Jolly Corner;pg1190.epub;Ghost and Horror;James| Henry'], ['The Coxon Fund;pg1193.epub;Literary;James| Henry'], ['The Mystery of Monastery Farm;pg11931.epub;Literary;Naylor| H. R.'], ['Wife in Name Only;pg11970.epub;Literary;Brame| Charlotte M.'], ['Darrel of the Blessed Isles;pg12102.epub;Literary;Bacheller| Irving'], ['The Adventures of Jimmie Dale;pg1218.epub;Detective and Mystery;Packard| Frank L.'], ['The Story of Bessie Costrell;pg12181.epub;Literary;Ward| Mrs. Humphry'], ['Fated to Be Free: A Novel;pg12303.epub;Literary;Ingelow| Jean'], ['Nancy: A Novel;pg12304.epub;Literary;Broughton| Rhoda'], ['The Top of the World;pg12360.epub;Literary;Dell| Ethel M.'], ['The Reason Why;pg12450.epub;Literary;Glyn| Elinor'], ['Miriam Monfort - A Novel;pg12453.epub;Literary;Warfield| Catherine A.'], ['A Perilous Secret;pg12470.epub;Literary;Reade| Charles'], ['Deadham Hard: A Romance;pg12520.epub;Literary;Malet| Lucas'], ['A Simple Soul;pg1253.epub;Literary;Flaubert| Gustave'], ['A Spinner in the Sun;pg12672.epub;Literary;Reed| Myrtle'], ['The Autobiography of a Slander;pg1273.epub;Literary;Lyall| Edna'], ['Tokyo to Tijuana: Gabriele Departing America;pg12733.epub;Literary;Sills| Steven David Justin'], [\"The Coquette's Victim - Everyday Life Library No. 1;pg12886.epub;Literary;Brame| Charlotte M\"], ['The Song of the Blood-Red Flower;pg12935.epub;Literary;Linnankoski| Johannes'], ['People Like That - A Novel;pg12972.epub;Literary;Bosher| Kate Langley'], ['The Lady of Big Shanty;pg12989.epub;Literary;Smith| F. Berkeley'], ['The Philanderers;pg13057.epub;Literary;Mason| A. E. W.'], ['Coralie - Everyday Life Library No. 2;pg13162.epub;Literary;Brame| Charlotte M.'], ['Broken to the Plow - A Novel;pg13178.epub;Literary;Dobie| Charles Caldwell'], ['The Wild Olive: A Novel;pg13212.epub;Literary;King| Basil'], ['The American Baron: A Novel;pg13257.epub;Literary;Mille| James De'], ['Out of the Ashes;pg13273.epub;Literary;Grant| Ethel Watts Mumford'], ['The Light That Lures;pg13312.epub;Literary;Brebner| Percy James'], ['Miss Bretherton;pg13432.epub;Literary;Ward| Mrs. Humphry'], ['Aylwin;pg13454.epub;Literary;Watts-Dunton| Theodore'], ['The Collected Works of Ambrose Bierce- Volume 1;pg13541.epub;Literary;Bierce| Ambrose'], ['The Son of Clemenceau- A Novel of Modern Love and Life;pg13572.epub;Literary;Dumas| Alexandre'], [\"One Day  A sequel to 'Three Weeks';pg13776.epub;Literary;Elinor Glyn\"], ['The Port of Missing Men;pg13913.epub;Literary;Nicholson| Meredith'], ['The Seven Poor Travellers;pg1392.epub;Christmas Stories;Dickens| Charles'], ['Charles Rex;pg13960.epub;Love and Romance;Dell| Ethel M.'], [\"V. V.'s Eyes;pg13985.epub;Literary;Harrison| Henry Sydnor\"], ['The End of the World: A Love Story;pg14051.epub;Love and Romance;Eggleston| Edward'], ['Sandy;pg14079.epub;Sea and Adventure;Rice| Alice Caldwell Hegan'], ['If Winter Comes;pg14145.epub;Literary;Hutchinson| A. S. M.'], ['Going into Society;pg1422.epub;Literary;Dickens| Charles'], ['Flames;pg14253.epub;Literary;Hichens| Robert'], ['Queed - A Novel;pg14303.epub;Literary;Harrison| Henry Sydnor'], ['The Missing Bride;pg14382.epub;Literary;Southworth| Emma Dorothy Eliza Nevitte'], ['Septimus;pg14395.epub;Literary;Locke| William John'], ['The Exemplary Novels of Cervantes;pg14420.epub;Literary;Saavedra| Miguel de Cervantes'], [\"True Love's Reward - A Sequel to Mona;pg14427.epub;Literary;Sheldon| Mrs. Georgie\"], [\"The Doctor's Dilemma;pg14454.epub;Literary;Stretton| Hesba\"], ['A Daughter of To-Day;pg14490.epub;Literary;Duncan| Sara Jeannette'], ['Sister Carmen;pg14523.epub;Literary;Corvus| M.'], ['The Just and the Unjust;pg14581.epub;Literary;Kester| Vaughan'], [\"The Devil's Garden;pg14605.epub;Literary;Maxwell| W. B.\"], ['Jaffery;pg14669.epub;Literary;Locke| William John'], [\"Christian's Mistake;pg14687.epub;Literary;Craik| Dinah Maria Mulock\"], ['The Laurel Bush: An Old-Fashioned Love Story;pg14708.epub;Love and Romance;Craik| Dinah Maria Mulock'], ['Vandover and the Brute;pg14712.epub;Literary;Norris| Frank'], ['The Younger Set;pg14852.epub;Literary;Chambers| Robert W.'], ['The Man Thou Gavest;pg14858.epub;Literary;Comstock| Harriet T.'], ['Red Pottage;pg14885.epub;Literary;Cholmondeley| Mary'], ['The Keeper of the Door;pg15013.epub;Literary;Dell| Ethel M.'], ['The Cathedral;pg15067.epub;Literary;Huysmans| J.-K.'], ['The Cab of the Sleeping Horse;pg15094.epub;Literary;Scott| John Reed'], ['The Jervaise Comedy;pg15116.epub;Literary;Beresford| J. D.'], ['Sea and Shore - A Sequel to \"Miriam\\'s Memoirs\";pg15117.epub;Literary;Warfield| Catherine A.'], [\"David Lockwin\\x97The People's Idol;pg15123.epub;Literary;McGovern| John\"], ['The Inner Sisterhood - A Social Study in High Colors;pg15179.epub;Literary;Sherley| Douglass'], [\"My Mother's Rival - Everyday Life Library No. 4;pg15181.epub;Literary;Brame| Charlotte M.\"], [\"Marion Arleigh's Penance - Everyday Life Library No. 5;pg15182.epub;Literary;Brame| Charlotte M.\"], ['The Tragedy of the Chain Pier - Everyday Life Library No. 3;pg15183.epub;Literary;Brame| Charlotte M.'], ['Lewie - The Bended Twig;pg15244.epub;Literary;Bradford| Sarah H.'], [\"Bessie's Fortune: A Novel;pg15275.epub;Literary;Holmes| Mary Jane\"], ['Gladys- the Reaper;pg15315.epub;Literary;Beale| Anne'], [\"The Baronet's Bride- A Woman's Vengeance;pg15317.epub;Literary;Fleming| May Agnes\"], ['Tracy Park: A Novel;pg15321.epub;Literary;Holmes| Mary Jane'], ['The Lever: A Novel;pg15430.epub;Literary;Orcutt| William Dana'], ['Trumps;pg15498.epub;Literary;Curtis| George William'], ['Captivity;pg15527.epub;Literary;Eyles| Leonora'], ['A Splendid Hazard;pg15671.epub;Literary;MacGrath| Harold'], ['Far to Seek - A Romance of England and India;pg15704.epub;Literary;Diver| Maud'], ['Bunker Bean;pg15743.epub;Literary;Wilson| Harry Leon'], ['Ishmael- In the Depths;pg15774.epub;Literary;Southworth| Emma Dorothy Eliza Nevitte'], ['An Unpardonable Liar;pg15793.epub;Literary;Parker| Gilbert'], ['The Seeker;pg15797.epub;Literary;Wilson| Harry Leon'], ['Walter Harland - Memories of the Past;pg15799.epub;Literary;Caswell| Harriet S.'], ['Garman and Worse: A Norwegian Novel;pg15864.epub;Literary;Kielland| Alexander Lange'], ['The Unseen Bridegroom- Wedded For a Week;pg15875.epub;Literary;Fleming| May Agnes'], ['Allegories of Life;pg15895.epub;Allegories;Adams| Mrs. J. S.'], ['His Excellency the Minister;pg15934.epub;Literary;Claretie| Jules'], [\"An Englishwoman's Love-Letters;pg15941.epub;Literary;Housman| Laurence\"], ['The Fatal Glove;pg15989.epub;Literary;Augusta| Clara'], ['The Lost Lady of Lone;pg16039.epub;Literary;Southworth| Emma Dorothy Eliza Nevitte'], ['Uncle Max;pg16080.epub;Literary;Carey| Rosa Nouchette'], [\"For Woman's Love;pg16094.epub;Literary;Southworth| Emma Dorothy Eliza Nevitte\"], ['The Hoyden;pg16137.epub;Literary;Duchess|'], ['The Cromptons;pg16138.epub;Literary;Holmes| Mary Jane'], ['A Man and a Woman;pg16143.epub;Literary;Waterloo| Stanley'], ['Prince Fortunatus;pg16217.epub;Literary;Black| William'], ['Jan: A Dog and a Romance;pg16252.epub;Literary;Dawson| A. J.'], ['Idolatry: A Romance;pg16283.epub;Literary;Hawthorne| Julian'], ['The Foolish Virgin;pg1634.epub;Literary;Dixon| Thomas'], ['Ellen Walton - The Villain and His Victims;pg16345.epub;Literary;Addison| Alvin'], ['The Summons;pg16381.epub;Literary;Mason| A. E. W.'], ['What Necessity Knows;pg16398.epub;Literary;Dougall| L.'], ['Led Astray and The Sphinx - Two Novellas In One Volume;pg16403.epub;Literary;Feuillet| Octave'], ['The Measure of a Man;pg16453.epub;Literary;Barr| Amelia E.'], ['The Moon out of Reach;pg16497.epub;Love and Romance;Pedler| Margaret'], ['Foes;pg16554.epub;Literary;Johnston| Mary'], ['The Twins - A Domestic Novel;pg16574.epub;Literary;Tupper| Martin Farquhar'], ['The Lee Shore;pg16612.epub;Literary;Macaulay| Rose'], ['Bad Hugh;pg16662.epub;Literary;Holmes| Mary Jane'], ['Eveline Mandeville - The Horse Thief Rival;pg16676.epub;Literary;Addison| Alvin'], ['Adrien Leroy;pg16682.epub;Literary;Garvice| Charles'], ['A Comedy of Masks: A Novel;pg16703.epub;Literary;Dowson| Ernest Christopher| Moore| Arthur'], ['The Husbands of Edith;pg16719.epub;Literary;McCutcheon| George Barr'], [\"Marzio's Crucifix and Zoroaster;pg16720.epub;Literary;Crawford| F. Marion\"], ['Mike Fletcher: A Novel;pg16730.epub;Literary;Moore| George Augustus'], ['Jacqueline of Golden River;pg16771.epub;Literary;Egbert| H. M.'], ['My Little Lady;pg16788.epub;Literary;Poynter| E. Frances'], [\"Elster's Folly: A Novel;pg16798.epub;Literary;Wood| Mrs. Henry\"], ['Dangerous Ages;pg16799.epub;Literary;Macaulay| Rose'], ['Lydia of the Pines;pg16803.epub;Literary;Morrow| Honor'], ['Mark Hurdlestone - The Two Brothers;pg16836.epub;Literary;Moodie| Susanna'], ['The Halo;pg16909.epub;Literary;Hutten| Bettina Von'], ['The Bradys and the Girl Smuggler Working for the Custom House;pg16919.epub;Detective and Mystery;Doughty| Francis Worcester'], ['The Bad Man: A Novel;pg16968.epub;Literary;Browne| Porter Emerson| Towne| Charles Hanson'], ['The Vanished Messenger;pg1699.epub;Detective and Mystery;Oppenheim| E. Phillips'], ['Miss Dexie - A Romance of the Provinces;pg16993.epub;Literary;Eveleth| Stanford'], ['The Half-Hearted;pg17047.epub;Sea and Adventure;Buchan| John'], ['The Man and the Moment;pg17048.epub;Literary;Glyn| Elinor'], ['The Crock of Gold - A Rural Novel;pg17062.epub;Literary;Tupper| Martin Farquhar'], [\"Guy Livingstone'Thorough';pg17084.epub;Literary;Lawrence| George A.\"], ['Destiny;pg17141.epub;Literary;Buck| Charles Neville'], ['The Actress in High Life - An Episode in Winter Quarters;pg17191.epub;Literary;Bowen| Sue Petigru'], ['Atlantis;pg17241.epub;Literary;Hauptmann| Gerhart'], ['Sunrise;pg17308.epub;Literary;Black| William'], ['Arms and the Woman;pg17359.epub;Love and Romance;MacGrath| Harold'], ['Hearts and Masks;pg17390.epub;Literary;MacGrath| Harold'], ['The Adventures of Kathlyn;pg17402.epub;Literary;MacGrath| Harold'], ['The Thin Red Line  and Blue Blood;pg17434.epub;Literary;Griffiths| Arthur'], ['The Second Honeymoon;pg17446.epub;Literary;Ayres| Ruby M.'], ['The Red Seal;pg1747.epub;Literary;Lincoln| Natalie Sumner'], [\"Other People's Money;pg1748.epub;Detective and Mystery;Gaboriau| Emile\"], ['On the Church Steps;pg17559.epub;Literary;Hallowell| Sarah C.'], ['By the Light of the Soul: A Novel;pg17564.epub;Literary;Freeman| Mary Eleanor Wilkins'], ['Romance;pg17642.epub;Literary;Conrad| Joseph| Ford| Ford Madox'], ['Bella Donna: A Novel;pg17698.epub;Literary;Hichens| Robert'], [\"The Courage of Marge O'Doone;pg17745.epub;Literary;Curwood| James Oliver\"], ['Foes in Ambush;pg17806.epub;Literary;King| Charles'], ['Contrary Mary;pg17938.epub;Literary;Bailey| Temple'], ['Betty at Fort Blizzard;pg18022.epub;Literary;Seawell| Molly Elliot'], [\"Medoline Selwyn's Work;pg18052.epub;Literary;Colter| Mrs. J. J.\"], ['The Zeit-Geist;pg18054.epub;Literary;Dougall| L.'], [\"Bucky O'Connor: A Tale of the Unfenced Border;pg1809.epub;Western Stories;Raine| William MacLeod\"], ['The Road to Mandalay - A Tale of Burma;pg18239.epub;Literary;Croker| B. M.'], ['Gentle Julia;pg18259.epub;Literary;Tarkington| Booth'], ['Enter Bridget;pg18280.epub;Literary;Cobb| Thomas'], ['The Case of the Lamp That Went Out;pg1832.epub;Detective and Mystery;Groner| Auguste'], ['The Case of the Registered Letter;pg1833.epub;Detective and Mystery;Groner| Auguste'], ['The Lighted Match;pg18336.epub;Literary;Buck| Charles Neville'], ['The Case of the Pocket Diary Found in the Snow;pg1834.epub;Detective and Mystery;Groner| Auguste'], [\"The Case of the Pool of Blood in the Pastor's Study;pg1835.epub;Detective and Mystery;Groner| Auguste\"], ['The Case of the Golden Bullet;pg1836.epub;Detective and Mystery;Groner| Auguste'], ['A Melody in Silver;pg18434.epub;Literary;Abbott| Keene'], ['Parrot & Co.;pg18443.epub;Literary;MacGrath| Harold'], ['The Treasure of Heaven: A Romance of Riches;pg18449.epub;Literary;Corelli| Marie'], ['The Vision Splendid;pg1846.epub;Western Stories;Raine| William MacLeod'], ['The Place Beyond the Winds;pg18488.epub;Literary;Comstock| Harriet T.'], ['A Court of Inquiry;pg18489.epub;Literary;Richmond| Grace S.'], ['The Yellow Crayon;pg1849.epub;Detective and Mystery;Oppenheim| E. Phillips'], ['The Woman in the Alcove;pg1851.epub;Detective and Mystery;Green| Anna Katharine'], [\"A Mummer's Tale;pg18545.epub;Literary;France| Anatole\"], ['Initials Only;pg1857.epub;Detective and Mystery;Green| Anna Katharine'], ['The President: A Novel;pg18572.epub;Literary;Lewis| Alfred Henry'], ['The Poor Plutocrats;pg18705.epub;Literary;Jkai| Mr'], [\"Dr. Dumany's Wife;pg18708.epub;Literary;Jkai| Mr\"], ['Painted Windows;pg1875.epub;Literary;Peattie| Elia Wilkinson'], ['A Millionaire of Yesterday;pg1878.epub;Detective and Mystery;Oppenheim| E. Phillips'], ['The House of Martha;pg18822.epub;Literary;Stockton| Frank Richard'], ['Winner Take All;pg18829.epub;Literary;Evans| Larry'], ['The Bittermeads Mystery;pg1888.epub;Detective and Mystery;Punshon| E. R.'], [\"Then I'll Come Back to You;pg18894.epub;Literary;Evans| Larry\"], ['The Seventh Man;pg1897.epub;Western Stories;Brand| Max'], ['The Starbucks;pg18984.epub;Literary;Read| Opie Percival'], ['Sword and Gown: A Novel;pg19121.epub;Literary;Lawrence| George A.'], ['The House in the Mist;pg19147.epub;Detective and Mystery;Green| Anna Katharine'], ['The Cow Puncher;pg19173.epub;Literary;Stead| Robert J. C.'], ['Lady Larkspur;pg19204.epub;Literary;Nicholson| Meredith'], [\"The Alchemist's Secret;pg19224.epub;Literary;Williams| Isabel Cecilia\"], ['Joyce of the North Woods;pg19225.epub;Literary;Comstock| Harriet T.'], ['Michael McGrath- Postmaster;pg19257.epub;Literary;Connor| Ralph'], [\"His Heart's Queen;pg19259.epub;Literary;Sheldon| Mrs. Georgie\"], ['Born Again;pg19459.epub;Literary;Lawson| Alfred W.'], ['Branded;pg19472.epub;Western Stories;Lynde| Francis'], ['North of Fifty-Three;pg19510.epub;Literary;Sinclair| Bertrand W.'], [\"Kate Danton- Captain Danton's Daughters: A Novel;pg19512.epub;Literary;Fleming| May Agnes\"], ['Sight Unseen;pg1960.epub;Detective and Mystery;Rinehart| Mary Roberts'], ['The Confession;pg1963.epub;Detective and Mystery;Rinehart| Mary Roberts'], ['Dixie Hart;pg19818.epub;Literary;Harben| Will N.'], ['Heart - A Social Novel;pg20235.epub;Literary;Tupper| Martin Farquhar'], ['A Political Romance;pg20257.epub;Literary;Sterne| Laurence'], ['The Lovely Lady;pg20359.epub;Literary;Austin| Mary Hunter'], ['A Son of the Hills;pg20424.epub;Literary;Comstock| Harriet T.'], ['The Seventh Noon;pg20429.epub;Literary;Bartlett| Frederick Orin'], ['The Triflers;pg20458.epub;Literary;Bartlett| Frederick Orin'], ['Ernest Linwood- The Inner Life of the Author;pg20462.epub;Literary;Hentz| Caroline Lee'], ['The Complete Prose Works of Martin Farquhar Tupper;pg20610.epub;Literary;Tupper| Martin Farquhar'], ['The Master-Knot of Human Fate;pg20615.epub;Literary;Meredith| Ellis'], ['The Romance of an Old Fool;pg20661.epub;Love and Romance;Field| Roswell Martin'], ['The Monctons: A Novel. Volume 1 (of 2);pg20835.epub;Literary;Moodie| Susanna'], ['In Apple-Blossom Time: A Fairy-Tale to Date;pg20901.epub;Love and Romance;Burnham| Clara Louise'], ['Overdue: The Story of a Missing Ship;pg21067.epub;Sea and Adventure;Collingwood| Harry'], ['The Ghost Ship: A Mystery of the Sea;pg21087.epub;Sea and Adventure;Hutcheson| John C.'], ['Phyllis of Philistia;pg2155.epub;Literary;Moore| Frank Frankfort'], ['Rattlin the Reefer;pg21578.epub;Sea and Adventure;Howard| Edward'], ['On the Stairs;pg21613.epub;Literary;Fuller| Henry Blake'], [\"April's Lady: A Novel;pg21641.epub;Literary;Duchess|\"], ['The Making of a Soul;pg21674.epub;Literary;Rhodes| Kathlyn'], ['The Tyranny of Weakness;pg21689.epub;Literary;Buck| Charles Neville'], ['Flint: His Faults- His Friendships and His Fortunes;pg21690.epub;Literary;Goodwin| Maud Wilder'], [\"Agatha's Husband: A Novel;pg21767.epub;Literary;Craik| Dinah Maria Mulock\"], ['The Mark Of Cain;pg21821.epub;Literary;Lang| Andrew'], ['The Daughters of Danaus;pg21858.epub;Literary;Caird| Mona'], ['Afterwards;pg21867.epub;Literary;Rhodes| Kathlyn'], ['Luna Benamor;pg21870.epub;Literary;Ibez| Vicente Blasco'], ['Blacksheep! Blacksheep!;pg21887.epub;Sea and Adventure;Nicholson| Meredith'], ['Embarrassments;pg21932.epub;Literary;James| Henry'], ['The Pleasant Street Partnership: A Neighborhood Story;pg21944.epub;Literary;Leonard| Mary Finley'], ['The Lure of the Mask;pg22158.epub;Literary;MacGrath| Harold'], ['Aunt Rachel - A Rustic Sentimental Comedy;pg22202.epub;Literary;Murray| David Christie'], ['In Direst Peril;pg22205.epub;Literary;Murray| David Christie'], ['An Old Meerschaum - From Coals Of Fire And Other Stories- Volume II. (of III.);pg22206.epub;Literary;Murray| David Christie'], ['The Romance Of Giovanni Calvotti - From Coals Of Fire And Other Stories- Volume II. (of III.);pg22207.epub;Literary;Murray| David Christie'], ['Cruel Barbara Allen - From Coals Of Fire And Other Stories- Volume II. (of III.);pg22208.epub;Literary;Murray| David Christie'], ['Molly Bawn;pg22214.epub;Literary;Duchess| '], ['Oswald Langdon - Pierre and Paul Lanier. A Romance of 1894-1898;pg22221.epub;Literary;Hamilton| Levi Jackson'], ['Schwartz: A History - From \"Schwartz\" by David Christie Murray;pg22271.epub;Literary;Murray| David Christie'], ['Young Mr. Barter\\'s Repentance - From \"Schwartz\" by David Christie Murray;pg22272.epub;Literary;Murray| David Christie'], ['Bulldog And Butterfly - From \"Schwartz\" by David Christie Murray;pg22273.epub;Literary;Murray| David Christie'], ['Julia And Her Romeo: A Chronicle Of Castle Barfield - From \"Schwartz\" by David Christie Murray;pg22274.epub;Literary;Murray| David Christie'], ['VC \\x97 A Chronicle of Castle Barfield and of the Crimea;pg22275.epub;Literary;Murray| David Christie'], [\"Despair's Last Journey;pg22276.epub;Literary;Murray| David Christie\"], ['The Tale Of Mr. Peter Brown - Chelsea Justice - From \"The New Decameron\"|| Volume III.;pg22476.epub;Literary;Sackville-West| Vita'], [\"Mary Louise and Josie O'Gorman;pg22532.epub;Literary;Sampson| Emma Speed\"], ['King Candaules;pg22660.epub;Literary;Gautier| Thophile'], ['32 Caliber;pg22781.epub;Literary;McGibeny| Donald'], ['Havoc;pg2287.epub;Detective and Mystery;Oppenheim| E. Phillips'], [\"Doctor Luttrell's First Patient;pg22883.epub;Love and Romance;Carey| Rosa Nouchette\"], [\"Nell- of Shorne Mills- One Heart's Burden;pg22961.epub;Literary;Garvice| Charles\"], ['A Modern Idyll;pg23009.epub;Literary;Harris| Frank'], ['Gulmore- The Boss;pg23010.epub;Literary;Harris| Frank'], ['Elder Conklin;pg23012.epub;Literary;Harris| Frank'], [\"Helen and Arthur- Miss Thusa's Spinning Wheel;pg23106.epub;Literary;Hentz| Caroline Lee\"], ['A Chinese Command: A Story of Adventure in Eastern Seas;pg23118.epub;Sea and Adventure;Collingwood| Harry'], [\"Other People's Business: The Romantic Career of the Practical Miss Dale;pg23157.epub;Literary;Smith| Harriet L.\"], ['Old Ebenezer;pg23215.epub;Literary;Read| Opie Percival'], ['The Fête At Coqueville - 1907;pg23222.epub;Literary;Zola| ile'], ['Good Blood;pg23223.epub;Literary;Wildenbruch| Ernst von'], ['Mistress Anne;pg23246.epub;Literary;Bailey| Temple'], ['The Folly Of Eustace - 1896;pg23420.epub;Literary;Hichens| Robert'], ['The Man Next Door;pg23606.epub;Literary;Hough| Emerson'], ['The Riddle Of The Rocks - 1895;pg23629.epub;Literary;Murfree| Mary Noailles'], ['The Phantoms Of The Foot-Bridge - 1895;pg23630.epub;Literary;Murfree| Mary Noailles'], ['The Moonshiners At Hoho-Hebee Falls - 1895;pg23631.epub;Literary;Murfree| Mary Noailles'], [\"'way Down In Lonesome Cove - 1895;pg23632.epub;Literary;Murfree| Mary Noailles\"], ['His \"Day In Court\" - 1895;pg23633.epub;Literary;Murfree| Mary Noailles'], ['Flamsted quarries;pg23664.epub;Literary;Waller| Mary E.'], ['The Dew of Their Youth;pg23736.epub;Literary;Crockett| S. R.'], ['David Malcolm;pg23741.epub;Literary;Lloyd| Nelson'], ['Aladdin & Co.: A Romance of Yankee Magic;pg23745.epub;Literary;Quick| Herbert'], ['Cruel As The Grave;pg23789.epub;Literary;Southworth| Emma Dorothy Eliza Nevitte'], ['A True Friend: A Novel;pg23797.epub;Literary;Sergeant| Adeline'], ['The Opal Serpent;pg24769.epub;Detective and Mystery;Hume| Fergus'], ['The Book of All-Power;pg24920.epub;Literary;Wallace| Edgar'], ['The Kingdom Round the Corner: A Novel;pg25702.epub;Literary;Ashford| Angela| Ashford| Daisy'], ['An Apostate: Nawin of Thais;pg25730.epub;Literary;Dawson| Coningsby'], [\"Her Mother's Secret;pg26259.epub;Literary;Hume| Fergus\"], [\"Margarita's Soul: The Romantic Recollections of a Man of Fifty;pg26277.epub;Literary;Southworth| Emma Dorothy Eliza Nevitte\"], ['Simon;pg26306.epub;Detective and Mystery;Bacon| Josephine Daskam'], [\"Madeline Payne- the Detective's Daughter;pg26482.epub;Detective and Mystery;Lynch| Lawrence L.\"], ['Burlesques;pg2675.epub;Literary;Lynch| Lawrence L.'], ['Ringfield: A Novel;pg26768.epub;Literary;Thackeray| William Makepeace'], ['A Red Wallflower;pg26828.epub;Literary;Harrison| S. Frances'], ['A Pessimist in Theory and Practice;pg26847.epub;Literary;Warner| Susan'], ['The Bradys Beyond Their Depth- The Great Swamp Mystery;pg26925.epub;Detective and Mystery;Bird| Frederic Mayer'], ['Bird of Paradise;pg27323.epub;Literary;Seltzer| Charles Alden'], [\"The Giant's Robe;pg27507.epub;Literary;Sabin| Edwin L.\"], ['The Seven Secrets;pg27549.epub;Detective and Mystery;Anstey| F.'], [\"Five O'Clock Tea: Farce;pg27709.epub;Literary;Queux| William Le\"], [\"A Bachelor's Dream;pg27838.epub;Literary;Howells| William Dean\"], ['The Dominant Dollar;pg27857.epub;Literary;Duchess|'], [\"Dick Leslie's Luck: A Story of Shipwreck and Adventure;pg27909.epub;Sea and Adventure;Lillibridge| Will\"], ['Anderson Crow- Detective;pg28229.epub;Detective and Mystery;Morris| Gouverneur'], ['A Romantic Young Lady;pg28236.epub;Literary;McCutcheon| George Barr'], ['The Beloved Woman;pg28301.epub;Literary;Grant| Robert'], ['In Brief Authority;pg28459.epub;Literary;Norris| Kathleen Thompson'], ['Not Like Other Girls;pg28463.epub;Literary;Anstey| F.'], ['The Limit;pg28465.epub;Literary;Leverson| Ada'], ['The Brass Bound Box;pg28509.epub;Literary;Raymond| Evelyn'], ['Wee Wifie;pg28717.epub;Literary;Carey| Rosa Nouchette'], ['Lover or Friend;pg28925.epub;Literary;Carey| Rosa Nouchette'], ['Chit-Chat  Nirvana  The Searchlight;pg29071.epub;Literary;Holt| Mathew Joseph'], ['Cleo The Magnificent- The Muse of the Real: A Novel;pg29207.epub;Literary;Zangwill| Louis'], ['The First Violin - A Novel;pg29219.epub;Literary;Fothergill| Jessie'], ['People of Position;pg29274.epub;Literary;Hyatt| Stanley Portal'], ['Australia Revenged;pg29315.epub;Literary;Boomerang|'], [\"An Old Sailor's Yarns;pg29323.epub;Sea and Adventure;Ames| N.\"], ['The Prisoner;pg29366.epub;Literary;Brown| Alice'], ['Murder Point: A Tale of Keewatin;pg29400.epub;Detective and Mystery;Dawson| Coningsby'], ['Rope;pg29570.epub;Literary;Hall| Holworthy'], ['Once to Every Man;pg29646.epub;Literary;Evans| Larry'], ['Mixed Faces;pg29657.epub;Literary;Norton| Roy'], ['Nobody;pg29671.epub;Literary;Vance| Louis Joseph'], ['The Hound From The North;pg29695.epub;Literary;Cullum| Ridgwell'], ['The Heart of Thunder Mountain;pg29697.epub;Literary;Bingham| Edfrid A.'], [\"Hetty's Strange History;pg29699.epub;Literary;Jackson| Helen Hunt\"], ['The Princess Virginia;pg29715.epub;Literary;Williamson| A. M.| Williamson| C. N.'], ['The Strollers;pg29726.epub;Literary;Isham| Frederic Stewart'], [\"Victor's Triumph - Sequel to A Beautiful Fiend;pg29729.epub;Literary;Southworth| Emma Dorothy Eliza Nevitte\"], ['The Missionary;pg29743.epub;Literary;Griffith| George Chetwynd'], ['The Gorgeous Girl;pg29753.epub;Literary;Bartley| Nalbro'], ['The Dominant Strain;pg29760.epub;Literary;Ray| Anna Chapin'], ['Audrey Craven;pg29766.epub;Literary;Sinclair| May'], ['The Man Who Wins;pg29808.epub;Literary;Herrick| Robert'], ['The Paliser case;pg29847.epub;Literary;Saltus| Edgar'], ['Dwellers in the Hills;pg29851.epub;Literary;Post| Melville Davisson'], ['A Great Man: A Frolic;pg29860.epub;Literary;Bennett| Arnold'], ['The Old Countess- The Two Proposals;pg29862.epub;Literary;Stephens| Ann S.'], ['Love and Lucy;pg29868.epub;Literary;Hewlett| Maurice'], ['The Crimson Tide: A Novel;pg29880.epub;Literary;Chambers| Robert W.'], [\"The Doctor's Family;pg29890.epub;Literary;Oliphant| Mrs.\"], ['The Rector;pg29891.epub;Literary;Oliphant| Mrs.'], ['Changing Winds - A Novel;pg29902.epub;Literary;Ervine| St. John G.'], ['Jan and Her Job;pg29945.epub;Literary;Harker| L. Allen'], ['The Eye of Dread;pg30031.epub;Literary;Erskine| Payne'], ['In the Shadow of the Hills;pg30037.epub;Literary;Shedd| George C.'], ['Jessica- the Heiress;pg30074.epub;Literary;Raymond| Evelyn'], ['Our Next-Door Neighbors;pg30075.epub;Literary;Maniates| Belle Kanaris'], ['Amaryllis at the Fair;pg30087.epub;Literary;Jefferies| Richard'], ['Young Barbarians;pg30089.epub;Literary;Maclaren| Ian'], ['Robinetta;pg30090.epub;Literary;Findlater| Jane Helen| Findlater| Mary| McAulay| Allan| Wiggin| Kate Douglas Smith'], ['At the Crossroads;pg30095.epub;Literary;Comstock| Harriet T.'], ['The Vast Abyss - The Story of Tom Blount- his Uncles and his Cousin Sam;pg30106.epub;Literary;Fenn| George Manville'], ['The Quality of Mercy;pg30108.epub;Literary;Howells| William Dean'], ['Name and Fame: A Novel;pg30110.epub;Literary;Sergeant| Adeline'], ['A Noble Woman;pg30111.epub;Literary;Stephens| Ann S.'], ['Tante;pg30115.epub;Literary;Sedgwick| Anne Douglas'], ['Daisy Brooks- A Perilous Love;pg30137.epub;Sea and Adventure;Libbey| Laura Jean'], ['A Manual of the Art of Fiction;pg30183.epub;Literary;Hamilton| Clayton Meeker'], ['East of the Shadows;pg30193.epub;Literary;Barclay| Mrs. Hubert'], ['Officer 666;pg30228.epub;Literary;Currie| Barton Wood| McHugh| Augustin'], [\"Phemie Frost's Experiences;pg30245.epub;Literary;Stephens| Ann S.\"], [\"Mabel's Mistake;pg30247.epub;Literary;Stephens| Ann S.\"], ['A Captain in the Ranks: A Romance of Affairs;pg30263.epub;Literary;Eggleston| George Cary'], ['The Phantom Lover;pg30286.epub;Literary;Ayres| Ruby M.'], ['The Benefactress;pg30302.epub;Literary;Arnim| Elizabeth Von'], ['Hope Mills- Between Friend and Sweetheart;pg30436.epub;Literary;Douglas| Amanda M.'], ['The Lieutenant-Governor: A Novel;pg30448.epub;Literary;Carryl| Guy Wetmore'], ['A Manifest Destiny;pg30464.epub;Literary;Magruder| Julia'], ['Wild Oranges;pg30466.epub;Literary;Hergesheimer| Joseph'], ['Outside Inn;pg30483.epub;Literary;Kelley| Ethel M.'], [\"The Count's Millions;pg305.epub;Detective and Mystery;Gaboriau| Emile\"], ['The Pines of Lory;pg30600.epub;Literary;Mitchell| John Ames'], ['A Danish Parsonage;pg30617.epub;Literary;Vicary| John Fulford'], ['Wings of the Wind;pg30618.epub;Literary;Harris| Credo Fitch'], ['In the Heart of a Fool;pg30627.epub;Literary;White| William Allen'], ['Anything Once;pg30640.epub;Literary;Ostrander| Isabel'], ['An Ocean Tramp;pg30648.epub;Literary;McFee| William'], [\"Daisy's Necklace- and What Came of It;pg30668.epub;Literary;Aldrich| Thomas Bailey\"], ['Sir Tom;pg30692.epub;Literary;Oliphant| Mrs.'], ['The Record of Nicholas Freydon - An Autobiography;pg30704.epub;Literary;Dawson| A. J.'], [\"Captain Pott's Minister;pg30713.epub;Literary;Cooper| Francis L.\"], ['Absolution;pg30724.epub;Literary;Viebig| Clara'], ['The Fate of Felix Brand;pg30733.epub;Literary;Kelly| Florence Finch'], [\"Clark's Field;pg30736.epub;Literary;Herrick| Robert\"], ['Materials and Methods of Fiction - With an Introduction by Brander Matthews;pg30776.epub;Literary;Hamilton| Clayton Meeker'], ['The Beggar Man;pg30817.epub;Literary;Ayres| Ruby M.'], ['Ashton-Kirk- Criminologist;pg30838.epub;Detective and Mystery;McIntyre| John Thomas'], ['Kidnapped at the Altar- The Romance of that Saucy Jessie Bain;pg30980.epub;Sea and Adventure;Libbey| Laura Jean'], ['Ten Thousand a-Year. Volume 1.;pg31004.epub;Literary;Warren| Samuel'], ['The Recipe for Diamonds;pg31083.epub;Sea and Adventure;Hyne| Charles John Cutcliffe Wright'], ['Aliens;pg31241.epub;Literary;McFee| William'], [\"Cupid's Middleman;pg31561.epub;Literary;Lent| Edward B.\"], ['Walladmor- Vol. 1 (of 2) - \"Freely Translated into German from the English of Sir Walter Scott.\" And Now Freely Translated from the German into English.;pg31563.epub;Literary;Alexis| Willibald'], ['Walladmor- Vol. 2 (of 2) - \"Freely Translated into German from the English of Sir Walter Scott.\" And Now Freely Translated from the German into English.;pg31568.epub;Literary;Alexis| Willibald'], ['Room Number 3- and Other Detective Stories;pg31578.epub;Detective and Mystery;Green| Anna Katharine'], ['The Serapion Brethren- Vol. II;pg31668.epub;Literary;Hoffmann| E. T. A.'], ['Checkers: A Hard-luck Story;pg31813.epub;Literary;Blossom| Henry'], ['The Serapion Brethren- Vol. I.;pg31820.epub;Literary;Hoffmann| E. T. A.'], ['Portia- By Passions Rocked;pg31825.epub;Literary;Duchess|'], ['An Artist in Crime;pg31915.epub;Detective and Mystery;Ottolengui| Rodrigues'], ['The Portal of Dreams;pg31927.epub;Literary;Buck| Charles Neville'], ['A Life Sentence: A Novel;pg31984.epub;Literary;Sergeant| Adeline'], [\"Captain Macedoine's Daughter;pg32042.epub;Literary;McFee| William\"], ['A Rent In A Cloud;pg32082.epub;Literary;Lever| Charles James'], ['Command;pg32114.epub;Sea and Adventure;McFee| William'], ['Rose MacLeod;pg32115.epub;Literary;Brown| Alice'], ['When the Cock Crows;pg32116.epub;Literary;Baily| Waldron'], ['Long Live the King!;pg32132.epub;Literary;Boothby| Guy'], [\"Arthur O'Leary: His Wanderings And Ponderings In Many Lands;pg32424.epub;Literary;Lever| Charles James\"], ['The Brightener;pg32428.epub;Literary;Williamson| A. M.| Williamson| C. N.'], ['A Marriage at Sea;pg32516.epub;Sea and Adventure;Russell| William Clark'], ['Gerald Fitzgerald- the Chevalier: A Novel;pg32560.epub;Sea and Adventure;Viebig| Clara'], ['A Novelist on Novels;pg32576.epub;Literary;George| Walter Lionel'], [\"A Day's Ride: A Life's Romance;pg32692.epub;Literary;Lever| Charles James\"], [\"That Boy Of Norcott's;pg32693.epub;Literary;Lever| Charles James\"], [\"Jacob's Ladder;pg32732.epub;Detective and Mystery;Oppenheim| E. Phillips\"], ['Tried for Her Life - A Sequel to \"Cruel As the Grave\";pg32757.epub;Literary;Southworth| Emma Dorothy Eliza Nevitte'], ['Fairfax and His Pride: A Novel;pg32826.epub;Literary;Vorst| Marie Van'], ['One Of Them;pg32840.epub;Literary;Lever| Charles James'], ['Lady Cassandra;pg32882.epub;Literary;Vaizey| Mrs. George de Horne'], [\"Sir Hilton's Sin;pg32915.epub;Literary;Fenn| George Manville\"], ['The Sapphire Cross;pg32917.epub;Literary;Fenn| George Manville'], ['Thereby Hangs a Tale. Volume One;pg32929.epub;Literary;Fenn| George Manville'], ['An Unknown Lover;pg32936.epub;Literary;Vaizey| Mrs. George de Horne'], [\"The Red Rat's Daughter;pg33004.epub;Detective and Mystery;Boothby| Guy\"], ['The Green God;pg33019.epub;Detective and Mystery;Kummer| Frederic Arnold'], ['Sir Jasper Carew: His Life and Experience;pg33081.epub;Literary;Lever| Charles James'], ['The Truth About Tristrem Varick: A Novel;pg33099.epub;Literary;Saltus| Edgar'], ['Was It Right to Forgive? A Domestic Romance;pg33195.epub;Literary;Barr| Amelia E.'], ['Faith and Unfaith: A Novel;pg33312.epub;Literary;Duchess|'], ['The Little Schoolmaster Mark: A Spiritual Romance;pg33401.epub;Literary;Davis| Richard Harding'], ['A Man in the Open;pg33423.epub;Literary;Pocock| Roger'], ['Roland Cashel- Volume I (of II);pg33468.epub;Literary;Lever| Charles James'], ['Roland Cashel- Volume II (of II);pg33469.epub;Literary;Lever| Charles James'], ['The Furnace;pg33482.epub;Literary;Macaulay| Rose'], ['The Gambler: A Novel;pg33490.epub;Literary;Thurston| Katherine Cecil'], ['Bransford of Rainbow Range - Originally Published under the title of Bransford in Arcadia- The Little Eohippus;pg33498.epub;Western Stories;Rhodes| Eugene Manlove'], ['The Fortunes Of Glencore;pg33556.epub;Literary;Lever| Charles James'], ['The Bachelors: A Novel;pg33565.epub;Literary;Orcutt| William Dana'], ['Tony Butler;pg33604.epub;Literary;Lever| Charles James'], [\"Norine's Revenge- and- Sir Noel's Heir;pg33664.epub;Literary;Fleming| May Agnes\"], ['X Y Z: A Detective Story;pg33695.epub;Detective and Mystery;Green| Anna Katharine'], ['The Cottage of Delight: A Novel;pg33715.epub;Literary;Harben| Will N.'], ['An Engagement of Convenience: A Novel;pg33747.epub;Literary;Zangwill| Louis'], ['The Key to Yesterday;pg33759.epub;Literary;Buck| Charles Neville'], ['The Haunted Pajamas;pg33780.epub;Literary;Elliott| Francis Perry'], ['King of Camargue;pg33867.epub;Literary;Aicard| Jean'], ['Regina- or the Sins of the Fathers;pg33892.epub;Literary;Sudermann| Hermann'], ['The Unknown Sea;pg33945.epub;Allegories;Housman| Clemence'], ['The Reclaimers;pg33959.epub;Literary;McCarter| Margaret Hill'], ['The Mysterious Wanderer- Vol. I;pg33973.epub;Literary;Reeve| Sophia'], ['Love Works Wonders: A Novel;pg33989.epub;Literary;Brame| Charlotte M.'], ['The Belovéd Traitor;pg34034.epub;Literary;Packard| Frank L.'], ['The Hillman;pg34035.epub;Detective and Mystery;Oppenheim| E. Phillips'], ['Whispering Wires;pg34046.epub;Detective and Mystery;Leverage| Henry'], ['A Poached Peerage;pg34088.epub;Literary;Magnay| Sir William'], [\"Lady Maude's Mania;pg34138.epub;Literary;Fenn| George Manville\"], ['A Double Knot;pg34140.epub;Literary;Fenn| George Manville'], ['By Birth a Lady;pg34142.epub;Literary;Fenn| George Manville'], ['A Blot on the Scutcheon;pg34164.epub;Literary;Knowles| Mabel Winifred'], ['Capricious Caroline;pg34166.epub;Literary;Rowlands| Effie Adelaide'], ['Zula;pg34168.epub;Literary;Lindley| H. Esselstyn'], [\"The Girl From Tim's Place;pg34202.epub;Literary;Munn| Charles Clark\"], ['The Star-Gazers;pg34244.epub;Literary;Fenn| George Manville'], ['Of High Descent;pg34246.epub;Literary;Fenn| George Manville'], ['The Man with a Shadow;pg34248.epub;Literary;Fenn| George Manville'], ['A Mysterious Disappearance;pg34277.epub;Detective and Mystery;Tracy| Louis'], ['Phases of an Inferior Planet;pg34402.epub;Literary;Glasgow| Ellen Anderson Gholson'], ['For the Allinson Honor;pg34415.epub;Literary;Bindloss| Harold'], ['Alas! A Novel;pg34428.epub;Literary;Broughton| Rhoda'], ['The Rosery Folk;pg34482.epub;Literary;Fenn| George Manville'], ['The Gold Brick;pg34500.epub;Literary;Stephens| Ann S.'], ['Paradise Bend;pg34567.epub;Western Stories;White| William Patterson'], ['The Triumph of Virginia Dale;pg34575.epub;Literary;Francis| John'], [\"Mrs. Halliburton's Troubles;pg34587.epub;Literary;Trevena| John\"], ['Through Night to Light: A Novel;pg34598.epub;Literary;Spielhagen| Friedrich'], ['What the Swallow Sang: A Novel;pg34599.epub;Literary;Spielhagen| Friedrich'], ['King of the Castle;pg34609.epub;Literary;Fenn| George Manville'], ['Barren Honour: A Novel;pg34616.epub;Literary;Lawrence| George A.'], ['The Gateless Barrier;pg34619.epub;Ghost and Horror;Malet| Lucas'], ['I- Thou- and the Other One: A Love Story;pg34628.epub;Love and Romance;Barr| Amelia E.'], ['The Mysterious Wanderer  Vol. II;pg34629.epub;Literary;Reeve| Sophia'], ['The Breaking of the Storm- Vol. I.;pg34657.epub;Literary;Spielhagen| Friedrich'], ['The Breaking of the Storm- Vol. II.;pg34658.epub;Literary;Spielhagen| Friedrich'], ['The Breaking of the Storm- Vol. III.;pg34659.epub;Literary;Spielhagen| Friedrich'], ['Willing to Die: A Novel;pg34662.epub;Literary;Fanu| Joseph Sheridan Le'], ['Commodore Junk;pg34663.epub;Literary;Fenn| George Manville'], [\"The Mynns' Mystery;pg34664.epub;Detective and Mystery;Fenn| George Manville\"], ['The Man with the Double Heart;pg34709.epub;Literary;Hine| Muriel'], ['One of My Sons;pg34710.epub;Detective and Mystery;Green| Anna Katharine'], ['The Ivory Gate- a new edition;pg34738.epub;Literary;Besant| Walter'], ['Problematic Characters: A Novel;pg34748.epub;Literary;Spielhagen| Friedrich'], [\"Englefield Grange- Mary Armstrong's Troubles;pg34794.epub;Literary;Paull| Mrs. H. B.\"], [\"The Pagan's Cup;pg34835.epub;Detective and Mystery;Abbott| Eleanor Hallowell\"], [\"The Rival Crusoes- The Ship Wreck - Also A Voyage to Norway  and The Fisherman's Cottage.;pg34849.epub;Literary;Strickland| Agnes\"], ['Mystery and Confidence: A Tale. Vol. 1;pg34932.epub;Literary;Pinchard| Elizabeth Sibthorpe'], ['Mystery and Confidence: A Tale. Vol. 3;pg34933.epub;Literary;Pinchard| Elizabeth Sibthorpe'], ['£19-000;pg34934.epub;Detective and Mystery;Delannoy| Burford'], ['The House of Strange Secrets: A Detective Story;pg34947.epub;Detective and Mystery;Bayly| A. Eric'], ['Mystery and Confidence: A Tale. Vol. 2;pg34968.epub;Literary;Pinchard| Elizabeth Sibthorpe'], ['The Count of Nideck - adapted from the French of Erckmann-Chartrian;pg34999.epub;Literary;Erckmann-Chatrian| | Fiske| Ralph Browning'], ['The House in the Mist;pg35003.epub;Detective and Mystery;Green| Anna Katharine'], ['The Carleton Case;pg35038.epub;Literary;Clark| Ellery H.'], ['Dilemmas of Pride- (Vol 2 of 3);pg35057.epub;Literary;Loudon| Mrs.'], ['Dilemmas of Pride- (Vol 3 of 3);pg35058.epub;Literary;Loudon| Mrs.'], ['Girl Alone;pg35077.epub;Literary;Austin| Anne'], ['The Mesa Trail;pg35078.epub;Western Stories;Bedford-Jones| H.'], ['The Blind Mother- and The Last Confession;pg35140.epub;Literary;Caine| Sir Hall'], ['The Solitary Farm;pg35146.epub;Detective and Mystery;Hume| Fergus'], ['In the Van- The Builders;pg35203.epub;Literary;Price-Brown| John'], ['Who?;pg35205.epub;Detective and Mystery;Kent| Elizabeth'], ['The Guerilla Chief- and Other Tales;pg35214.epub;Literary;Reid| Mayne'], ['The Oyster;pg35217.epub;Literary;Peer|'], ['The Streets of Ascalon - Episodes in the Unfinished Career of Richard Quarren- Esqre.;pg35233.epub;Literary;Chambers| Robert W.'], ['In the Onyx Lobby;pg35254.epub;Detective and Mystery;Wells| Carolyn'], [\"A Wife's Duty: A Tale;pg35294.epub;Literary;Opie| Amelia\"], ['Sir Brook Fossbrooke- Volume I.;pg35296.epub;Literary;Lever| Charles James'], ['Sir Brook Fossbrooke- Volume II.;pg35297.epub;Literary;Lever| Charles James'], ['The Last Stroke: A Detective Story;pg35304.epub;Detective and Mystery;Lynch| Lawrence L.'], ['A Practical Novelist;pg35313.epub;Literary;Davidson| John'], [\"The Long Lane's Turning;pg35326.epub;Literary;Rives| Hallie Erminie\"], ['The Lady Evelyn: A Story of To-day;pg35336.epub;Literary;Pemberton| Max'], ['A Song of a Single Note: A Love Story;pg35358.epub;Love and Romance;Barr| Amelia E.'], ['The Wicked Marquis;pg35361.epub;Detective and Mystery;Oppenheim| E. Phillips'], ['Mad: A Story of Dust and Ashes;pg35367.epub;Literary;Fenn| George Manville'], ['Friends I Have Made;pg35368.epub;Literary;Fenn| George Manville'], ['Mrs. Geoffrey;pg35384.epub;Literary;Duchess| '], ['The Amethyst Box;pg35424.epub;Detective and Mystery;Green| Anna Katharine'], ['A Charming Fellow- Volume I;pg35428.epub;Literary;Trollope| Frances Eleanor'], ['A Charming Fellow- Volume II;pg35429.epub;Literary;Trollope| Frances Eleanor'], ['A Charming Fellow- Volume III;pg35430.epub;Literary;Trollope| Frances Eleanor'], ['The Dodd Family Abroad- Vol. I;pg35441.epub;Literary;Lever| Charles James'], ['The Dodd Family Abroad- Vol. II;pg35442.epub;Literary;Lever| Charles James'], ['Lost Lenore: The Adventures of a Rolling Stone;pg35443.epub;Sea and Adventure;Reid| Mayne'], ['Sharing Her Crime: A Novel;pg35462.epub;Detective and Mystery;Fleming| May Agnes'], ['The Black Eagle Mystery;pg35484.epub;Detective and Mystery;Bonner| Geraldine'], ['The Golden Road;pg35509.epub;Literary;Allen| Frank Waller'], ['The Three Impostors- The Transmutations;pg35517.epub;Ghost and Horror;Machen| Arthur'], ['Only One Love- Who Was the Heir;pg35523.epub;Literary;Garvice| Charles'], ['The Haute Noblesse: A Novel;pg35527.epub;Literary;Fenn| George Manville'], ['The Secret of the Sands- The \"Water Lily\" and her Crew;pg35528.epub;Sea and Adventure;Collingwood| Harry'], ['The Haunted Room: A Tale;pg35533.epub;Literary;E.| A. L. O.'], ['Doctor Cupid: A Novel;pg35548.epub;Literary;Broughton| Rhoda'], ['The Funny Philosophers- or Wags and Sweethearts.  A Novel;pg35599.epub;Literary;Yellott| George'], ['Mysterious Mr. Sabin;pg35661.epub;Detective and Mystery;Oppenheim| E. Phillips'], ['Titan: A Romance. v. 1 (of 2);pg35664.epub;Literary;Paul| Jean'], ['The Late Tenant;pg35691.epub;Literary;Tracy| Louis'], ['The Game and the Candle;pg35740.epub;Literary;Ingram| Eleanor M.'], ['Lily Pearl and The Mistress of Rosedale;pg35765.epub;Literary;Glenwood| Ida'], ['Dilemmas of Pride- (Vol 1 of 3);pg35769.epub;Literary;Loudon| Mrs'], ['The Hills of Refuge: A Novel;pg35785.epub;Literary;Harben| Will N.'], ['Plain Mary Smith: A Romance of Red Saunders;pg35787.epub;Humorous and Wit and Satire;Phillips| Henry Wallace'], ['The Black Star: A Detective Story;pg35833.epub;Detective and Mystery;McCulley| Johnston'], ['Final Proof- The Value of Evidence;pg35902.epub;Detective and Mystery;Ottolengui| Rodrigues'], ['The Finger of Fate: A Romance;pg35912.epub;Literary;Reid| Mayne'], ['The Child Wife;pg35913.epub;Literary;Reid| Mayne'], ['Silent Struggles;pg36027.epub;Literary;Stephens| Ann S.'], ['A Speckled Bird;pg36029.epub;Literary;Evans| Augusta J.'], ['Hesperus- Forty-Five Dog-Post-Days: A Biography. Vol. I.;pg36071.epub;Literary;Paul| Jean'], ['Hesperus- Forty-Five Dog-Post-Days: A Biography. Vol. II.;pg36087.epub;Literary;Paul| Jean'], ['The Letter of Credit;pg36159.epub;Love and Romance;Warner| Susan'], ['Bijou;pg36199.epub;Literary;Gyp| '], ['The Shooting of Dan McGrew- A Novel. Based on the Famous Poem of Robert Service;pg36232.epub;Literary;Dana| Marvin| Service| Robert W.'], ['The Red Mouse: A Mystery Romance;pg36247.epub;Detective and Mystery;Osborne| William Hamilton'], ['The Invisible Lodge;pg36353.epub;Literary;Paul| Jean'], ['Faithful Margaret: A Novel;pg36360.epub;Literary;Simpson| Mrs. J. M.'], ['Zoe- Some Day: A Novel;pg36364.epub;Literary;Leonard| May'], ['Dangerous Ground- The Rival Detectives;pg36366.epub;Detective and Mystery;Lynch| Lawrence L.'], ['Wives and Widows- The Broken Life;pg36374.epub;Literary;Stephens| Ann S.'], ['The Turn of the Tide: The Story of How Margaret Solved Her Problem;pg36401.epub;Literary;Porter| Eleanor H.'], ['Titan: A Romance. v. 2 (of 2);pg36403.epub;Literary;Paul| Jean'], ['Jessamine: A Novel;pg36414.epub;Literary;Harland| Marion'], ['The Story of an Untold Love;pg36439.epub;Literary;Ford| Paul Leicester'], ['A Butterfly on the Wheel: A Novel;pg36467.epub;Literary;Hemmerde| Edward G.| Neilson| Francis| Thorne| Guy'], ['The Red Derelict;pg36588.epub;Sea and Adventure;Mitford| Bertram'], [\"Fordham's Feud;pg36593.epub;Literary;Mitford| Bertram\"], ['The Haunted Homestead: A Novel;pg36713.epub;Literary;Southworth| Emma Dorothy Eliza Nevitte'], [\"One Maid's Mischief;pg36723.epub;Literary;Fenn| George Manville\"], [\"Cynthia Wakeham's Money;pg36758.epub;Detective and Mystery;Green| Anna Katharine\"], ['Midnight Webs;pg36875.epub;Literary;Fenn| George Manville'], ['In Strange Company: A Story of Chili and the Southern Seas;pg37081.epub;Sea and Adventure;Boothby| Guy'], ['A Life For a Love: A Novel;pg37107.epub;Literary;Meade| L. T.'], ['The Ranchman;pg37204.epub;Western Stories;Seltzer| Charles Alden'], ['The Wayfarers;pg37208.epub;Literary;Cutting| Mary Stewart'], ['The Crime Doctor;pg37338.epub;Detective and Mystery;Hornung| E. W.'], ['Pray You- Sir- Whose Daughter?;pg37355.epub;Literary;Gardener| Helen H.'], ['The Empty Sack;pg37412.epub;Literary;King| Basil'], ['The Sin of Monsieur Pettipon- and other humorous tales;pg37430.epub;Humorous and Wit and Satire;Connell| Richard Edward'], ['Rough-Hewn;pg37451.epub;Literary;Fisher| Dorothy Canfield'], ['Daisy Thornton;pg37467.epub;Literary;Holmes| Mary Jane'], ['Jessie Graham;pg37476.epub;Literary;Holmes| Mary Jane'], ['The Debit Account;pg37479.epub;Literary;Onions| Oliver'], [\"The Gray Phantom's Return;pg37490.epub;Detective and Mystery;Landon| Herman\"], ['The Sins of the Children: A Novel;pg37664.epub;Literary;Hamilton| Cosmo'], ['Mavis of Green Hill;pg37710.epub;Love and Romance;Baldwin| Faith'], ['Notwithstanding;pg37781.epub;Literary;Cholmondeley| Mary'], ['The Open Question: A Tale of Two Temperaments;pg37827.epub;Literary;Robins| Elizabeth'], ['The Story of Louie;pg37838.epub;Literary;Onions| Oliver'], ['A Humble Enterprise;pg37866.epub;Literary;Cambridge| Ada'], ['The Gray Phantom;pg37913.epub;Detective and Mystery;Landon| Herman'], ['In Accordance with the Evidence;pg37919.epub;Literary;Onions| Oliver'], ['The Heatherford Fortune - a sequel to the Magic Cameo;pg38006.epub;Literary;Sheldon| Mrs. Georgie'], ['The Sailor;pg38186.epub;Literary;Snaith| J. C.'], ['Kenneth McAlpine: A Tale of Mountain- Moorland and Sea;pg38199.epub;Literary;Stables| Gordon'], ['The Making of William Edwards- The Story of the Bridge of Beauty;pg38212.epub;Literary;Banks| Mrs. G. Linnaeus'], ['Simon the Jester;pg3828.epub;Humorous and Wit and Satire;Locke| William John'], ['A Witch of the Hills- v. 1 [of 2];pg38291.epub;Literary;Warden| Florence'], ['A Witch of the Hills- v. 2 [of 2];pg38292.epub;Literary;Warden| Florence'], ['The Happy Warrior;pg38325.epub;Literary;Hutchinson| A. S. M.'], ['A Knight on Wheels;pg38368.epub;Literary;Hay| Ian'], ['Loaded Dice;pg38474.epub;Literary;Clark| Ellery H.'], ['Gargoyles;pg38489.epub;Literary;Hecht| Ben'], ['The Story of Charles Strange: A Novel. Vol. 1 (of 3);pg38623.epub;Literary;Wood| Mrs. Henry'], ['The Story of Charles Strange: A Novel. Vol. 2 (of 3);pg38624.epub;Literary;Wood| Mrs. Henry'], ['The Story of Charles Strange: A Novel. Vol. 3 (of 3);pg38625.epub;Literary;Wood| Mrs. Henry'], ['Miranda of the Balcony: A Story;pg38679.epub;Literary;Mason| A. E. W.'], ['The Truants;pg38685.epub;Literary;Mason| A. E. W.'], ['The Turnstile;pg38689.epub;Literary;Mason| A. E. W.'], ['The Maker of Opportunities;pg38702.epub;Literary;Gibbs| George'], ['A Singular Metamorphosis;pg38715.epub;Literary;Skiles| May Evelyn'], ['The Monctons: A Novel. Volume 2 (of 2);pg38798.epub;Literary;Moodie| Susanna'], ['Out of a Labyrinth;pg38888.epub;Detective and Mystery;Lynch| Lawrence L.'], [\"Mr. Marx's Secret;pg39018.epub;Detective and Mystery;Oppenheim| E. Phillips\"], ['The White Blackbird;pg39066.epub;Literary;Aitken| Robert'], ['Miser Farebrother: A Novel (vol. 1 of 3);pg39111.epub;Literary;Farjeon| B. L.'], ['It May Be True- Vol. 2 (of 3);pg39192.epub;Literary;Wood| Mrs. Henry'], ['It May Be True- Vol. 3 (of 3);pg39193.epub;Literary;Wood| Mrs. Henry'], ['Tales for Fifteen;pg39207.epub;Literary;Cooper| James Fenimore'], ['Mitchelhurst Place: A Novel. Vol. 1 (of 2);pg39345.epub;Literary;Veley| Margaret'], [\"Wyndham's Pal;pg39349.epub;Literary;Bindloss| Harold\"], ['Mabel: A Novel. Vol. 3 (of 3);pg39359.epub;Literary;Newby| Mrs. C. J.'], ['Mildred Arkell: A Novel. Vol. 2 (of 3);pg39377.epub;Literary;Wood| Mrs. Henry'], ['A Gamble with Life;pg39417.epub;Detective and Mystery;Hocking| Silas K.'], ['The Mysterious Wanderer- Vol. III - A Novel in Three Volumes;pg39425.epub;Literary;Reeve| Sophia'], ['Guy and Pauline;pg39556.epub;Literary;MacKenzie| Compton'], ['In the Hands of the Malays- and Other Stories;pg39616.epub;Sea and Adventure;Henty| G. A.'], ['Sylvia & Michael: The later adventures of Sylvia Scarlett;pg39660.epub;Literary;MacKenzie| Compton'], ['Mildred Arkell: A Novel. Vol. 1 (of 3);pg39692.epub;Literary;Wood| Mrs. Henry'], ['Mildred Arkell: A Novel. Vol. 3 (of 3);pg39693.epub;Literary;Wood| Mrs. Henry'], ['The Marriage of Esther;pg39731.epub;Literary;Boothby| Guy'], ['Vassall Morton: A Novel;pg39768.epub;Literary;Parkman| Francis'], ['A Sovereign Remedy;pg39813.epub;Literary;Steel| Flora Annie Webster'], ['Upsidonia;pg39905.epub;Humorous and Wit and Satire;Marshall| Archibald'], ['Ashton-Kirk- Secret Agent;pg39940.epub;Detective and Mystery;McIntyre| John Thomas'], ['In Silk Attire: A Novel;pg40111.epub;Literary;Black| William'], ['Fashion and Famine;pg40114.epub;Literary;Stephens| Ann S.'], [\"A Woman's Love;pg40180.epub;Literary;Opie| Amelia\"], ['Mabel: A Novel. Vol. 2 (of 3);pg40199.epub;Literary;Newby| Mrs. C. J.'], ['The Threatening Eye;pg40278.epub;Literary;Knight| E. F.'], ['True to a Type- Vol. 1 (of 2);pg40324.epub;Literary;Cleland| Robert'], ['True to a Type- Vol. 2 (of 2);pg40325.epub;Literary;Cleland| Robert'], ['The Coward Behind the Curtain;pg40347.epub;Literary;Marsh| Richard'], ['The Crime and the Criminal;pg40348.epub;Detective and Mystery;Marsh| Richard'], ['It May Be True- Vol. 1 (of 3);pg40418.epub;Literary;Wood| Mrs. Henry'], ['Miss Hildreth: A Novel- Volume 1;pg40431.epub;Literary;Stevens| Augusta de Grasse'], ['Miss Hildreth: A Novel- Volume 2;pg40432.epub;Literary;Stevens| Augusta de Grasse'], ['Miss Hildreth: A Novel- Volume 3;pg40433.epub;Literary;Stevens| Augusta de Grasse'], [\"Violet Forster's Lover;pg40450.epub;Literary;Marsh| Richard\"], ['Under One Flag;pg40451.epub;Literary;Marsh| Richard'], ['The Twickenham Peerage;pg40452.epub;Literary;Marsh| Richard'], ['The Garden of Survival;pg4046.epub;Ghost and Horror;Blackwood| Algernon'], [\"Black Star's Campaign: A Detective Story;pg40484.epub;Detective and Mystery;McCulley| Johnston\"], ['The Red Lottery Ticket;pg40491.epub;Detective and Mystery;Boisgobey| Fortunu'], ['The King of Diamonds: A Tale of Mystery and Adventure;pg40493.epub;Detective and Mystery;Tracy| Louis'], ['The Ordeal of Elizabeth;pg40495.epub;Literary;Anonymous'], ['The Splendid Fairing;pg40545.epub;Literary;Holme| Constance'], [\"Moth and Rust  Together with Geoffrey's Wife and The Pitfall;pg40566.epub;Literary;Cholmondeley| Mary\"], ['Prince Charlie;pg40611.epub;Literary;Delannoy| Burford'], ['The Hypocrite;pg40651.epub;Literary;Thorne| Guy'], ['The White Virgin;pg40672.epub;Literary;Fenn| George Manville'], ['The Tiger Lily;pg40673.epub;Literary;Fenn| George Manville'], ['Sawn Off: A Tale of a Family Tree;pg40674.epub;Literary;Fenn| George Manville'], ['Gretchen: A Novel;pg40702.epub;Literary;Holmes| Mary Jane'], ['Fighting Byng: A Novel of Mystery- Intrigue and Adventure;pg40821.epub;Detective and Mystery;Stone| A.'], ['The Adventures of Peregrine Pickle;pg4084.epub;Literary;Smollett| T.'], ['Meg- of Valencia;pg40926.epub;Literary;Jarrell| Myra Williams'], ['The Day of Temptation;pg40998.epub;Literary;Queux| William Le'], ['Stolen Souls;pg40999.epub;Literary;Queux| William Le'], ['The Sign of the Stranger;pg41089.epub;Detective and Mystery;Queux| William Le'], ['Rayton: A Backwoods Mystery;pg41122.epub;Literary;Roberts| Theodore Goodridge'], [\"Jenifer's Prayer;pg41191.epub;Literary;Crane| Oliver\"], ['The Eve of All-Hallows- Adelaide of Tyrconnel- v. 1 of 3;pg41212.epub;Literary;Hartstonge| Matthew Weld'], ['Ten Thousand a-Year. Volume 3.;pg41247.epub;Literary;Warren| Samuel'], ['The Arm-Chair at the Inn;pg41284.epub;Literary;Smith| Francis Hopkinson'], ['My Danish Sweetheart: A Novel. Volume 1 of 3;pg41313.epub;Sea and Adventure;Russell| William Clark'], ['My Danish Sweetheart: A Novel. Volume 2 of 3;pg41314.epub;Sea and Adventure;Russell| William Clark'], ['My Danish Sweetheart: A Novel. Volume 3 of 3;pg41315.epub;Sea and Adventure;Russell| William Clark'], ['Mrs. Dorriman: A Novel. Volume 1 of 3;pg41329.epub;Literary;Chetwynd| Mrs. Henry Wayland'], ['Mrs. Dorriman: A Novel. Volume 2 of 3;pg41330.epub;Literary;Chetwynd| Mrs. Henry Wayland'], ['Mrs. Dorriman: A Novel. Volume 3 of 3;pg41331.epub;Literary;Chetwynd| Mrs. Henry Wayland'], ['Ten Thousand a-Year. Volume 2.;pg41332.epub;Literary;Warren| Samuel'], ['Mount Royal: A Novel. Volume 1 of 3;pg41339.epub;Literary;Braddon| M. E.'], ['Mount Royal: A Novel. Volume 2 of 3;pg41340.epub;Literary;Braddon| M. E.'], ['Mount Royal: A Novel. Volume 3 of 3;pg41341.epub;Literary;Braddon| M. E.'], ['Mohawks: A Novel. Volume 1 of 3;pg41374.epub;Literary;Braddon| M. E.'], ['Mohawks: A Novel. Volume 2 of 3;pg41375.epub;Literary;Braddon| M. E.'], ['Mohawks: A Novel. Volume 3 of 3;pg41376.epub;Literary;Braddon| M. E.'], ['The Broken Thread;pg41459.epub;Detective and Mystery;Queux| William Le'], ['The Yazoo Mystery: A Novel;pg41483.epub;Literary;Craddock| Irving'], ['The Decadent: Being the Gospel of Inaction - Wherein Are Set Forth in Romance Form Certain Reflections Touching the Curious Characteristics of These Ultimate Years- and the Divers Causes Thereof;pg41490.epub;Literary;Cram| Ralph Adams'], ['The House Opposite: A Mystery;pg41525.epub;Detective and Mystery;Kent| Elizabeth'], ['Rose Clark;pg41542.epub;Literary;Fern| Fanny'], ['Mabel: A Novel. Vol. 1 (of 3);pg41564.epub;Literary;Newby| Mrs. C. J.'], ['A Fortnight of Folly;pg41660.epub;Literary;Conway| Hugh| Thompson| Maurice'], ['A Changed Heart: A Novel;pg41672.epub;Literary;Fleming| May Agnes'], ['Albrecht;pg41764.epub;Literary;Bates| Arlo'], ['Quintus Oakes: A Detective Story;pg41790.epub;Detective and Mystery;Jackson| Charles Ross'], ['The Last Miracle;pg41794.epub;Literary;Shiel| M. P.'], ['John Marvel- Assistant;pg41817.epub;Literary;Page| Thomas Nelson'], ['The Golden Bough;pg41844.epub;Literary;Gibbs| George'], ['The Terms of Surrender;pg41859.epub;Literary;Tracy| Louis'], ['Ragna;pg41863.epub;Literary;Costantini| Anna Miller'], ['A Fair Mystery: The Story of a Coquette;pg41932.epub;Literary;Brame| Charlotte M.'], ['The Debatable Land: A Novel;pg41963.epub;Literary;Colton| Arthur'], ['The Barrel Mystery;pg42010.epub;Detective and Mystery;Flynn| William J.'], ['The Eve of All-Hallows- Adelaide of Tyrconnel- v. 2 of 3;pg42095.epub;Literary;Hartstonge| Matthew Weld'], ['The Trail-Hunter: A Tale of the Far West;pg42115.epub;Western Stories;Aimard| Gustave'], ['The Pirates of the Prairies: Adventures in the American Desert;pg42117.epub;Western Stories;Aimard| Gustave'], ['The World Before Them: A Novel. Volume 2 (of 3);pg42145.epub;Literary;Moodie| Susanna'], ['The World Before Them: A Novel. Volume 1 (of 3);pg42165.epub;Literary;Moodie| Susanna'], ['The World Before Them: A Novel. Volume 3 (of 3);pg42174.epub;Literary;Moodie| Susanna'], ['The Shadow of a Sin;pg42320.epub;Literary;Brame| Charlotte M.'], ['Justin Wingate- Ranchman;pg42423.epub;Western Stories;Whitson| John Harvey'], ['Barbara Rebell;pg42462.epub;Literary;Lowndes| Marie Belloc'], ['Lady Eureka- The Mystery: A Prophecy of the Future. Volume 1;pg42491.epub;Literary;Williams| Robert Folkestone'], ['Lady Eureka- The Mystery: A Prophecy of the Future. Volume 2;pg42492.epub;Literary;Williams| Robert Folkestone'], ['Lady Eureka- The Mystery: A Prophecy of the Future. Volume 3;pg42493.epub;Literary;Williams| Robert Folkestone'], ['Miracle Gold: A Novel (Vol. 2 of 3);pg42496.epub;Literary;Dowling| Richard'], ['Miracle Gold: A Novel (Vol. 1 of 3);pg42498.epub;Literary;Dowling| Richard'], ['Miracle Gold: A Novel (Vol. 3 of 3);pg42499.epub;Literary;Dowling| Richard'], ['Blackthorn Farm;pg42519.epub;Literary;Applin| Arthur'], ['Narcissus;pg42533.epub;Literary;Scott| Evelyn'], ['The Narrow House;pg42534.epub;Literary;Scott| Evelyn'], ['Yonder;pg42536.epub;Literary;Young| E. H.'], ['The Deacon: An Original Comedy Drama in Five Acts;pg42581.epub;Literary;Dale| Horace C.'], ['Tales and Fantasies;pg426.epub;Literary;Stevenson| Robert Louis'], ['The Luminous Face;pg42714.epub;Detective and Mystery;Wells| Carolyn'], ['Tempest-Driven: A Romance (Vol. 1 of 3);pg42750.epub;Literary;Dowling| Richard'], ['Tempest-Driven: A Romance (Vol. 2 of 3);pg42751.epub;Literary;Dowling| Richard'], ['Tempest-Driven: A Romance (Vol. 3 of 3);pg42752.epub;Literary;Dowling| Richard'], ['Swords Reluctant;pg42763.epub;Literary;Pemberton| Max'], ['It Pays to Smile;pg42772.epub;Literary;Putnam| Nina Wilcox'], ['The Mystery of the Clasped Hands: A Novel;pg42807.epub;Detective and Mystery;Boothby| Guy'], ['Great Porter Square: A Mystery. v. 1;pg42905.epub;Detective and Mystery;Farjeon| B. L.'], ['Great Porter Square: A Mystery. v. 2;pg42906.epub;Detective and Mystery;Farjeon| B. L.'], ['Great Porter Square: A Mystery. v. 3;pg42907.epub;Detective and Mystery;Farjeon| B. L.'], ['The Last of Their Race;pg42926.epub;Literary;Swan| Annie S.'], [\"Guy Kenmore's Wife- and The Rose and the Lily;pg43037.epub;Literary;Miller| Mrs. Alex. McVeigh\"], ['Devota;pg43080.epub;Literary;Evans| Augusta J.'], [\"Hugh Crichton's Romance;pg43162.epub;Literary;Coleridge| Christabel R.\"], [\"Blade-O'-Grass. Golden Grain. and Bread and Cheese and Kisses.;pg43190.epub;Christmas Stories;Farjeon| B. L.\"], ['Mrs. Severn: A Novel- Vol. 1 (of 3);pg43449.epub;Literary;Carter| Mary Elizabeth'], [\"The Gypsy Queen's Vow;pg43489.epub;Literary;Fleming| May Agnes\"], ['Flora Adair- Love Works Wonders. Vol. 1 (of 2);pg43498.epub;Literary;Donelan| A. M.'], ['Flora Adair- Love Works Wonders. Vol. 2 (of 2);pg43499.epub;Literary;Donelan| A. M.'], ['The Adventurers;pg43716.epub;Sea and Adventure;Aimard| Gustave'], ['Munster Village;pg43743.epub;Literary;Hamilton| Lady Mary'], ['The Prairie Flower: A Tale of the Indian Border;pg43925.epub;Western Stories;Aimard| Gustave'], ['First Love: A Novel. Vol. 1 of 3;pg44018.epub;Literary;Loudon| Mrs.'], ['The Eve of All-Hallows- Adelaide of Tyrconnel- v. 3 of 3;pg44264.epub;Literary;Hartstonge| Matthew Weld'], ['Wanted: A Husband. A Novel;pg44326.epub;Literary;Adams| Samuel Hopkins'], ['The Bee Hunters: A Tale of Adventure;pg44375.epub;Sea and Adventure;Aimard| Gustave'], ['The Rebel Chief: A Tale of Guerilla Life;pg44421.epub;Literary;Aimard| Gustave'], ['The Smuggler Chief: A Novel;pg44454.epub;Sea and Adventure;Aimard| Gustave'], ['The Stoneground Ghost Tales - Compiled from the recollections of the reverend Roland Batchel- the vicar of the parish.;pg44581.epub;Ghost and Horror;Swain| E. G.'], ['Held to Answer: A Novel;pg44633.epub;Literary;MacFarlane| Peter Clark'], ['The Prodigal Village: A Christmas Tale;pg44796.epub;Christmas Stories;Bacheller| Irving'], [\"Little Golden's Daughter- The Dream of a Life Time;pg44803.epub;Literary;Miller| Mrs. Alex. McVeigh\"], [\"Kathleen's Diamonds- She Loved a Handsome Actor;pg44819.epub;Literary;Miller| Mrs. Alex. McVeigh\"], ['Wild Margaret;pg44828.epub;Literary;Garvice| Charles'], ['The Mark of Cain;pg44841.epub;Detective and Mystery;Wells| Carolyn'], ['The Man Who Fell Through the Earth;pg44872.epub;Detective and Mystery;Wells| Carolyn'], [\"A Man's World;pg44878.epub;Literary;Edwards| Albert\"], ['The Mystery Girl;pg44984.epub;Detective and Mystery;Wells| Carolyn'], ['A Mock Idyl;pg45042.epub;Literary;Ross| Percy'], ['The Red River Half-Breed: A Tale of the Wild North-West;pg45047.epub;Western Stories;Aimard| Gustave'], ['Farewell;pg45104.epub;Literary;Stacpoole| William Henry'], ['The Guide of the Desert;pg45401.epub;Western Stories;Aimard| Gustave'], ['The Insurgent Chief;pg45402.epub;Literary;Aimard| Gustave'], ['The Flying Horseman;pg45403.epub;Literary;Aimard| Gustave'], ['Deadwood Dick Jr. Branded- Red Rover at Powder Pocket.;pg45618.epub;Western Stories;Wheeler| Edward L.'], ['The Curved Blades;pg45622.epub;Detective and Mystery;Wells| Carolyn'], ['Stolen Idols;pg45636.epub;Detective and Mystery;Oppenheim| E. Phillips'], ['The House on the Moor- v. 1-3;pg45816.epub;Literary;Oliphant| Mrs.'], ['The House on the Moor- v. 2-3;pg45817.epub;Literary;Oliphant| Mrs.'], ['The House on the Moor- v. 3-3;pg45818.epub;Literary;Oliphant| Mrs.'], ['Pretty Geraldine- the New York Salesgirl- Wedded to Her Choice;pg45872.epub;Literary;Miller| Mrs. Alex. McVeigh'], ['The Vanishing of Betty Varian;pg45912.epub;Detective and Mystery;Wells| Carolyn'], ['The Room with the Tassels;pg46008.epub;Detective and Mystery;Wells| Carolyn'], ['The Deep Lake Mystery;pg46064.epub;Detective and Mystery;Wells| Carolyn'], ['The Romantic Lady;pg46217.epub;Literary;Arlen| Michael'], ['The Good Time Coming;pg4632.epub;Literary;Arthur| T. S.'], [\"Uncle William: The Man Who Was Shif'less;pg4634.epub;Literary;Lee| Jennette\"], ['Harry Blount- the Detective- The Martin Mystery Solved;pg46402.epub;Detective and Mystery;Flanagan| T. J.'], [\"White Wolf's Law: A Western Story;pg46457.epub;Western Stories;Dunning| Hal\"], ['Alone;pg46505.epub;Literary;Harland| Marion'], [\"God's Good Man: A Simple Love Story;pg4653.epub;Love and Romance;Corelli| Marie\"], ['The Crime Club;pg46566.epub;Detective and Mystery;Holt-White| W.'], [\"At War with Society- Tales of the Outcasts;pg46623.epub;Detective and Mystery;M'Levy| James\"], ['Outpost;pg4676.epub;Literary;Austin| Jane G.'], ['The Idol of the Blind: A Novel;pg47211.epub;Literary;Gallon| Tom'], ['A Country Sweetheart;pg47282.epub;Literary;Russell| Dora'], ['When Egypt Went Broke: A Novel;pg4733.epub;Literary;Day| Holman'], ['Kate Vernon: A Tale. Vol. 1 (of 3);pg47338.epub;Literary;Alexander| Mrs.'], ['At the Villa Rose;pg4745.epub;Detective and Mystery;Mason| A. E. W.'], ['The Fiction Factory - Being the experience of a writer who- for twenty-two years- has kept a story-mill grinding successfully;pg47455.epub;Literary;Cook| William Wallace'], ['Odette\\'s Marriage - A Novel- from the French of Albert Delpit- Translated from the \"Revue des Deux Mondes||\" by Emily Prescott;pg47697.epub;Literary;Delpit| Albert'], ['Sekhet;pg47744.epub;Literary;Miller| Irene'], ['Mirk Abbey- Volume 1 (of 3);pg47771.epub;Literary;Payn| James'], ['Mirk Abbey- Volume 2 (of 3);pg47772.epub;Literary;Payn| James'], ['Mirk Abbey- Volume 3 (of 3);pg47773.epub;Literary;Payn| James'], ['Half a Rogue;pg4790.epub;Literary;MacGrath| Harold'], ['Dawn;pg4794.epub;Literary;Adams| Mrs. H. A.'], [\"The Circassian Slave- the Sultan's favorite : a story of Constantinople and the Caucasus;pg4795.epub;Literary;Ballou| Maturin Murray\"], ['A Life for a Life- Volume 1 (of 3);pg47997.epub;Literary;Craik| Dinah Maria Mulock'], [\"A Soldier's Daughter- and Other Stories;pg48297.epub;Sea and Adventure;Henty| G. A.\"], ['A Life for a Life- Volume 2 (of 3);pg48482.epub;Literary;Craik| Dinah Maria Mulock'], ['A Life for a Life- Volume 3 (of 3);pg48483.epub;Literary;Craik| Dinah Maria Mulock'], ['Tinman;pg48989.epub;Literary;Gallon| Tom'], ['Hilda Wade- a Woman with Tenacity of Purpose;pg4903.epub;Literary;Allen| Grant'], ['The Lilac Sunbonnet: A Love Story;pg4918.epub;Love and Romance;Crockett| S. R.'], ['King Midas: a Romance;pg4923.epub;Literary;Sinclair| Upton'], ['The Fashionable Adventures of Joshua Craig: A Novel;pg4929.epub;Sea and Adventure;Phillips| David Graham'], ['The Spider and the Fly- An Undesired Love;pg49537.epub;Literary;Garvice| Charles'], ['Leah Mordecai: A Novel;pg4955.epub;Literary;Abbott| Belle K.'], ['Chetwynd Calverley - New Edition- 1877;pg49680.epub;Literary;Ainsworth| William Harrison'], ['The Desultory Man - Collection of Ancient and Modern British Novels and Romances. Vol. CXLVII.;pg49718.epub;Literary;James| G. P. R.'], ['The Forgery- Best Intentions.;pg50042.epub;Literary;James| G. P. R.'], ['Desert Gold;pg502.epub;Western Stories;Grey| Zane'], ['The Mystery of the Sycamore;pg50209.epub;Detective and Mystery;Wells| Carolyn'], [\"Leslie's Loyalty;pg50440.epub;Literary;Garvice| Charles\"], [\"De L'Orme. - The Works of G. P. R. James- Esq.|| Vol. XVI.;pg50688.epub;Literary;James| G. P. R.\"], ['The Romance of Elaine - Sequel to \"Exploits of Elaine\";pg5094.epub;Detective and Mystery;Reeve| Arthur B.'], ['Morley Ernstein- the Tenants of the Heart;pg51251.epub;Literary;James| G. P. R.'], ['The Fate: A Tale of Stirring Times;pg51455.epub;Literary;James| G. P. R.'], ['Margret Howth: A Story of To-day;pg515.epub;Literary;Davis| Rebecca Harding'], ['The Exploits of Elaine;pg5151.epub;Detective and Mystery;Reeve| Arthur B.'], ['Delaware- The Ruined Family. Vol. 1;pg51628.epub;Literary;James| G. P. R.'], ['Delaware- The Ruined Family. Vol. 2;pg51629.epub;Literary;James| G. P. R.'], ['Delaware- The Ruined Family. Vol. 3;pg51630.epub;Literary;James| G. P. R.'], ['Innocent : her fancy and his fact;pg5165.epub;Love and Romance;Corelli| Marie'], ['A Whim- and Its Consequences - Collection of British Authors Vol. CXIV;pg51715.epub;Literary;James| G. P. R.'], ['Corpus of a Siam Mosquito;pg5176.epub;Literary;Sills| Steven'], ['A Siren;pg5179.epub;Detective and Mystery;Trollope| Thomas Adolphus'], ['Daireen. Volume 1 of 2;pg51936.epub;Literary;Moore| Frank Frankfort'], ['Daireen. Volume 2 of 2;pg51937.epub;Literary;Moore| Frank Frankfort'], ['Daireen. Complete;pg51938.epub;Literary;Moore| Frank Frankfort'], ['Priscilla and Charybdis: A Story of Alternatives;pg51972.epub;Literary;Moore| Frank Frankfort'], ['Well- After All;pg51988.epub;Literary;Moore| Frank Frankfort'], ['The Confessions of Harry Lorrequer \\x97 Volume 1;pg5234.epub;Literary;Lever| Charles James'], ['The Confessions of Harry Lorrequer \\x97 Volume 2;pg5235.epub;Literary;Lever| Charles James'], ['The Confessions of Harry Lorrequer \\x97 Volume 3;pg5236.epub;Literary;Lever| Charles James'], ['The Confessions of Harry Lorrequer \\x97 Volume 4;pg5237.epub;Literary;Lever| Charles James'], ['The Confessions of Harry Lorrequer \\x97 Volume 5;pg5238.epub;Literary;Lever| Charles James'], ['The Confessions of Harry Lorrequer \\x97 Volume 6;pg5239.epub;Literary;Lever| Charles James'], ['The Confessions of Harry Lorrequer \\x97 Complete;pg5240.epub;Literary;Lever| Charles James'], ['Youth- a Narrative;pg525.epub;Sea and Adventure;Conrad| Joseph'], ['Kate Vernon: A Tale. Vol. 2 (of 3);pg53356.epub;Literary;Alexander| Mrs.'], ['The Touch of Abner;pg53604.epub;Literary;Cody| H. A.'], ['Kate Vernon: A Tale. Vol. 3 (of 3);pg53668.epub;Literary;Alexander| Mrs.'], [\"Baron Trigault's Vengeance;pg547.epub;Detective and Mystery;Gaboriau| Emile\"], ['At Last: A Novel;pg5622.epub;Literary;Harland| Marion'], ['The Potato Child & Others;pg5662.epub;Christmas Stories;Woodbury| Lucia Prudence Hall'], ['The Prose of Alfred Lichtenstein;pg5663.epub;Literary;Lichtenstein| Alfred'], ['The Queen of Sheba- and My Cousin the Colonel;pg5705.epub;Literary;Aldrich| Thomas Bailey'], ['The Flyers;pg5848.epub;Literary;McCutcheon| George Barr'], [\"Michael's Crag;pg5869.epub;Literary;Allen| Grant\"], [\"Danny's Own Story;pg587.epub;Humorous and Wit and Satire;Marquis| Don\"], ['Celibates;pg6005.epub;Literary;Moore| George Augustus'], ['Opening a Chestnut Burr;pg6028.epub;Literary;Roe| Edward Payson'], ['Fran;pg6057.epub;Literary;Ellis| J. Breckenridge'], ['Philistia;pg6060.epub;Literary;Allen| Grant'], ['From Jest to Earnest;pg6102.epub;Literary;Roe| Edward Payson'], ['Their Yesterdays;pg6105.epub;Love and Romance;Wright| Harold Bell'], ['A Day of Fate;pg6113.epub;Love and Romance;Roe| Edward Payson'], ['No Defense- Volume 1.;pg6292.epub;Literary;Parker| Gilbert'], ['No Defense- Volume 2.;pg6293.epub;Literary;Parker| Gilbert'], ['No Defense- Volume 3.;pg6294.epub;Literary;Parker| Gilbert'], ['No Defense- Complete;pg6295.epub;Literary;Parker| Gilbert'], [\"Carnac's Folly- Volume 1.;pg6296.epub;Literary;Parker| Gilbert\"], [\"Carnac's Folly- Volume 2.;pg6297.epub;Literary;Parker| Gilbert\"], [\"Carnac's Folly- Volume 3.;pg6298.epub;Literary;Parker| Gilbert\"], [\"Carnac's Folly- Complete;pg6299.epub;Literary;Parker| Gilbert\"], ['A Knight of the Nineteenth Century;pg6311.epub;Literary;Roe| Edward Payson'], ['Self-Raised- From the Depths;pg6376.epub;Literary;Southworth| Emma Dorothy Eliza Nevitte'], ['Once Aboard the Lugger-- The History of George and his Mary;pg6410.epub;Humorous and Wit and Satire;Hutchinson| A. S. M.'], ['The Iron Woman;pg6474.epub;Literary;Deland| Margaret Wade Campbell'], ['The Grey Lady;pg6517.epub;Literary;Merriman| Henry Seton'], ['Any Coincidence Is - The Day Julia & Cecil the Cat Faced a Fate Worse Than Death;pg6526.epub;Literary;Callahan| Daniel'], [\"Si'Wren of the Patriarchs;pg6592.epub;Literary;Cheney| Roland Jon\"], [\"The Doctor's Daughter;pg6809.epub;Literary;Vera|\"], ['Creatures That Once Were Men;pg681.epub;Literary;Gorky| Maksim'], ['Average Jones;pg6864.epub;Detective and Mystery;Adams| Samuel Hopkins'], ['The Happy Adventurers;pg6901.epub;Literary;Middleton| Lydia Miller'], ['Aikenside;pg6954.epub;Literary;Holmes| Mary Jane'], ['A Terrible Secret: A Novel;pg7063.epub;Literary;Fleming| May Agnes'], ['Fanshawe;pg7085.epub;Literary;Hawthorne| Nathaniel'], ['The Dolliver Romance;pg7119.epub;Literary;Hawthorne| Nathaniel'], ['Linda Condon;pg7171.epub;Literary;Hergesheimer| Joseph'], [\"Doctor Grimshawe's Secret \\x97 a Romance;pg7183.epub;Literary;Hawthorne| Nathaniel\"], ['A Psychological Counter-Current in Recent Fiction;pg726.epub;Literary;Howells| William Dean'], ['The Wishing-Ring Man;pg7424.epub;Literary;Widdemer| Margaret'], ['Falkland- Book 1.;pg7757.epub;Literary;Lytton| Baron Edward Bulwer Lytton'], ['Falkland- Book 2.;pg7758.epub;Literary;Lytton| Baron Edward Bulwer Lytton'], ['Falkland- Book 3.;pg7759.epub;Literary;Lytton| Baron Edward Bulwer Lytton'], ['Falkland- Book 4.;pg7760.epub;Literary;Lytton| Baron Edward Bulwer Lytton'], ['Falkland- Complete;pg7761.epub;Literary;Lytton| Baron Edward Bulwer Lytton'], [\"Fan : The Story of a Young Girl's Life;pg7827.epub;Literary;Hudson| W. H.\"], ['The Rise of Iskander;pg7842.epub;Literary;Disraeli| Earl of Beaconsfield Benjamin'], ['The Vision of Desire;pg7855.epub;Literary;Pedler| Margaret'], ['An Ambitious Man;pg7866.epub;Literary;Wilcox| Ella Wheeler'], ['A Fool for Love;pg8073.epub;Literary;Lynde| Francis'], ['A Fountain Sealed;pg8087.epub;Literary;Sedgwick| Anne Douglas'], ['The Misses Mallett (The Bridge Dividing);pg8131.epub;Literary;Young| E. H.'], ['The Ghost of Guir House;pg8182.epub;Ghost and Horror;Beale| Charles Willing'], ['Monsieur Maurice;pg8383.epub;Literary;Edwards| Amelia Ann Blanford'], ['Ptomaine Street: The Tale of Warble Petticoat;pg8386.epub;Literary;Wells| Carolyn'], ['The Gentleman: A Romance of the Sea;pg8396.epub;Sea and Adventure;Ollivant| Alfred'], [\"Young People's Pride: A Novel;pg8403.epub;Literary;Ben Stephen Vincent\"], ['Rest Harrow: A Comedy of Resolution;pg8464.epub;Literary;Hewlett| Maurice'], ['The Puritans;pg8522.epub;Literary;Bates| Arlo'], ['The Woman with the Fan;pg8549.epub;Literary;Hichens| Robert'], ['The Far Horizon;pg8569.epub;Literary;Malet| Lucas'], ['The Philistines;pg8570.epub;Literary;Bates| Arlo'], [\"The Wheel O' Fortune;pg8596.epub;Literary;Tracy| Louis\"], ['The Pagans;pg8671.epub;Literary;Bates| Arlo'], ['The Living Link: A Novel;pg8711.epub;Literary;Mille| James De'], ['The Brass Bowl;pg8741.epub;Literary;Vance| Louis Joseph'], ['From One Generation to Another;pg8805.epub;Literary;Merriman| Henry Seton'], [\"Miss Theodosia's Heartstrings;pg8865.epub;Literary;Donnell| Annie Hamilton\"], ['A Love Story;pg8883.epub;Literary;Christie| William Harvey'], ['Three Weeks;pg8899.epub;Love and Romance;Glyn| Elinor'], ['The Golden Calf;pg9052.epub;Literary;Braddon| M. E.'], ['Eleanor;pg9087.epub;Literary;Ward| Mrs. Humphry'], ['The Bride of Dreams;pg9111.epub;Literary;Eeden| Frederik van'], ['Henry Dunbar: A Novel;pg9189.epub;Literary;Braddon| M. E.'], [\"Charlotte's Inheritance;pg9259.epub;Literary;Braddon| M. E.\"], [\"One Day's Courtship- and The Heralds of Fame;pg9305.epub;Literary;Barr| Robert\"], [\"Hetty's Strange History;pg9311.epub;Literary;Jackson| Helen Hunt\"], ['Birds of Prey;pg9362.epub;Literary;Braddon| M. E.'], ['A Woman Intervenes;pg9379.epub;Literary;Barr| Robert'], ['Theresa Marchmont- the Maid of Honour: A Tale;pg9387.epub;Literary;Gore| Mrs.'], ['Helen of the Old House;pg9410.epub;Literary;Wright| Harold Bell'], ['The Ashiel mystery: A Detective Story;pg9746.epub;Detective and Mystery;Bryce| Mrs. Charles'], ['The Fortune Hunter;pg9747.epub;Literary;Smith| Winchell| Vance| Louis Joseph'], ['Scarhaven Keep;pg9807.epub;Detective and Mystery;Fletcher| J. S.'], ['The Price of Things;pg9809.epub;Literary;Glyn| Elinor'], ['The Brown Mask;pg9849.epub;Sea and Adventure;Brebner| Percy James'], ['The Two Guardians - Home in This World;pg9926.epub;Literary;Yonge| Charlotte M.'], ['The Bronze Bell;pg9927.epub;Sea and Adventure;Vance| Louis Joseph'], ['Mr. Waddington of Wyck;pg9967.epub;Literary;Sinclair| May'], ['Captivating Mary Carstairs;pg9993.epub;Literary;Harrison| Henry Sydnor'], ['Persuasion;pg105JaneAusPersuatn.epub;Literary;Austen| Jane'], ['Return of Sherlock Holmes;pg108DoyleReturnSherlk.epub;Detective and Mystery;Connan| Doyle'], ['The Secret Adversary;pg1155Agatha2.epub;Detective and Mystery;Christie| Agatha'], [\"Alice's Adventures in Wonderland;pg11CarolAlice.epub;Literary;Carroll| Lewis\"], ['Through the Looking-Glass;pg12CarolGlassLook.epub;Literary;Carroll| Lewis'], ['Pride and Prejudice;pg1342JaneAustenPP.epub;Literary;Austen| Jane'], ['Mardi: and A Voyage Thither I;pg13720HermanVoyage1.epub;Sea and Adventure;Melville| Herman'], ['Mardi: and A Voyage Thither ||;pg13721HermanVoyage2.epub;Sea and Adventure;Melville| Herman'], ['Great Expectations;pg1400DickensGreatExp.epub;Literary;Dickens| Charles'], ['Mansfield Park;pg141JaneAusMansPark.epub;Literary;Austen| Jane'], ['Emma;pg158JaneAustenEmma.epub;Literary;Austen| Jane'], ['Sense and Sensibility;pg161SJaneAusSensSensi.epub;Literary;Austen| Jane'], ['A Christmas Carol;pg19337DickensChristCarl.epub;Christmas Stories;Dickens| Charles'], ['The Sign of Four;pg2097DoyleSignFour.epub;Detective and Mystery;Connan| Doyle'], ['The Works of Edgar Allan Poe I;pg2147EdgarPoe1.epub;Detective and Mystery;Poe| Edgar Allan'], ['The Works of Edgar Allan Poe II;pg2148EdgarPoe2.epub;Detective and Mystery;Poe| Edgar Allan'], ['The Works of Edgar Allan Poe III;pg2149EdgarPoe3.epub;Detective and Mystery;Poe| Edgar Allan'], ['The Works of Edgar Allan Poe IV;pg2150EdgarPoe4.epub;Detective and Mystery;Poe| Edgar Allan'], ['The Confidence-Man;pg21816HermanConfidence.epub;Literary;Melville| Herman'], ['Five Tales;pg2684Galsw4.epub;Literary;Galsworthy| John'], ['Moby Dick;pg2701HermanMobyDick.epub;Sea and Adventure;Melville| Herman'], ['The Hound of the Baskervilles;pg2852DoyleHound.epub;Detective and Mystery;Connan| Doyle'], ['A Tangled Tale;pg29042CarolTangTale.epub;Literary;Carroll| Lewis'], ['Justice;pg2911Galsw2.epub;Literary;Galsworthy| John'], ['The Little Man;pg2919Galsw5.epub;Literary;Galsworthy| John'], ['Pierre or The Ambiguities;pg34970HermanPierre.epub;Literary;Melville| Herman'], ['Omoo Adventures in the South Seas;pg4045HermanOmmo.epub;Sea and Adventure;Melville| Herman'], ['The Forsyte Saga;pg4397Galsw1.epub;Literary;Galsworthy| John'], ['The Game of Logic;pg4763CarolLogik.epub;Literary;Carroll| Lewis'], ['Loyalties;pg4765Galsw3.epub;Literary;Galsworthy| John'], ['Tales of Terror and Mystery;pg537DoyleTerrorTales.epub;Detective and Mystery;Connan| Doyle'], ['Sylvie and Bruno;pg620CarolBruno.epub;Literary;Carroll| Lewis'], ['Oliver Twist;pg730DickensOliverTw.epub;Literary;Dickens| Charles'], ['David Copperfield;pg766DickensDavidCopfld.epub;Literary;Dickens| Charles'], ['Hard Times;pg786DickensHardTimes.epub;Literary;Dickens| Charles'], ['Memoirs of Shelock Holmes;pg834DoyleMemoirsSherlk.epub;Detective and Mystery;Connan| Doyle'], ['The Mysterious Affair at Styles;pg863Agatha1.epub;Detective and Mystery;Christie| Agatha'], ['A Tale of Two Cities;pg98DickensTaleCities.epub;Literary;Dickens| Charles']]\n"
          ],
          "name": "stdout"
        }
      ]
    },
    {
      "cell_type": "markdown",
      "metadata": {
        "id": "4ZINOMB6pNcM",
        "colab_type": "text"
      },
      "source": [
        "#Preparing the data"
      ]
    },
    {
      "cell_type": "code",
      "metadata": {
        "id": "4QFTw1sfAz2m",
        "colab_type": "code",
        "colab": {
          "base_uri": "https://localhost:8080/",
          "height": 1000
        },
        "outputId": "11edf725-5398-4e2a-e33d-f585530c4fee"
      },
      "source": [
        "index = 0\n",
        "books = []\n",
        "labels = []\n",
        "i = 0\n",
        "for book_details in csvInput:\n",
        "    if index == 0:\n",
        "      index = index + 1\n",
        "      continue\n",
        "    print(book_details)\n",
        "    #Getting the file name from CSV\n",
        "    a_split = book_details[0].split(';')\n",
        "    file_name = a_split[1]\n",
        "    if \".\" in a_split[1]:\n",
        "      file_name = file_name.split('.')[0]\n",
        "    #attaching the filename to filepath\n",
        "    file_path_new = file_path +'/'+ file_name + '-content.html'\n",
        "    #Loading HTML content\n",
        "    html = open(file_path_new, encoding=\"UTF-8\").read()\n",
        "    soup = BeautifulSoup(html, features=\"lxml\").text\n",
        "    books.append(soup)\n",
        "    labels.append(a_split[2])\n"
      ],
      "execution_count": 17,
      "outputs": [
        {
          "output_type": "stream",
          "text": [
            "['The Mystery of the Boule Cabinet: A Detective Story;pg10067.epub;Detective and Mystery;Stevenson| Burton Egbert']\n",
            "['The Pupil;pg1032.epub;Literary;James| Henry']\n",
            "[\"At Love's Cost;pg10379.epub;Literary;Garvice| Charles\"]\n",
            "['The Heart of the Range;pg10473.epub;Western Stories;White| William Patterson']\n",
            "['The Worshipper of the Image;pg10812.epub;Literary;Gallienne| Richard Le']\n",
            "['The Book-Bills of Narcissus - An Account Rendered by Richard Le Gallienne;pg10826.epub;Literary;Gallienne| Richard Le']\n",
            "['Elusive Isabel;pg10943.epub;Detective and Mystery;Futrelle| Jacques']\n",
            "[\"Joe Burke's Last Stand;pg11004.epub;Literary;Wetterau| John Moncure\"]\n",
            "['O+F;pg11005.epub;Literary;Wetterau| John Moncure']\n",
            "['Polly and the Princess;pg11259.epub;Literary;Dowd| Emma C.']\n",
            "[\"Maggie Miller: The Story of Old Hagar's Secret;pg11280.epub;Literary;Holmes| Mary Jane\"]\n",
            "['The Obstacle Race;pg11520.epub;Literary;Dell| Ethel M.']\n",
            "['From out the Vasty Deep;pg11581.epub;Literary;Lowndes| Marie Belloc']\n",
            "['Fate Knocks at the Door: A Novel;pg11655.epub;Literary;Comfort| Will Levington']\n",
            "['The Torrent (Entre Naranjos);pg11674.epub;Literary;Ibez| Vicente Blasco']\n",
            "['The Jolly Corner;pg1190.epub;Ghost and Horror;James| Henry']\n",
            "['The Coxon Fund;pg1193.epub;Literary;James| Henry']\n",
            "['The Mystery of Monastery Farm;pg11931.epub;Literary;Naylor| H. R.']\n",
            "['Wife in Name Only;pg11970.epub;Literary;Brame| Charlotte M.']\n",
            "['Darrel of the Blessed Isles;pg12102.epub;Literary;Bacheller| Irving']\n",
            "['The Adventures of Jimmie Dale;pg1218.epub;Detective and Mystery;Packard| Frank L.']\n",
            "['The Story of Bessie Costrell;pg12181.epub;Literary;Ward| Mrs. Humphry']\n",
            "['Fated to Be Free: A Novel;pg12303.epub;Literary;Ingelow| Jean']\n",
            "['Nancy: A Novel;pg12304.epub;Literary;Broughton| Rhoda']\n",
            "['The Top of the World;pg12360.epub;Literary;Dell| Ethel M.']\n",
            "['The Reason Why;pg12450.epub;Literary;Glyn| Elinor']\n",
            "['Miriam Monfort - A Novel;pg12453.epub;Literary;Warfield| Catherine A.']\n",
            "['A Perilous Secret;pg12470.epub;Literary;Reade| Charles']\n",
            "['Deadham Hard: A Romance;pg12520.epub;Literary;Malet| Lucas']\n",
            "['A Simple Soul;pg1253.epub;Literary;Flaubert| Gustave']\n",
            "['A Spinner in the Sun;pg12672.epub;Literary;Reed| Myrtle']\n",
            "['The Autobiography of a Slander;pg1273.epub;Literary;Lyall| Edna']\n",
            "['Tokyo to Tijuana: Gabriele Departing America;pg12733.epub;Literary;Sills| Steven David Justin']\n",
            "[\"The Coquette's Victim - Everyday Life Library No. 1;pg12886.epub;Literary;Brame| Charlotte M\"]\n",
            "['The Song of the Blood-Red Flower;pg12935.epub;Literary;Linnankoski| Johannes']\n",
            "['People Like That - A Novel;pg12972.epub;Literary;Bosher| Kate Langley']\n",
            "['The Lady of Big Shanty;pg12989.epub;Literary;Smith| F. Berkeley']\n",
            "['The Philanderers;pg13057.epub;Literary;Mason| A. E. W.']\n",
            "['Coralie - Everyday Life Library No. 2;pg13162.epub;Literary;Brame| Charlotte M.']\n",
            "['Broken to the Plow - A Novel;pg13178.epub;Literary;Dobie| Charles Caldwell']\n",
            "['The Wild Olive: A Novel;pg13212.epub;Literary;King| Basil']\n",
            "['The American Baron: A Novel;pg13257.epub;Literary;Mille| James De']\n",
            "['Out of the Ashes;pg13273.epub;Literary;Grant| Ethel Watts Mumford']\n",
            "['The Light That Lures;pg13312.epub;Literary;Brebner| Percy James']\n",
            "['Miss Bretherton;pg13432.epub;Literary;Ward| Mrs. Humphry']\n",
            "['Aylwin;pg13454.epub;Literary;Watts-Dunton| Theodore']\n",
            "['The Collected Works of Ambrose Bierce- Volume 1;pg13541.epub;Literary;Bierce| Ambrose']\n",
            "['The Son of Clemenceau- A Novel of Modern Love and Life;pg13572.epub;Literary;Dumas| Alexandre']\n",
            "[\"One Day  A sequel to 'Three Weeks';pg13776.epub;Literary;Elinor Glyn\"]\n",
            "['The Port of Missing Men;pg13913.epub;Literary;Nicholson| Meredith']\n",
            "['The Seven Poor Travellers;pg1392.epub;Christmas Stories;Dickens| Charles']\n",
            "['Charles Rex;pg13960.epub;Love and Romance;Dell| Ethel M.']\n",
            "[\"V. V.'s Eyes;pg13985.epub;Literary;Harrison| Henry Sydnor\"]\n",
            "['The End of the World: A Love Story;pg14051.epub;Love and Romance;Eggleston| Edward']\n",
            "['Sandy;pg14079.epub;Sea and Adventure;Rice| Alice Caldwell Hegan']\n",
            "['If Winter Comes;pg14145.epub;Literary;Hutchinson| A. S. M.']\n",
            "['Going into Society;pg1422.epub;Literary;Dickens| Charles']\n",
            "['Flames;pg14253.epub;Literary;Hichens| Robert']\n",
            "['Queed - A Novel;pg14303.epub;Literary;Harrison| Henry Sydnor']\n",
            "['The Missing Bride;pg14382.epub;Literary;Southworth| Emma Dorothy Eliza Nevitte']\n",
            "['Septimus;pg14395.epub;Literary;Locke| William John']\n",
            "['The Exemplary Novels of Cervantes;pg14420.epub;Literary;Saavedra| Miguel de Cervantes']\n",
            "[\"True Love's Reward - A Sequel to Mona;pg14427.epub;Literary;Sheldon| Mrs. Georgie\"]\n",
            "[\"The Doctor's Dilemma;pg14454.epub;Literary;Stretton| Hesba\"]\n",
            "['A Daughter of To-Day;pg14490.epub;Literary;Duncan| Sara Jeannette']\n",
            "['Sister Carmen;pg14523.epub;Literary;Corvus| M.']\n",
            "['The Just and the Unjust;pg14581.epub;Literary;Kester| Vaughan']\n",
            "[\"The Devil's Garden;pg14605.epub;Literary;Maxwell| W. B.\"]\n",
            "['Jaffery;pg14669.epub;Literary;Locke| William John']\n",
            "[\"Christian's Mistake;pg14687.epub;Literary;Craik| Dinah Maria Mulock\"]\n",
            "['The Laurel Bush: An Old-Fashioned Love Story;pg14708.epub;Love and Romance;Craik| Dinah Maria Mulock']\n",
            "['Vandover and the Brute;pg14712.epub;Literary;Norris| Frank']\n",
            "['The Younger Set;pg14852.epub;Literary;Chambers| Robert W.']\n",
            "['The Man Thou Gavest;pg14858.epub;Literary;Comstock| Harriet T.']\n",
            "['Red Pottage;pg14885.epub;Literary;Cholmondeley| Mary']\n",
            "['The Keeper of the Door;pg15013.epub;Literary;Dell| Ethel M.']\n",
            "['The Cathedral;pg15067.epub;Literary;Huysmans| J.-K.']\n",
            "['The Cab of the Sleeping Horse;pg15094.epub;Literary;Scott| John Reed']\n",
            "['The Jervaise Comedy;pg15116.epub;Literary;Beresford| J. D.']\n",
            "['Sea and Shore - A Sequel to \"Miriam\\'s Memoirs\";pg15117.epub;Literary;Warfield| Catherine A.']\n",
            "[\"David Lockwin\\x97The People's Idol;pg15123.epub;Literary;McGovern| John\"]\n",
            "['The Inner Sisterhood - A Social Study in High Colors;pg15179.epub;Literary;Sherley| Douglass']\n",
            "[\"My Mother's Rival - Everyday Life Library No. 4;pg15181.epub;Literary;Brame| Charlotte M.\"]\n",
            "[\"Marion Arleigh's Penance - Everyday Life Library No. 5;pg15182.epub;Literary;Brame| Charlotte M.\"]\n",
            "['The Tragedy of the Chain Pier - Everyday Life Library No. 3;pg15183.epub;Literary;Brame| Charlotte M.']\n",
            "['Lewie - The Bended Twig;pg15244.epub;Literary;Bradford| Sarah H.']\n",
            "[\"Bessie's Fortune: A Novel;pg15275.epub;Literary;Holmes| Mary Jane\"]\n",
            "['Gladys- the Reaper;pg15315.epub;Literary;Beale| Anne']\n",
            "[\"The Baronet's Bride- A Woman's Vengeance;pg15317.epub;Literary;Fleming| May Agnes\"]\n",
            "['Tracy Park: A Novel;pg15321.epub;Literary;Holmes| Mary Jane']\n",
            "['The Lever: A Novel;pg15430.epub;Literary;Orcutt| William Dana']\n",
            "['Trumps;pg15498.epub;Literary;Curtis| George William']\n",
            "['Captivity;pg15527.epub;Literary;Eyles| Leonora']\n",
            "['A Splendid Hazard;pg15671.epub;Literary;MacGrath| Harold']\n",
            "['Far to Seek - A Romance of England and India;pg15704.epub;Literary;Diver| Maud']\n",
            "['Bunker Bean;pg15743.epub;Literary;Wilson| Harry Leon']\n",
            "['Ishmael- In the Depths;pg15774.epub;Literary;Southworth| Emma Dorothy Eliza Nevitte']\n",
            "['An Unpardonable Liar;pg15793.epub;Literary;Parker| Gilbert']\n",
            "['The Seeker;pg15797.epub;Literary;Wilson| Harry Leon']\n",
            "['Walter Harland - Memories of the Past;pg15799.epub;Literary;Caswell| Harriet S.']\n",
            "['Garman and Worse: A Norwegian Novel;pg15864.epub;Literary;Kielland| Alexander Lange']\n",
            "['The Unseen Bridegroom- Wedded For a Week;pg15875.epub;Literary;Fleming| May Agnes']\n",
            "['Allegories of Life;pg15895.epub;Allegories;Adams| Mrs. J. S.']\n",
            "['His Excellency the Minister;pg15934.epub;Literary;Claretie| Jules']\n",
            "[\"An Englishwoman's Love-Letters;pg15941.epub;Literary;Housman| Laurence\"]\n",
            "['The Fatal Glove;pg15989.epub;Literary;Augusta| Clara']\n",
            "['The Lost Lady of Lone;pg16039.epub;Literary;Southworth| Emma Dorothy Eliza Nevitte']\n",
            "['Uncle Max;pg16080.epub;Literary;Carey| Rosa Nouchette']\n",
            "[\"For Woman's Love;pg16094.epub;Literary;Southworth| Emma Dorothy Eliza Nevitte\"]\n",
            "['The Hoyden;pg16137.epub;Literary;Duchess|']\n",
            "['The Cromptons;pg16138.epub;Literary;Holmes| Mary Jane']\n",
            "['A Man and a Woman;pg16143.epub;Literary;Waterloo| Stanley']\n",
            "['Prince Fortunatus;pg16217.epub;Literary;Black| William']\n",
            "['Jan: A Dog and a Romance;pg16252.epub;Literary;Dawson| A. J.']\n",
            "['Idolatry: A Romance;pg16283.epub;Literary;Hawthorne| Julian']\n",
            "['The Foolish Virgin;pg1634.epub;Literary;Dixon| Thomas']\n",
            "['Ellen Walton - The Villain and His Victims;pg16345.epub;Literary;Addison| Alvin']\n",
            "['The Summons;pg16381.epub;Literary;Mason| A. E. W.']\n",
            "['What Necessity Knows;pg16398.epub;Literary;Dougall| L.']\n",
            "['Led Astray and The Sphinx - Two Novellas In One Volume;pg16403.epub;Literary;Feuillet| Octave']\n",
            "['The Measure of a Man;pg16453.epub;Literary;Barr| Amelia E.']\n",
            "['The Moon out of Reach;pg16497.epub;Love and Romance;Pedler| Margaret']\n",
            "['Foes;pg16554.epub;Literary;Johnston| Mary']\n",
            "['The Twins - A Domestic Novel;pg16574.epub;Literary;Tupper| Martin Farquhar']\n",
            "['The Lee Shore;pg16612.epub;Literary;Macaulay| Rose']\n",
            "['Bad Hugh;pg16662.epub;Literary;Holmes| Mary Jane']\n",
            "['Eveline Mandeville - The Horse Thief Rival;pg16676.epub;Literary;Addison| Alvin']\n",
            "['Adrien Leroy;pg16682.epub;Literary;Garvice| Charles']\n",
            "['A Comedy of Masks: A Novel;pg16703.epub;Literary;Dowson| Ernest Christopher| Moore| Arthur']\n",
            "['The Husbands of Edith;pg16719.epub;Literary;McCutcheon| George Barr']\n",
            "[\"Marzio's Crucifix and Zoroaster;pg16720.epub;Literary;Crawford| F. Marion\"]\n",
            "['Mike Fletcher: A Novel;pg16730.epub;Literary;Moore| George Augustus']\n",
            "['Jacqueline of Golden River;pg16771.epub;Literary;Egbert| H. M.']\n",
            "['My Little Lady;pg16788.epub;Literary;Poynter| E. Frances']\n",
            "[\"Elster's Folly: A Novel;pg16798.epub;Literary;Wood| Mrs. Henry\"]\n",
            "['Dangerous Ages;pg16799.epub;Literary;Macaulay| Rose']\n",
            "['Lydia of the Pines;pg16803.epub;Literary;Morrow| Honor']\n",
            "['Mark Hurdlestone - The Two Brothers;pg16836.epub;Literary;Moodie| Susanna']\n",
            "['The Halo;pg16909.epub;Literary;Hutten| Bettina Von']\n",
            "['The Bradys and the Girl Smuggler Working for the Custom House;pg16919.epub;Detective and Mystery;Doughty| Francis Worcester']\n",
            "['The Bad Man: A Novel;pg16968.epub;Literary;Browne| Porter Emerson| Towne| Charles Hanson']\n",
            "['The Vanished Messenger;pg1699.epub;Detective and Mystery;Oppenheim| E. Phillips']\n",
            "['Miss Dexie - A Romance of the Provinces;pg16993.epub;Literary;Eveleth| Stanford']\n",
            "['The Half-Hearted;pg17047.epub;Sea and Adventure;Buchan| John']\n",
            "['The Man and the Moment;pg17048.epub;Literary;Glyn| Elinor']\n",
            "['The Crock of Gold - A Rural Novel;pg17062.epub;Literary;Tupper| Martin Farquhar']\n",
            "[\"Guy Livingstone'Thorough';pg17084.epub;Literary;Lawrence| George A.\"]\n",
            "['Destiny;pg17141.epub;Literary;Buck| Charles Neville']\n",
            "['The Actress in High Life - An Episode in Winter Quarters;pg17191.epub;Literary;Bowen| Sue Petigru']\n",
            "['Atlantis;pg17241.epub;Literary;Hauptmann| Gerhart']\n",
            "['Sunrise;pg17308.epub;Literary;Black| William']\n",
            "['Arms and the Woman;pg17359.epub;Love and Romance;MacGrath| Harold']\n",
            "['Hearts and Masks;pg17390.epub;Literary;MacGrath| Harold']\n",
            "['The Adventures of Kathlyn;pg17402.epub;Literary;MacGrath| Harold']\n",
            "['The Thin Red Line  and Blue Blood;pg17434.epub;Literary;Griffiths| Arthur']\n",
            "['The Second Honeymoon;pg17446.epub;Literary;Ayres| Ruby M.']\n",
            "['The Red Seal;pg1747.epub;Literary;Lincoln| Natalie Sumner']\n",
            "[\"Other People's Money;pg1748.epub;Detective and Mystery;Gaboriau| Emile\"]\n",
            "['On the Church Steps;pg17559.epub;Literary;Hallowell| Sarah C.']\n",
            "['By the Light of the Soul: A Novel;pg17564.epub;Literary;Freeman| Mary Eleanor Wilkins']\n",
            "['Romance;pg17642.epub;Literary;Conrad| Joseph| Ford| Ford Madox']\n",
            "['Bella Donna: A Novel;pg17698.epub;Literary;Hichens| Robert']\n",
            "[\"The Courage of Marge O'Doone;pg17745.epub;Literary;Curwood| James Oliver\"]\n",
            "['Foes in Ambush;pg17806.epub;Literary;King| Charles']\n",
            "['Contrary Mary;pg17938.epub;Literary;Bailey| Temple']\n",
            "['Betty at Fort Blizzard;pg18022.epub;Literary;Seawell| Molly Elliot']\n",
            "[\"Medoline Selwyn's Work;pg18052.epub;Literary;Colter| Mrs. J. J.\"]\n",
            "['The Zeit-Geist;pg18054.epub;Literary;Dougall| L.']\n",
            "[\"Bucky O'Connor: A Tale of the Unfenced Border;pg1809.epub;Western Stories;Raine| William MacLeod\"]\n",
            "['The Road to Mandalay - A Tale of Burma;pg18239.epub;Literary;Croker| B. M.']\n",
            "['Gentle Julia;pg18259.epub;Literary;Tarkington| Booth']\n",
            "['Enter Bridget;pg18280.epub;Literary;Cobb| Thomas']\n",
            "['The Case of the Lamp That Went Out;pg1832.epub;Detective and Mystery;Groner| Auguste']\n",
            "['The Case of the Registered Letter;pg1833.epub;Detective and Mystery;Groner| Auguste']\n",
            "['The Lighted Match;pg18336.epub;Literary;Buck| Charles Neville']\n",
            "['The Case of the Pocket Diary Found in the Snow;pg1834.epub;Detective and Mystery;Groner| Auguste']\n",
            "[\"The Case of the Pool of Blood in the Pastor's Study;pg1835.epub;Detective and Mystery;Groner| Auguste\"]\n",
            "['The Case of the Golden Bullet;pg1836.epub;Detective and Mystery;Groner| Auguste']\n",
            "['A Melody in Silver;pg18434.epub;Literary;Abbott| Keene']\n",
            "['Parrot & Co.;pg18443.epub;Literary;MacGrath| Harold']\n",
            "['The Treasure of Heaven: A Romance of Riches;pg18449.epub;Literary;Corelli| Marie']\n",
            "['The Vision Splendid;pg1846.epub;Western Stories;Raine| William MacLeod']\n",
            "['The Place Beyond the Winds;pg18488.epub;Literary;Comstock| Harriet T.']\n",
            "['A Court of Inquiry;pg18489.epub;Literary;Richmond| Grace S.']\n",
            "['The Yellow Crayon;pg1849.epub;Detective and Mystery;Oppenheim| E. Phillips']\n",
            "['The Woman in the Alcove;pg1851.epub;Detective and Mystery;Green| Anna Katharine']\n",
            "[\"A Mummer's Tale;pg18545.epub;Literary;France| Anatole\"]\n",
            "['Initials Only;pg1857.epub;Detective and Mystery;Green| Anna Katharine']\n",
            "['The President: A Novel;pg18572.epub;Literary;Lewis| Alfred Henry']\n",
            "['The Poor Plutocrats;pg18705.epub;Literary;Jkai| Mr']\n",
            "[\"Dr. Dumany's Wife;pg18708.epub;Literary;Jkai| Mr\"]\n",
            "['Painted Windows;pg1875.epub;Literary;Peattie| Elia Wilkinson']\n",
            "['A Millionaire of Yesterday;pg1878.epub;Detective and Mystery;Oppenheim| E. Phillips']\n",
            "['The House of Martha;pg18822.epub;Literary;Stockton| Frank Richard']\n",
            "['Winner Take All;pg18829.epub;Literary;Evans| Larry']\n",
            "['The Bittermeads Mystery;pg1888.epub;Detective and Mystery;Punshon| E. R.']\n",
            "[\"Then I'll Come Back to You;pg18894.epub;Literary;Evans| Larry\"]\n",
            "['The Seventh Man;pg1897.epub;Western Stories;Brand| Max']\n",
            "['The Starbucks;pg18984.epub;Literary;Read| Opie Percival']\n",
            "['Sword and Gown: A Novel;pg19121.epub;Literary;Lawrence| George A.']\n",
            "['The House in the Mist;pg19147.epub;Detective and Mystery;Green| Anna Katharine']\n",
            "['The Cow Puncher;pg19173.epub;Literary;Stead| Robert J. C.']\n",
            "['Lady Larkspur;pg19204.epub;Literary;Nicholson| Meredith']\n",
            "[\"The Alchemist's Secret;pg19224.epub;Literary;Williams| Isabel Cecilia\"]\n",
            "['Joyce of the North Woods;pg19225.epub;Literary;Comstock| Harriet T.']\n",
            "['Michael McGrath- Postmaster;pg19257.epub;Literary;Connor| Ralph']\n",
            "[\"His Heart's Queen;pg19259.epub;Literary;Sheldon| Mrs. Georgie\"]\n",
            "['Born Again;pg19459.epub;Literary;Lawson| Alfred W.']\n",
            "['Branded;pg19472.epub;Western Stories;Lynde| Francis']\n",
            "['North of Fifty-Three;pg19510.epub;Literary;Sinclair| Bertrand W.']\n",
            "[\"Kate Danton- Captain Danton's Daughters: A Novel;pg19512.epub;Literary;Fleming| May Agnes\"]\n",
            "['Sight Unseen;pg1960.epub;Detective and Mystery;Rinehart| Mary Roberts']\n",
            "['The Confession;pg1963.epub;Detective and Mystery;Rinehart| Mary Roberts']\n",
            "['Dixie Hart;pg19818.epub;Literary;Harben| Will N.']\n",
            "['Heart - A Social Novel;pg20235.epub;Literary;Tupper| Martin Farquhar']\n",
            "['A Political Romance;pg20257.epub;Literary;Sterne| Laurence']\n",
            "['The Lovely Lady;pg20359.epub;Literary;Austin| Mary Hunter']\n",
            "['A Son of the Hills;pg20424.epub;Literary;Comstock| Harriet T.']\n",
            "['The Seventh Noon;pg20429.epub;Literary;Bartlett| Frederick Orin']\n",
            "['The Triflers;pg20458.epub;Literary;Bartlett| Frederick Orin']\n",
            "['Ernest Linwood- The Inner Life of the Author;pg20462.epub;Literary;Hentz| Caroline Lee']\n",
            "['The Complete Prose Works of Martin Farquhar Tupper;pg20610.epub;Literary;Tupper| Martin Farquhar']\n",
            "['The Master-Knot of Human Fate;pg20615.epub;Literary;Meredith| Ellis']\n",
            "['The Romance of an Old Fool;pg20661.epub;Love and Romance;Field| Roswell Martin']\n",
            "['The Monctons: A Novel. Volume 1 (of 2);pg20835.epub;Literary;Moodie| Susanna']\n",
            "['In Apple-Blossom Time: A Fairy-Tale to Date;pg20901.epub;Love and Romance;Burnham| Clara Louise']\n",
            "['Overdue: The Story of a Missing Ship;pg21067.epub;Sea and Adventure;Collingwood| Harry']\n",
            "['The Ghost Ship: A Mystery of the Sea;pg21087.epub;Sea and Adventure;Hutcheson| John C.']\n",
            "['Phyllis of Philistia;pg2155.epub;Literary;Moore| Frank Frankfort']\n",
            "['Rattlin the Reefer;pg21578.epub;Sea and Adventure;Howard| Edward']\n",
            "['On the Stairs;pg21613.epub;Literary;Fuller| Henry Blake']\n",
            "[\"April's Lady: A Novel;pg21641.epub;Literary;Duchess|\"]\n",
            "['The Making of a Soul;pg21674.epub;Literary;Rhodes| Kathlyn']\n",
            "['The Tyranny of Weakness;pg21689.epub;Literary;Buck| Charles Neville']\n",
            "['Flint: His Faults- His Friendships and His Fortunes;pg21690.epub;Literary;Goodwin| Maud Wilder']\n",
            "[\"Agatha's Husband: A Novel;pg21767.epub;Literary;Craik| Dinah Maria Mulock\"]\n",
            "['The Mark Of Cain;pg21821.epub;Literary;Lang| Andrew']\n",
            "['The Daughters of Danaus;pg21858.epub;Literary;Caird| Mona']\n",
            "['Afterwards;pg21867.epub;Literary;Rhodes| Kathlyn']\n",
            "['Luna Benamor;pg21870.epub;Literary;Ibez| Vicente Blasco']\n",
            "['Blacksheep! Blacksheep!;pg21887.epub;Sea and Adventure;Nicholson| Meredith']\n",
            "['Embarrassments;pg21932.epub;Literary;James| Henry']\n",
            "['The Pleasant Street Partnership: A Neighborhood Story;pg21944.epub;Literary;Leonard| Mary Finley']\n",
            "['The Lure of the Mask;pg22158.epub;Literary;MacGrath| Harold']\n",
            "['Aunt Rachel - A Rustic Sentimental Comedy;pg22202.epub;Literary;Murray| David Christie']\n",
            "['In Direst Peril;pg22205.epub;Literary;Murray| David Christie']\n",
            "['An Old Meerschaum - From Coals Of Fire And Other Stories- Volume II. (of III.);pg22206.epub;Literary;Murray| David Christie']\n",
            "['The Romance Of Giovanni Calvotti - From Coals Of Fire And Other Stories- Volume II. (of III.);pg22207.epub;Literary;Murray| David Christie']\n",
            "['Cruel Barbara Allen - From Coals Of Fire And Other Stories- Volume II. (of III.);pg22208.epub;Literary;Murray| David Christie']\n",
            "['Molly Bawn;pg22214.epub;Literary;Duchess| ']\n",
            "['Oswald Langdon - Pierre and Paul Lanier. A Romance of 1894-1898;pg22221.epub;Literary;Hamilton| Levi Jackson']\n",
            "['Schwartz: A History - From \"Schwartz\" by David Christie Murray;pg22271.epub;Literary;Murray| David Christie']\n",
            "['Young Mr. Barter\\'s Repentance - From \"Schwartz\" by David Christie Murray;pg22272.epub;Literary;Murray| David Christie']\n",
            "['Bulldog And Butterfly - From \"Schwartz\" by David Christie Murray;pg22273.epub;Literary;Murray| David Christie']\n",
            "['Julia And Her Romeo: A Chronicle Of Castle Barfield - From \"Schwartz\" by David Christie Murray;pg22274.epub;Literary;Murray| David Christie']\n",
            "['VC \\x97 A Chronicle of Castle Barfield and of the Crimea;pg22275.epub;Literary;Murray| David Christie']\n",
            "[\"Despair's Last Journey;pg22276.epub;Literary;Murray| David Christie\"]\n",
            "['The Tale Of Mr. Peter Brown - Chelsea Justice - From \"The New Decameron\"|| Volume III.;pg22476.epub;Literary;Sackville-West| Vita']\n",
            "[\"Mary Louise and Josie O'Gorman;pg22532.epub;Literary;Sampson| Emma Speed\"]\n",
            "['King Candaules;pg22660.epub;Literary;Gautier| Thophile']\n",
            "['32 Caliber;pg22781.epub;Literary;McGibeny| Donald']\n",
            "['Havoc;pg2287.epub;Detective and Mystery;Oppenheim| E. Phillips']\n",
            "[\"Doctor Luttrell's First Patient;pg22883.epub;Love and Romance;Carey| Rosa Nouchette\"]\n",
            "[\"Nell- of Shorne Mills- One Heart's Burden;pg22961.epub;Literary;Garvice| Charles\"]\n",
            "['A Modern Idyll;pg23009.epub;Literary;Harris| Frank']\n",
            "['Gulmore- The Boss;pg23010.epub;Literary;Harris| Frank']\n",
            "['Elder Conklin;pg23012.epub;Literary;Harris| Frank']\n",
            "[\"Helen and Arthur- Miss Thusa's Spinning Wheel;pg23106.epub;Literary;Hentz| Caroline Lee\"]\n",
            "['A Chinese Command: A Story of Adventure in Eastern Seas;pg23118.epub;Sea and Adventure;Collingwood| Harry']\n",
            "[\"Other People's Business: The Romantic Career of the Practical Miss Dale;pg23157.epub;Literary;Smith| Harriet L.\"]\n",
            "['Old Ebenezer;pg23215.epub;Literary;Read| Opie Percival']\n",
            "['The Fête At Coqueville - 1907;pg23222.epub;Literary;Zola| ile']\n",
            "['Good Blood;pg23223.epub;Literary;Wildenbruch| Ernst von']\n",
            "['Mistress Anne;pg23246.epub;Literary;Bailey| Temple']\n",
            "['The Folly Of Eustace - 1896;pg23420.epub;Literary;Hichens| Robert']\n",
            "['The Man Next Door;pg23606.epub;Literary;Hough| Emerson']\n",
            "['The Riddle Of The Rocks - 1895;pg23629.epub;Literary;Murfree| Mary Noailles']\n",
            "['The Phantoms Of The Foot-Bridge - 1895;pg23630.epub;Literary;Murfree| Mary Noailles']\n",
            "['The Moonshiners At Hoho-Hebee Falls - 1895;pg23631.epub;Literary;Murfree| Mary Noailles']\n",
            "[\"'way Down In Lonesome Cove - 1895;pg23632.epub;Literary;Murfree| Mary Noailles\"]\n",
            "['His \"Day In Court\" - 1895;pg23633.epub;Literary;Murfree| Mary Noailles']\n",
            "['Flamsted quarries;pg23664.epub;Literary;Waller| Mary E.']\n",
            "['The Dew of Their Youth;pg23736.epub;Literary;Crockett| S. R.']\n",
            "['David Malcolm;pg23741.epub;Literary;Lloyd| Nelson']\n",
            "['Aladdin & Co.: A Romance of Yankee Magic;pg23745.epub;Literary;Quick| Herbert']\n",
            "['Cruel As The Grave;pg23789.epub;Literary;Southworth| Emma Dorothy Eliza Nevitte']\n",
            "['A True Friend: A Novel;pg23797.epub;Literary;Sergeant| Adeline']\n",
            "['The Opal Serpent;pg24769.epub;Detective and Mystery;Hume| Fergus']\n",
            "['The Book of All-Power;pg24920.epub;Literary;Wallace| Edgar']\n",
            "['The Kingdom Round the Corner: A Novel;pg25702.epub;Literary;Ashford| Angela| Ashford| Daisy']\n",
            "['An Apostate: Nawin of Thais;pg25730.epub;Literary;Dawson| Coningsby']\n",
            "[\"Her Mother's Secret;pg26259.epub;Literary;Hume| Fergus\"]\n",
            "[\"Margarita's Soul: The Romantic Recollections of a Man of Fifty;pg26277.epub;Literary;Southworth| Emma Dorothy Eliza Nevitte\"]\n",
            "['Simon;pg26306.epub;Detective and Mystery;Bacon| Josephine Daskam']\n",
            "[\"Madeline Payne- the Detective's Daughter;pg26482.epub;Detective and Mystery;Lynch| Lawrence L.\"]\n",
            "['Burlesques;pg2675.epub;Literary;Lynch| Lawrence L.']\n",
            "['Ringfield: A Novel;pg26768.epub;Literary;Thackeray| William Makepeace']\n",
            "['A Red Wallflower;pg26828.epub;Literary;Harrison| S. Frances']\n",
            "['A Pessimist in Theory and Practice;pg26847.epub;Literary;Warner| Susan']\n",
            "['The Bradys Beyond Their Depth- The Great Swamp Mystery;pg26925.epub;Detective and Mystery;Bird| Frederic Mayer']\n",
            "['Bird of Paradise;pg27323.epub;Literary;Seltzer| Charles Alden']\n",
            "[\"The Giant's Robe;pg27507.epub;Literary;Sabin| Edwin L.\"]\n",
            "['The Seven Secrets;pg27549.epub;Detective and Mystery;Anstey| F.']\n",
            "[\"Five O'Clock Tea: Farce;pg27709.epub;Literary;Queux| William Le\"]\n",
            "[\"A Bachelor's Dream;pg27838.epub;Literary;Howells| William Dean\"]\n",
            "['The Dominant Dollar;pg27857.epub;Literary;Duchess|']\n",
            "[\"Dick Leslie's Luck: A Story of Shipwreck and Adventure;pg27909.epub;Sea and Adventure;Lillibridge| Will\"]\n",
            "['Anderson Crow- Detective;pg28229.epub;Detective and Mystery;Morris| Gouverneur']\n",
            "['A Romantic Young Lady;pg28236.epub;Literary;McCutcheon| George Barr']\n",
            "['The Beloved Woman;pg28301.epub;Literary;Grant| Robert']\n",
            "['In Brief Authority;pg28459.epub;Literary;Norris| Kathleen Thompson']\n",
            "['Not Like Other Girls;pg28463.epub;Literary;Anstey| F.']\n",
            "['The Limit;pg28465.epub;Literary;Leverson| Ada']\n",
            "['The Brass Bound Box;pg28509.epub;Literary;Raymond| Evelyn']\n",
            "['Wee Wifie;pg28717.epub;Literary;Carey| Rosa Nouchette']\n",
            "['Lover or Friend;pg28925.epub;Literary;Carey| Rosa Nouchette']\n",
            "['Chit-Chat  Nirvana  The Searchlight;pg29071.epub;Literary;Holt| Mathew Joseph']\n",
            "['Cleo The Magnificent- The Muse of the Real: A Novel;pg29207.epub;Literary;Zangwill| Louis']\n",
            "['The First Violin - A Novel;pg29219.epub;Literary;Fothergill| Jessie']\n",
            "['People of Position;pg29274.epub;Literary;Hyatt| Stanley Portal']\n",
            "['Australia Revenged;pg29315.epub;Literary;Boomerang|']\n",
            "[\"An Old Sailor's Yarns;pg29323.epub;Sea and Adventure;Ames| N.\"]\n",
            "['The Prisoner;pg29366.epub;Literary;Brown| Alice']\n",
            "['Murder Point: A Tale of Keewatin;pg29400.epub;Detective and Mystery;Dawson| Coningsby']\n",
            "['Rope;pg29570.epub;Literary;Hall| Holworthy']\n",
            "['Once to Every Man;pg29646.epub;Literary;Evans| Larry']\n",
            "['Mixed Faces;pg29657.epub;Literary;Norton| Roy']\n",
            "['Nobody;pg29671.epub;Literary;Vance| Louis Joseph']\n",
            "['The Hound From The North;pg29695.epub;Literary;Cullum| Ridgwell']\n",
            "['The Heart of Thunder Mountain;pg29697.epub;Literary;Bingham| Edfrid A.']\n",
            "[\"Hetty's Strange History;pg29699.epub;Literary;Jackson| Helen Hunt\"]\n",
            "['The Princess Virginia;pg29715.epub;Literary;Williamson| A. M.| Williamson| C. N.']\n",
            "['The Strollers;pg29726.epub;Literary;Isham| Frederic Stewart']\n",
            "[\"Victor's Triumph - Sequel to A Beautiful Fiend;pg29729.epub;Literary;Southworth| Emma Dorothy Eliza Nevitte\"]\n",
            "['The Missionary;pg29743.epub;Literary;Griffith| George Chetwynd']\n",
            "['The Gorgeous Girl;pg29753.epub;Literary;Bartley| Nalbro']\n",
            "['The Dominant Strain;pg29760.epub;Literary;Ray| Anna Chapin']\n",
            "['Audrey Craven;pg29766.epub;Literary;Sinclair| May']\n",
            "['The Man Who Wins;pg29808.epub;Literary;Herrick| Robert']\n",
            "['The Paliser case;pg29847.epub;Literary;Saltus| Edgar']\n",
            "['Dwellers in the Hills;pg29851.epub;Literary;Post| Melville Davisson']\n",
            "['A Great Man: A Frolic;pg29860.epub;Literary;Bennett| Arnold']\n",
            "['The Old Countess- The Two Proposals;pg29862.epub;Literary;Stephens| Ann S.']\n",
            "['Love and Lucy;pg29868.epub;Literary;Hewlett| Maurice']\n",
            "['The Crimson Tide: A Novel;pg29880.epub;Literary;Chambers| Robert W.']\n",
            "[\"The Doctor's Family;pg29890.epub;Literary;Oliphant| Mrs.\"]\n",
            "['The Rector;pg29891.epub;Literary;Oliphant| Mrs.']\n",
            "['Changing Winds - A Novel;pg29902.epub;Literary;Ervine| St. John G.']\n",
            "['Jan and Her Job;pg29945.epub;Literary;Harker| L. Allen']\n",
            "['The Eye of Dread;pg30031.epub;Literary;Erskine| Payne']\n",
            "['In the Shadow of the Hills;pg30037.epub;Literary;Shedd| George C.']\n",
            "['Jessica- the Heiress;pg30074.epub;Literary;Raymond| Evelyn']\n",
            "['Our Next-Door Neighbors;pg30075.epub;Literary;Maniates| Belle Kanaris']\n",
            "['Amaryllis at the Fair;pg30087.epub;Literary;Jefferies| Richard']\n",
            "['Young Barbarians;pg30089.epub;Literary;Maclaren| Ian']\n",
            "['Robinetta;pg30090.epub;Literary;Findlater| Jane Helen| Findlater| Mary| McAulay| Allan| Wiggin| Kate Douglas Smith']\n",
            "['At the Crossroads;pg30095.epub;Literary;Comstock| Harriet T.']\n",
            "['The Vast Abyss - The Story of Tom Blount- his Uncles and his Cousin Sam;pg30106.epub;Literary;Fenn| George Manville']\n",
            "['The Quality of Mercy;pg30108.epub;Literary;Howells| William Dean']\n",
            "['Name and Fame: A Novel;pg30110.epub;Literary;Sergeant| Adeline']\n",
            "['A Noble Woman;pg30111.epub;Literary;Stephens| Ann S.']\n",
            "['Tante;pg30115.epub;Literary;Sedgwick| Anne Douglas']\n",
            "['Daisy Brooks- A Perilous Love;pg30137.epub;Sea and Adventure;Libbey| Laura Jean']\n",
            "['A Manual of the Art of Fiction;pg30183.epub;Literary;Hamilton| Clayton Meeker']\n",
            "['East of the Shadows;pg30193.epub;Literary;Barclay| Mrs. Hubert']\n",
            "['Officer 666;pg30228.epub;Literary;Currie| Barton Wood| McHugh| Augustin']\n",
            "[\"Phemie Frost's Experiences;pg30245.epub;Literary;Stephens| Ann S.\"]\n",
            "[\"Mabel's Mistake;pg30247.epub;Literary;Stephens| Ann S.\"]\n",
            "['A Captain in the Ranks: A Romance of Affairs;pg30263.epub;Literary;Eggleston| George Cary']\n",
            "['The Phantom Lover;pg30286.epub;Literary;Ayres| Ruby M.']\n",
            "['The Benefactress;pg30302.epub;Literary;Arnim| Elizabeth Von']\n",
            "['Hope Mills- Between Friend and Sweetheart;pg30436.epub;Literary;Douglas| Amanda M.']\n",
            "['The Lieutenant-Governor: A Novel;pg30448.epub;Literary;Carryl| Guy Wetmore']\n",
            "['A Manifest Destiny;pg30464.epub;Literary;Magruder| Julia']\n",
            "['Wild Oranges;pg30466.epub;Literary;Hergesheimer| Joseph']\n",
            "['Outside Inn;pg30483.epub;Literary;Kelley| Ethel M.']\n",
            "[\"The Count's Millions;pg305.epub;Detective and Mystery;Gaboriau| Emile\"]\n",
            "['The Pines of Lory;pg30600.epub;Literary;Mitchell| John Ames']\n",
            "['A Danish Parsonage;pg30617.epub;Literary;Vicary| John Fulford']\n",
            "['Wings of the Wind;pg30618.epub;Literary;Harris| Credo Fitch']\n",
            "['In the Heart of a Fool;pg30627.epub;Literary;White| William Allen']\n",
            "['Anything Once;pg30640.epub;Literary;Ostrander| Isabel']\n",
            "['An Ocean Tramp;pg30648.epub;Literary;McFee| William']\n",
            "[\"Daisy's Necklace- and What Came of It;pg30668.epub;Literary;Aldrich| Thomas Bailey\"]\n",
            "['Sir Tom;pg30692.epub;Literary;Oliphant| Mrs.']\n",
            "['The Record of Nicholas Freydon - An Autobiography;pg30704.epub;Literary;Dawson| A. J.']\n",
            "[\"Captain Pott's Minister;pg30713.epub;Literary;Cooper| Francis L.\"]\n",
            "['Absolution;pg30724.epub;Literary;Viebig| Clara']\n",
            "['The Fate of Felix Brand;pg30733.epub;Literary;Kelly| Florence Finch']\n",
            "[\"Clark's Field;pg30736.epub;Literary;Herrick| Robert\"]\n",
            "['Materials and Methods of Fiction - With an Introduction by Brander Matthews;pg30776.epub;Literary;Hamilton| Clayton Meeker']\n",
            "['The Beggar Man;pg30817.epub;Literary;Ayres| Ruby M.']\n",
            "['Ashton-Kirk- Criminologist;pg30838.epub;Detective and Mystery;McIntyre| John Thomas']\n",
            "['Kidnapped at the Altar- The Romance of that Saucy Jessie Bain;pg30980.epub;Sea and Adventure;Libbey| Laura Jean']\n",
            "['Ten Thousand a-Year. Volume 1.;pg31004.epub;Literary;Warren| Samuel']\n",
            "['The Recipe for Diamonds;pg31083.epub;Sea and Adventure;Hyne| Charles John Cutcliffe Wright']\n",
            "['Aliens;pg31241.epub;Literary;McFee| William']\n",
            "[\"Cupid's Middleman;pg31561.epub;Literary;Lent| Edward B.\"]\n",
            "['Walladmor- Vol. 1 (of 2) - \"Freely Translated into German from the English of Sir Walter Scott.\" And Now Freely Translated from the German into English.;pg31563.epub;Literary;Alexis| Willibald']\n",
            "['Walladmor- Vol. 2 (of 2) - \"Freely Translated into German from the English of Sir Walter Scott.\" And Now Freely Translated from the German into English.;pg31568.epub;Literary;Alexis| Willibald']\n",
            "['Room Number 3- and Other Detective Stories;pg31578.epub;Detective and Mystery;Green| Anna Katharine']\n",
            "['The Serapion Brethren- Vol. II;pg31668.epub;Literary;Hoffmann| E. T. A.']\n",
            "['Checkers: A Hard-luck Story;pg31813.epub;Literary;Blossom| Henry']\n",
            "['The Serapion Brethren- Vol. I.;pg31820.epub;Literary;Hoffmann| E. T. A.']\n",
            "['Portia- By Passions Rocked;pg31825.epub;Literary;Duchess|']\n",
            "['An Artist in Crime;pg31915.epub;Detective and Mystery;Ottolengui| Rodrigues']\n",
            "['The Portal of Dreams;pg31927.epub;Literary;Buck| Charles Neville']\n",
            "['A Life Sentence: A Novel;pg31984.epub;Literary;Sergeant| Adeline']\n",
            "[\"Captain Macedoine's Daughter;pg32042.epub;Literary;McFee| William\"]\n",
            "['A Rent In A Cloud;pg32082.epub;Literary;Lever| Charles James']\n",
            "['Command;pg32114.epub;Sea and Adventure;McFee| William']\n",
            "['Rose MacLeod;pg32115.epub;Literary;Brown| Alice']\n",
            "['When the Cock Crows;pg32116.epub;Literary;Baily| Waldron']\n",
            "['Long Live the King!;pg32132.epub;Literary;Boothby| Guy']\n",
            "[\"Arthur O'Leary: His Wanderings And Ponderings In Many Lands;pg32424.epub;Literary;Lever| Charles James\"]\n",
            "['The Brightener;pg32428.epub;Literary;Williamson| A. M.| Williamson| C. N.']\n",
            "['A Marriage at Sea;pg32516.epub;Sea and Adventure;Russell| William Clark']\n",
            "['Gerald Fitzgerald- the Chevalier: A Novel;pg32560.epub;Sea and Adventure;Viebig| Clara']\n",
            "['A Novelist on Novels;pg32576.epub;Literary;George| Walter Lionel']\n",
            "[\"A Day's Ride: A Life's Romance;pg32692.epub;Literary;Lever| Charles James\"]\n",
            "[\"That Boy Of Norcott's;pg32693.epub;Literary;Lever| Charles James\"]\n",
            "[\"Jacob's Ladder;pg32732.epub;Detective and Mystery;Oppenheim| E. Phillips\"]\n",
            "['Tried for Her Life - A Sequel to \"Cruel As the Grave\";pg32757.epub;Literary;Southworth| Emma Dorothy Eliza Nevitte']\n",
            "['Fairfax and His Pride: A Novel;pg32826.epub;Literary;Vorst| Marie Van']\n",
            "['One Of Them;pg32840.epub;Literary;Lever| Charles James']\n",
            "['Lady Cassandra;pg32882.epub;Literary;Vaizey| Mrs. George de Horne']\n",
            "[\"Sir Hilton's Sin;pg32915.epub;Literary;Fenn| George Manville\"]\n",
            "['The Sapphire Cross;pg32917.epub;Literary;Fenn| George Manville']\n",
            "['Thereby Hangs a Tale. Volume One;pg32929.epub;Literary;Fenn| George Manville']\n",
            "['An Unknown Lover;pg32936.epub;Literary;Vaizey| Mrs. George de Horne']\n",
            "[\"The Red Rat's Daughter;pg33004.epub;Detective and Mystery;Boothby| Guy\"]\n",
            "['The Green God;pg33019.epub;Detective and Mystery;Kummer| Frederic Arnold']\n",
            "['Sir Jasper Carew: His Life and Experience;pg33081.epub;Literary;Lever| Charles James']\n",
            "['The Truth About Tristrem Varick: A Novel;pg33099.epub;Literary;Saltus| Edgar']\n",
            "['Was It Right to Forgive? A Domestic Romance;pg33195.epub;Literary;Barr| Amelia E.']\n",
            "['Faith and Unfaith: A Novel;pg33312.epub;Literary;Duchess|']\n",
            "['The Little Schoolmaster Mark: A Spiritual Romance;pg33401.epub;Literary;Davis| Richard Harding']\n",
            "['A Man in the Open;pg33423.epub;Literary;Pocock| Roger']\n",
            "['Roland Cashel- Volume I (of II);pg33468.epub;Literary;Lever| Charles James']\n",
            "['Roland Cashel- Volume II (of II);pg33469.epub;Literary;Lever| Charles James']\n",
            "['The Furnace;pg33482.epub;Literary;Macaulay| Rose']\n",
            "['The Gambler: A Novel;pg33490.epub;Literary;Thurston| Katherine Cecil']\n",
            "['Bransford of Rainbow Range - Originally Published under the title of Bransford in Arcadia- The Little Eohippus;pg33498.epub;Western Stories;Rhodes| Eugene Manlove']\n",
            "['The Fortunes Of Glencore;pg33556.epub;Literary;Lever| Charles James']\n",
            "['The Bachelors: A Novel;pg33565.epub;Literary;Orcutt| William Dana']\n",
            "['Tony Butler;pg33604.epub;Literary;Lever| Charles James']\n",
            "[\"Norine's Revenge- and- Sir Noel's Heir;pg33664.epub;Literary;Fleming| May Agnes\"]\n",
            "['X Y Z: A Detective Story;pg33695.epub;Detective and Mystery;Green| Anna Katharine']\n",
            "['The Cottage of Delight: A Novel;pg33715.epub;Literary;Harben| Will N.']\n",
            "['An Engagement of Convenience: A Novel;pg33747.epub;Literary;Zangwill| Louis']\n",
            "['The Key to Yesterday;pg33759.epub;Literary;Buck| Charles Neville']\n",
            "['The Haunted Pajamas;pg33780.epub;Literary;Elliott| Francis Perry']\n",
            "['King of Camargue;pg33867.epub;Literary;Aicard| Jean']\n",
            "['Regina- or the Sins of the Fathers;pg33892.epub;Literary;Sudermann| Hermann']\n",
            "['The Unknown Sea;pg33945.epub;Allegories;Housman| Clemence']\n",
            "['The Reclaimers;pg33959.epub;Literary;McCarter| Margaret Hill']\n",
            "['The Mysterious Wanderer- Vol. I;pg33973.epub;Literary;Reeve| Sophia']\n",
            "['Love Works Wonders: A Novel;pg33989.epub;Literary;Brame| Charlotte M.']\n",
            "['The Belovéd Traitor;pg34034.epub;Literary;Packard| Frank L.']\n",
            "['The Hillman;pg34035.epub;Detective and Mystery;Oppenheim| E. Phillips']\n",
            "['Whispering Wires;pg34046.epub;Detective and Mystery;Leverage| Henry']\n",
            "['A Poached Peerage;pg34088.epub;Literary;Magnay| Sir William']\n",
            "[\"Lady Maude's Mania;pg34138.epub;Literary;Fenn| George Manville\"]\n",
            "['A Double Knot;pg34140.epub;Literary;Fenn| George Manville']\n",
            "['By Birth a Lady;pg34142.epub;Literary;Fenn| George Manville']\n",
            "['A Blot on the Scutcheon;pg34164.epub;Literary;Knowles| Mabel Winifred']\n",
            "['Capricious Caroline;pg34166.epub;Literary;Rowlands| Effie Adelaide']\n",
            "['Zula;pg34168.epub;Literary;Lindley| H. Esselstyn']\n",
            "[\"The Girl From Tim's Place;pg34202.epub;Literary;Munn| Charles Clark\"]\n",
            "['The Star-Gazers;pg34244.epub;Literary;Fenn| George Manville']\n",
            "['Of High Descent;pg34246.epub;Literary;Fenn| George Manville']\n",
            "['The Man with a Shadow;pg34248.epub;Literary;Fenn| George Manville']\n",
            "['A Mysterious Disappearance;pg34277.epub;Detective and Mystery;Tracy| Louis']\n",
            "['Phases of an Inferior Planet;pg34402.epub;Literary;Glasgow| Ellen Anderson Gholson']\n",
            "['For the Allinson Honor;pg34415.epub;Literary;Bindloss| Harold']\n",
            "['Alas! A Novel;pg34428.epub;Literary;Broughton| Rhoda']\n",
            "['The Rosery Folk;pg34482.epub;Literary;Fenn| George Manville']\n",
            "['The Gold Brick;pg34500.epub;Literary;Stephens| Ann S.']\n",
            "['Paradise Bend;pg34567.epub;Western Stories;White| William Patterson']\n",
            "['The Triumph of Virginia Dale;pg34575.epub;Literary;Francis| John']\n",
            "[\"Mrs. Halliburton's Troubles;pg34587.epub;Literary;Trevena| John\"]\n",
            "['Through Night to Light: A Novel;pg34598.epub;Literary;Spielhagen| Friedrich']\n",
            "['What the Swallow Sang: A Novel;pg34599.epub;Literary;Spielhagen| Friedrich']\n",
            "['King of the Castle;pg34609.epub;Literary;Fenn| George Manville']\n",
            "['Barren Honour: A Novel;pg34616.epub;Literary;Lawrence| George A.']\n",
            "['The Gateless Barrier;pg34619.epub;Ghost and Horror;Malet| Lucas']\n",
            "['I- Thou- and the Other One: A Love Story;pg34628.epub;Love and Romance;Barr| Amelia E.']\n",
            "['The Mysterious Wanderer  Vol. II;pg34629.epub;Literary;Reeve| Sophia']\n",
            "['The Breaking of the Storm- Vol. I.;pg34657.epub;Literary;Spielhagen| Friedrich']\n",
            "['The Breaking of the Storm- Vol. II.;pg34658.epub;Literary;Spielhagen| Friedrich']\n",
            "['The Breaking of the Storm- Vol. III.;pg34659.epub;Literary;Spielhagen| Friedrich']\n",
            "['Willing to Die: A Novel;pg34662.epub;Literary;Fanu| Joseph Sheridan Le']\n",
            "['Commodore Junk;pg34663.epub;Literary;Fenn| George Manville']\n",
            "[\"The Mynns' Mystery;pg34664.epub;Detective and Mystery;Fenn| George Manville\"]\n",
            "['The Man with the Double Heart;pg34709.epub;Literary;Hine| Muriel']\n",
            "['One of My Sons;pg34710.epub;Detective and Mystery;Green| Anna Katharine']\n",
            "['The Ivory Gate- a new edition;pg34738.epub;Literary;Besant| Walter']\n",
            "['Problematic Characters: A Novel;pg34748.epub;Literary;Spielhagen| Friedrich']\n",
            "[\"Englefield Grange- Mary Armstrong's Troubles;pg34794.epub;Literary;Paull| Mrs. H. B.\"]\n",
            "[\"The Pagan's Cup;pg34835.epub;Detective and Mystery;Abbott| Eleanor Hallowell\"]\n",
            "[\"The Rival Crusoes- The Ship Wreck - Also A Voyage to Norway  and The Fisherman's Cottage.;pg34849.epub;Literary;Strickland| Agnes\"]\n",
            "['Mystery and Confidence: A Tale. Vol. 1;pg34932.epub;Literary;Pinchard| Elizabeth Sibthorpe']\n",
            "['Mystery and Confidence: A Tale. Vol. 3;pg34933.epub;Literary;Pinchard| Elizabeth Sibthorpe']\n",
            "['£19-000;pg34934.epub;Detective and Mystery;Delannoy| Burford']\n",
            "['The House of Strange Secrets: A Detective Story;pg34947.epub;Detective and Mystery;Bayly| A. Eric']\n",
            "['Mystery and Confidence: A Tale. Vol. 2;pg34968.epub;Literary;Pinchard| Elizabeth Sibthorpe']\n",
            "['The Count of Nideck - adapted from the French of Erckmann-Chartrian;pg34999.epub;Literary;Erckmann-Chatrian| | Fiske| Ralph Browning']\n",
            "['The House in the Mist;pg35003.epub;Detective and Mystery;Green| Anna Katharine']\n",
            "['The Carleton Case;pg35038.epub;Literary;Clark| Ellery H.']\n",
            "['Dilemmas of Pride- (Vol 2 of 3);pg35057.epub;Literary;Loudon| Mrs.']\n",
            "['Dilemmas of Pride- (Vol 3 of 3);pg35058.epub;Literary;Loudon| Mrs.']\n",
            "['Girl Alone;pg35077.epub;Literary;Austin| Anne']\n",
            "['The Mesa Trail;pg35078.epub;Western Stories;Bedford-Jones| H.']\n",
            "['The Blind Mother- and The Last Confession;pg35140.epub;Literary;Caine| Sir Hall']\n",
            "['The Solitary Farm;pg35146.epub;Detective and Mystery;Hume| Fergus']\n",
            "['In the Van- The Builders;pg35203.epub;Literary;Price-Brown| John']\n",
            "['Who?;pg35205.epub;Detective and Mystery;Kent| Elizabeth']\n",
            "['The Guerilla Chief- and Other Tales;pg35214.epub;Literary;Reid| Mayne']\n",
            "['The Oyster;pg35217.epub;Literary;Peer|']\n",
            "['The Streets of Ascalon - Episodes in the Unfinished Career of Richard Quarren- Esqre.;pg35233.epub;Literary;Chambers| Robert W.']\n",
            "['In the Onyx Lobby;pg35254.epub;Detective and Mystery;Wells| Carolyn']\n",
            "[\"A Wife's Duty: A Tale;pg35294.epub;Literary;Opie| Amelia\"]\n",
            "['Sir Brook Fossbrooke- Volume I.;pg35296.epub;Literary;Lever| Charles James']\n",
            "['Sir Brook Fossbrooke- Volume II.;pg35297.epub;Literary;Lever| Charles James']\n",
            "['The Last Stroke: A Detective Story;pg35304.epub;Detective and Mystery;Lynch| Lawrence L.']\n",
            "['A Practical Novelist;pg35313.epub;Literary;Davidson| John']\n",
            "[\"The Long Lane's Turning;pg35326.epub;Literary;Rives| Hallie Erminie\"]\n",
            "['The Lady Evelyn: A Story of To-day;pg35336.epub;Literary;Pemberton| Max']\n",
            "['A Song of a Single Note: A Love Story;pg35358.epub;Love and Romance;Barr| Amelia E.']\n",
            "['The Wicked Marquis;pg35361.epub;Detective and Mystery;Oppenheim| E. Phillips']\n",
            "['Mad: A Story of Dust and Ashes;pg35367.epub;Literary;Fenn| George Manville']\n",
            "['Friends I Have Made;pg35368.epub;Literary;Fenn| George Manville']\n",
            "['Mrs. Geoffrey;pg35384.epub;Literary;Duchess| ']\n",
            "['The Amethyst Box;pg35424.epub;Detective and Mystery;Green| Anna Katharine']\n",
            "['A Charming Fellow- Volume I;pg35428.epub;Literary;Trollope| Frances Eleanor']\n",
            "['A Charming Fellow- Volume II;pg35429.epub;Literary;Trollope| Frances Eleanor']\n",
            "['A Charming Fellow- Volume III;pg35430.epub;Literary;Trollope| Frances Eleanor']\n",
            "['The Dodd Family Abroad- Vol. I;pg35441.epub;Literary;Lever| Charles James']\n",
            "['The Dodd Family Abroad- Vol. II;pg35442.epub;Literary;Lever| Charles James']\n",
            "['Lost Lenore: The Adventures of a Rolling Stone;pg35443.epub;Sea and Adventure;Reid| Mayne']\n",
            "['Sharing Her Crime: A Novel;pg35462.epub;Detective and Mystery;Fleming| May Agnes']\n",
            "['The Black Eagle Mystery;pg35484.epub;Detective and Mystery;Bonner| Geraldine']\n",
            "['The Golden Road;pg35509.epub;Literary;Allen| Frank Waller']\n",
            "['The Three Impostors- The Transmutations;pg35517.epub;Ghost and Horror;Machen| Arthur']\n",
            "['Only One Love- Who Was the Heir;pg35523.epub;Literary;Garvice| Charles']\n",
            "['The Haute Noblesse: A Novel;pg35527.epub;Literary;Fenn| George Manville']\n",
            "['The Secret of the Sands- The \"Water Lily\" and her Crew;pg35528.epub;Sea and Adventure;Collingwood| Harry']\n",
            "['The Haunted Room: A Tale;pg35533.epub;Literary;E.| A. L. O.']\n",
            "['Doctor Cupid: A Novel;pg35548.epub;Literary;Broughton| Rhoda']\n",
            "['The Funny Philosophers- or Wags and Sweethearts.  A Novel;pg35599.epub;Literary;Yellott| George']\n",
            "['Mysterious Mr. Sabin;pg35661.epub;Detective and Mystery;Oppenheim| E. Phillips']\n",
            "['Titan: A Romance. v. 1 (of 2);pg35664.epub;Literary;Paul| Jean']\n",
            "['The Late Tenant;pg35691.epub;Literary;Tracy| Louis']\n",
            "['The Game and the Candle;pg35740.epub;Literary;Ingram| Eleanor M.']\n",
            "['Lily Pearl and The Mistress of Rosedale;pg35765.epub;Literary;Glenwood| Ida']\n",
            "['Dilemmas of Pride- (Vol 1 of 3);pg35769.epub;Literary;Loudon| Mrs']\n",
            "['The Hills of Refuge: A Novel;pg35785.epub;Literary;Harben| Will N.']\n",
            "['Plain Mary Smith: A Romance of Red Saunders;pg35787.epub;Humorous and Wit and Satire;Phillips| Henry Wallace']\n",
            "['The Black Star: A Detective Story;pg35833.epub;Detective and Mystery;McCulley| Johnston']\n",
            "['Final Proof- The Value of Evidence;pg35902.epub;Detective and Mystery;Ottolengui| Rodrigues']\n",
            "['The Finger of Fate: A Romance;pg35912.epub;Literary;Reid| Mayne']\n",
            "['The Child Wife;pg35913.epub;Literary;Reid| Mayne']\n",
            "['Silent Struggles;pg36027.epub;Literary;Stephens| Ann S.']\n",
            "['A Speckled Bird;pg36029.epub;Literary;Evans| Augusta J.']\n",
            "['Hesperus- Forty-Five Dog-Post-Days: A Biography. Vol. I.;pg36071.epub;Literary;Paul| Jean']\n",
            "['Hesperus- Forty-Five Dog-Post-Days: A Biography. Vol. II.;pg36087.epub;Literary;Paul| Jean']\n",
            "['The Letter of Credit;pg36159.epub;Love and Romance;Warner| Susan']\n",
            "['Bijou;pg36199.epub;Literary;Gyp| ']\n",
            "['The Shooting of Dan McGrew- A Novel. Based on the Famous Poem of Robert Service;pg36232.epub;Literary;Dana| Marvin| Service| Robert W.']\n",
            "['The Red Mouse: A Mystery Romance;pg36247.epub;Detective and Mystery;Osborne| William Hamilton']\n",
            "['The Invisible Lodge;pg36353.epub;Literary;Paul| Jean']\n",
            "['Faithful Margaret: A Novel;pg36360.epub;Literary;Simpson| Mrs. J. M.']\n",
            "['Zoe- Some Day: A Novel;pg36364.epub;Literary;Leonard| May']\n",
            "['Dangerous Ground- The Rival Detectives;pg36366.epub;Detective and Mystery;Lynch| Lawrence L.']\n",
            "['Wives and Widows- The Broken Life;pg36374.epub;Literary;Stephens| Ann S.']\n",
            "['The Turn of the Tide: The Story of How Margaret Solved Her Problem;pg36401.epub;Literary;Porter| Eleanor H.']\n",
            "['Titan: A Romance. v. 2 (of 2);pg36403.epub;Literary;Paul| Jean']\n",
            "['Jessamine: A Novel;pg36414.epub;Literary;Harland| Marion']\n",
            "['The Story of an Untold Love;pg36439.epub;Literary;Ford| Paul Leicester']\n",
            "['A Butterfly on the Wheel: A Novel;pg36467.epub;Literary;Hemmerde| Edward G.| Neilson| Francis| Thorne| Guy']\n",
            "['The Red Derelict;pg36588.epub;Sea and Adventure;Mitford| Bertram']\n",
            "[\"Fordham's Feud;pg36593.epub;Literary;Mitford| Bertram\"]\n",
            "['The Haunted Homestead: A Novel;pg36713.epub;Literary;Southworth| Emma Dorothy Eliza Nevitte']\n",
            "[\"One Maid's Mischief;pg36723.epub;Literary;Fenn| George Manville\"]\n",
            "[\"Cynthia Wakeham's Money;pg36758.epub;Detective and Mystery;Green| Anna Katharine\"]\n",
            "['Midnight Webs;pg36875.epub;Literary;Fenn| George Manville']\n",
            "['In Strange Company: A Story of Chili and the Southern Seas;pg37081.epub;Sea and Adventure;Boothby| Guy']\n",
            "['A Life For a Love: A Novel;pg37107.epub;Literary;Meade| L. T.']\n",
            "['The Ranchman;pg37204.epub;Western Stories;Seltzer| Charles Alden']\n",
            "['The Wayfarers;pg37208.epub;Literary;Cutting| Mary Stewart']\n",
            "['The Crime Doctor;pg37338.epub;Detective and Mystery;Hornung| E. W.']\n",
            "['Pray You- Sir- Whose Daughter?;pg37355.epub;Literary;Gardener| Helen H.']\n",
            "['The Empty Sack;pg37412.epub;Literary;King| Basil']\n",
            "['The Sin of Monsieur Pettipon- and other humorous tales;pg37430.epub;Humorous and Wit and Satire;Connell| Richard Edward']\n",
            "['Rough-Hewn;pg37451.epub;Literary;Fisher| Dorothy Canfield']\n",
            "['Daisy Thornton;pg37467.epub;Literary;Holmes| Mary Jane']\n",
            "['Jessie Graham;pg37476.epub;Literary;Holmes| Mary Jane']\n",
            "['The Debit Account;pg37479.epub;Literary;Onions| Oliver']\n",
            "[\"The Gray Phantom's Return;pg37490.epub;Detective and Mystery;Landon| Herman\"]\n",
            "['The Sins of the Children: A Novel;pg37664.epub;Literary;Hamilton| Cosmo']\n",
            "['Mavis of Green Hill;pg37710.epub;Love and Romance;Baldwin| Faith']\n",
            "['Notwithstanding;pg37781.epub;Literary;Cholmondeley| Mary']\n",
            "['The Open Question: A Tale of Two Temperaments;pg37827.epub;Literary;Robins| Elizabeth']\n",
            "['The Story of Louie;pg37838.epub;Literary;Onions| Oliver']\n",
            "['A Humble Enterprise;pg37866.epub;Literary;Cambridge| Ada']\n",
            "['The Gray Phantom;pg37913.epub;Detective and Mystery;Landon| Herman']\n",
            "['In Accordance with the Evidence;pg37919.epub;Literary;Onions| Oliver']\n",
            "['The Heatherford Fortune - a sequel to the Magic Cameo;pg38006.epub;Literary;Sheldon| Mrs. Georgie']\n",
            "['The Sailor;pg38186.epub;Literary;Snaith| J. C.']\n",
            "['Kenneth McAlpine: A Tale of Mountain- Moorland and Sea;pg38199.epub;Literary;Stables| Gordon']\n",
            "['The Making of William Edwards- The Story of the Bridge of Beauty;pg38212.epub;Literary;Banks| Mrs. G. Linnaeus']\n",
            "['Simon the Jester;pg3828.epub;Humorous and Wit and Satire;Locke| William John']\n",
            "['A Witch of the Hills- v. 1 [of 2];pg38291.epub;Literary;Warden| Florence']\n",
            "['A Witch of the Hills- v. 2 [of 2];pg38292.epub;Literary;Warden| Florence']\n",
            "['The Happy Warrior;pg38325.epub;Literary;Hutchinson| A. S. M.']\n",
            "['A Knight on Wheels;pg38368.epub;Literary;Hay| Ian']\n",
            "['Loaded Dice;pg38474.epub;Literary;Clark| Ellery H.']\n",
            "['Gargoyles;pg38489.epub;Literary;Hecht| Ben']\n",
            "['The Story of Charles Strange: A Novel. Vol. 1 (of 3);pg38623.epub;Literary;Wood| Mrs. Henry']\n",
            "['The Story of Charles Strange: A Novel. Vol. 2 (of 3);pg38624.epub;Literary;Wood| Mrs. Henry']\n",
            "['The Story of Charles Strange: A Novel. Vol. 3 (of 3);pg38625.epub;Literary;Wood| Mrs. Henry']\n",
            "['Miranda of the Balcony: A Story;pg38679.epub;Literary;Mason| A. E. W.']\n",
            "['The Truants;pg38685.epub;Literary;Mason| A. E. W.']\n",
            "['The Turnstile;pg38689.epub;Literary;Mason| A. E. W.']\n",
            "['The Maker of Opportunities;pg38702.epub;Literary;Gibbs| George']\n",
            "['A Singular Metamorphosis;pg38715.epub;Literary;Skiles| May Evelyn']\n",
            "['The Monctons: A Novel. Volume 2 (of 2);pg38798.epub;Literary;Moodie| Susanna']\n",
            "['Out of a Labyrinth;pg38888.epub;Detective and Mystery;Lynch| Lawrence L.']\n",
            "[\"Mr. Marx's Secret;pg39018.epub;Detective and Mystery;Oppenheim| E. Phillips\"]\n",
            "['The White Blackbird;pg39066.epub;Literary;Aitken| Robert']\n",
            "['Miser Farebrother: A Novel (vol. 1 of 3);pg39111.epub;Literary;Farjeon| B. L.']\n",
            "['It May Be True- Vol. 2 (of 3);pg39192.epub;Literary;Wood| Mrs. Henry']\n",
            "['It May Be True- Vol. 3 (of 3);pg39193.epub;Literary;Wood| Mrs. Henry']\n",
            "['Tales for Fifteen;pg39207.epub;Literary;Cooper| James Fenimore']\n",
            "['Mitchelhurst Place: A Novel. Vol. 1 (of 2);pg39345.epub;Literary;Veley| Margaret']\n",
            "[\"Wyndham's Pal;pg39349.epub;Literary;Bindloss| Harold\"]\n",
            "['Mabel: A Novel. Vol. 3 (of 3);pg39359.epub;Literary;Newby| Mrs. C. J.']\n",
            "['Mildred Arkell: A Novel. Vol. 2 (of 3);pg39377.epub;Literary;Wood| Mrs. Henry']\n",
            "['A Gamble with Life;pg39417.epub;Detective and Mystery;Hocking| Silas K.']\n",
            "['The Mysterious Wanderer- Vol. III - A Novel in Three Volumes;pg39425.epub;Literary;Reeve| Sophia']\n",
            "['Guy and Pauline;pg39556.epub;Literary;MacKenzie| Compton']\n",
            "['In the Hands of the Malays- and Other Stories;pg39616.epub;Sea and Adventure;Henty| G. A.']\n",
            "['Sylvia & Michael: The later adventures of Sylvia Scarlett;pg39660.epub;Literary;MacKenzie| Compton']\n",
            "['Mildred Arkell: A Novel. Vol. 1 (of 3);pg39692.epub;Literary;Wood| Mrs. Henry']\n",
            "['Mildred Arkell: A Novel. Vol. 3 (of 3);pg39693.epub;Literary;Wood| Mrs. Henry']\n",
            "['The Marriage of Esther;pg39731.epub;Literary;Boothby| Guy']\n",
            "['Vassall Morton: A Novel;pg39768.epub;Literary;Parkman| Francis']\n",
            "['A Sovereign Remedy;pg39813.epub;Literary;Steel| Flora Annie Webster']\n",
            "['Upsidonia;pg39905.epub;Humorous and Wit and Satire;Marshall| Archibald']\n",
            "['Ashton-Kirk- Secret Agent;pg39940.epub;Detective and Mystery;McIntyre| John Thomas']\n",
            "['In Silk Attire: A Novel;pg40111.epub;Literary;Black| William']\n",
            "['Fashion and Famine;pg40114.epub;Literary;Stephens| Ann S.']\n",
            "[\"A Woman's Love;pg40180.epub;Literary;Opie| Amelia\"]\n",
            "['Mabel: A Novel. Vol. 2 (of 3);pg40199.epub;Literary;Newby| Mrs. C. J.']\n",
            "['The Threatening Eye;pg40278.epub;Literary;Knight| E. F.']\n",
            "['True to a Type- Vol. 1 (of 2);pg40324.epub;Literary;Cleland| Robert']\n",
            "['True to a Type- Vol. 2 (of 2);pg40325.epub;Literary;Cleland| Robert']\n",
            "['The Coward Behind the Curtain;pg40347.epub;Literary;Marsh| Richard']\n",
            "['The Crime and the Criminal;pg40348.epub;Detective and Mystery;Marsh| Richard']\n",
            "['It May Be True- Vol. 1 (of 3);pg40418.epub;Literary;Wood| Mrs. Henry']\n",
            "['Miss Hildreth: A Novel- Volume 1;pg40431.epub;Literary;Stevens| Augusta de Grasse']\n",
            "['Miss Hildreth: A Novel- Volume 2;pg40432.epub;Literary;Stevens| Augusta de Grasse']\n",
            "['Miss Hildreth: A Novel- Volume 3;pg40433.epub;Literary;Stevens| Augusta de Grasse']\n",
            "[\"Violet Forster's Lover;pg40450.epub;Literary;Marsh| Richard\"]\n",
            "['Under One Flag;pg40451.epub;Literary;Marsh| Richard']\n",
            "['The Twickenham Peerage;pg40452.epub;Literary;Marsh| Richard']\n",
            "['The Garden of Survival;pg4046.epub;Ghost and Horror;Blackwood| Algernon']\n",
            "[\"Black Star's Campaign: A Detective Story;pg40484.epub;Detective and Mystery;McCulley| Johnston\"]\n",
            "['The Red Lottery Ticket;pg40491.epub;Detective and Mystery;Boisgobey| Fortunu']\n",
            "['The King of Diamonds: A Tale of Mystery and Adventure;pg40493.epub;Detective and Mystery;Tracy| Louis']\n",
            "['The Ordeal of Elizabeth;pg40495.epub;Literary;Anonymous']\n",
            "['The Splendid Fairing;pg40545.epub;Literary;Holme| Constance']\n",
            "[\"Moth and Rust  Together with Geoffrey's Wife and The Pitfall;pg40566.epub;Literary;Cholmondeley| Mary\"]\n",
            "['Prince Charlie;pg40611.epub;Literary;Delannoy| Burford']\n",
            "['The Hypocrite;pg40651.epub;Literary;Thorne| Guy']\n",
            "['The White Virgin;pg40672.epub;Literary;Fenn| George Manville']\n",
            "['The Tiger Lily;pg40673.epub;Literary;Fenn| George Manville']\n",
            "['Sawn Off: A Tale of a Family Tree;pg40674.epub;Literary;Fenn| George Manville']\n",
            "['Gretchen: A Novel;pg40702.epub;Literary;Holmes| Mary Jane']\n",
            "['Fighting Byng: A Novel of Mystery- Intrigue and Adventure;pg40821.epub;Detective and Mystery;Stone| A.']\n",
            "['The Adventures of Peregrine Pickle;pg4084.epub;Literary;Smollett| T.']\n",
            "['Meg- of Valencia;pg40926.epub;Literary;Jarrell| Myra Williams']\n",
            "['The Day of Temptation;pg40998.epub;Literary;Queux| William Le']\n",
            "['Stolen Souls;pg40999.epub;Literary;Queux| William Le']\n",
            "['The Sign of the Stranger;pg41089.epub;Detective and Mystery;Queux| William Le']\n",
            "['Rayton: A Backwoods Mystery;pg41122.epub;Literary;Roberts| Theodore Goodridge']\n",
            "[\"Jenifer's Prayer;pg41191.epub;Literary;Crane| Oliver\"]\n",
            "['The Eve of All-Hallows- Adelaide of Tyrconnel- v. 1 of 3;pg41212.epub;Literary;Hartstonge| Matthew Weld']\n",
            "['Ten Thousand a-Year. Volume 3.;pg41247.epub;Literary;Warren| Samuel']\n",
            "['The Arm-Chair at the Inn;pg41284.epub;Literary;Smith| Francis Hopkinson']\n",
            "['My Danish Sweetheart: A Novel. Volume 1 of 3;pg41313.epub;Sea and Adventure;Russell| William Clark']\n",
            "['My Danish Sweetheart: A Novel. Volume 2 of 3;pg41314.epub;Sea and Adventure;Russell| William Clark']\n",
            "['My Danish Sweetheart: A Novel. Volume 3 of 3;pg41315.epub;Sea and Adventure;Russell| William Clark']\n",
            "['Mrs. Dorriman: A Novel. Volume 1 of 3;pg41329.epub;Literary;Chetwynd| Mrs. Henry Wayland']\n",
            "['Mrs. Dorriman: A Novel. Volume 2 of 3;pg41330.epub;Literary;Chetwynd| Mrs. Henry Wayland']\n",
            "['Mrs. Dorriman: A Novel. Volume 3 of 3;pg41331.epub;Literary;Chetwynd| Mrs. Henry Wayland']\n",
            "['Ten Thousand a-Year. Volume 2.;pg41332.epub;Literary;Warren| Samuel']\n",
            "['Mount Royal: A Novel. Volume 1 of 3;pg41339.epub;Literary;Braddon| M. E.']\n",
            "['Mount Royal: A Novel. Volume 2 of 3;pg41340.epub;Literary;Braddon| M. E.']\n",
            "['Mount Royal: A Novel. Volume 3 of 3;pg41341.epub;Literary;Braddon| M. E.']\n",
            "['Mohawks: A Novel. Volume 1 of 3;pg41374.epub;Literary;Braddon| M. E.']\n",
            "['Mohawks: A Novel. Volume 2 of 3;pg41375.epub;Literary;Braddon| M. E.']\n",
            "['Mohawks: A Novel. Volume 3 of 3;pg41376.epub;Literary;Braddon| M. E.']\n",
            "['The Broken Thread;pg41459.epub;Detective and Mystery;Queux| William Le']\n",
            "['The Yazoo Mystery: A Novel;pg41483.epub;Literary;Craddock| Irving']\n",
            "['The Decadent: Being the Gospel of Inaction - Wherein Are Set Forth in Romance Form Certain Reflections Touching the Curious Characteristics of These Ultimate Years- and the Divers Causes Thereof;pg41490.epub;Literary;Cram| Ralph Adams']\n",
            "['The House Opposite: A Mystery;pg41525.epub;Detective and Mystery;Kent| Elizabeth']\n",
            "['Rose Clark;pg41542.epub;Literary;Fern| Fanny']\n",
            "['Mabel: A Novel. Vol. 1 (of 3);pg41564.epub;Literary;Newby| Mrs. C. J.']\n",
            "['A Fortnight of Folly;pg41660.epub;Literary;Conway| Hugh| Thompson| Maurice']\n",
            "['A Changed Heart: A Novel;pg41672.epub;Literary;Fleming| May Agnes']\n",
            "['Albrecht;pg41764.epub;Literary;Bates| Arlo']\n",
            "['Quintus Oakes: A Detective Story;pg41790.epub;Detective and Mystery;Jackson| Charles Ross']\n",
            "['The Last Miracle;pg41794.epub;Literary;Shiel| M. P.']\n",
            "['John Marvel- Assistant;pg41817.epub;Literary;Page| Thomas Nelson']\n",
            "['The Golden Bough;pg41844.epub;Literary;Gibbs| George']\n",
            "['The Terms of Surrender;pg41859.epub;Literary;Tracy| Louis']\n",
            "['Ragna;pg41863.epub;Literary;Costantini| Anna Miller']\n",
            "['A Fair Mystery: The Story of a Coquette;pg41932.epub;Literary;Brame| Charlotte M.']\n",
            "['The Debatable Land: A Novel;pg41963.epub;Literary;Colton| Arthur']\n",
            "['The Barrel Mystery;pg42010.epub;Detective and Mystery;Flynn| William J.']\n",
            "['The Eve of All-Hallows- Adelaide of Tyrconnel- v. 2 of 3;pg42095.epub;Literary;Hartstonge| Matthew Weld']\n",
            "['The Trail-Hunter: A Tale of the Far West;pg42115.epub;Western Stories;Aimard| Gustave']\n",
            "['The Pirates of the Prairies: Adventures in the American Desert;pg42117.epub;Western Stories;Aimard| Gustave']\n",
            "['The World Before Them: A Novel. Volume 2 (of 3);pg42145.epub;Literary;Moodie| Susanna']\n",
            "['The World Before Them: A Novel. Volume 1 (of 3);pg42165.epub;Literary;Moodie| Susanna']\n",
            "['The World Before Them: A Novel. Volume 3 (of 3);pg42174.epub;Literary;Moodie| Susanna']\n",
            "['The Shadow of a Sin;pg42320.epub;Literary;Brame| Charlotte M.']\n",
            "['Justin Wingate- Ranchman;pg42423.epub;Western Stories;Whitson| John Harvey']\n",
            "['Barbara Rebell;pg42462.epub;Literary;Lowndes| Marie Belloc']\n",
            "['Lady Eureka- The Mystery: A Prophecy of the Future. Volume 1;pg42491.epub;Literary;Williams| Robert Folkestone']\n",
            "['Lady Eureka- The Mystery: A Prophecy of the Future. Volume 2;pg42492.epub;Literary;Williams| Robert Folkestone']\n",
            "['Lady Eureka- The Mystery: A Prophecy of the Future. Volume 3;pg42493.epub;Literary;Williams| Robert Folkestone']\n",
            "['Miracle Gold: A Novel (Vol. 2 of 3);pg42496.epub;Literary;Dowling| Richard']\n",
            "['Miracle Gold: A Novel (Vol. 1 of 3);pg42498.epub;Literary;Dowling| Richard']\n",
            "['Miracle Gold: A Novel (Vol. 3 of 3);pg42499.epub;Literary;Dowling| Richard']\n",
            "['Blackthorn Farm;pg42519.epub;Literary;Applin| Arthur']\n",
            "['Narcissus;pg42533.epub;Literary;Scott| Evelyn']\n",
            "['The Narrow House;pg42534.epub;Literary;Scott| Evelyn']\n",
            "['Yonder;pg42536.epub;Literary;Young| E. H.']\n",
            "['The Deacon: An Original Comedy Drama in Five Acts;pg42581.epub;Literary;Dale| Horace C.']\n",
            "['Tales and Fantasies;pg426.epub;Literary;Stevenson| Robert Louis']\n",
            "['The Luminous Face;pg42714.epub;Detective and Mystery;Wells| Carolyn']\n",
            "['Tempest-Driven: A Romance (Vol. 1 of 3);pg42750.epub;Literary;Dowling| Richard']\n",
            "['Tempest-Driven: A Romance (Vol. 2 of 3);pg42751.epub;Literary;Dowling| Richard']\n",
            "['Tempest-Driven: A Romance (Vol. 3 of 3);pg42752.epub;Literary;Dowling| Richard']\n",
            "['Swords Reluctant;pg42763.epub;Literary;Pemberton| Max']\n",
            "['It Pays to Smile;pg42772.epub;Literary;Putnam| Nina Wilcox']\n",
            "['The Mystery of the Clasped Hands: A Novel;pg42807.epub;Detective and Mystery;Boothby| Guy']\n",
            "['Great Porter Square: A Mystery. v. 1;pg42905.epub;Detective and Mystery;Farjeon| B. L.']\n",
            "['Great Porter Square: A Mystery. v. 2;pg42906.epub;Detective and Mystery;Farjeon| B. L.']\n",
            "['Great Porter Square: A Mystery. v. 3;pg42907.epub;Detective and Mystery;Farjeon| B. L.']\n",
            "['The Last of Their Race;pg42926.epub;Literary;Swan| Annie S.']\n",
            "[\"Guy Kenmore's Wife- and The Rose and the Lily;pg43037.epub;Literary;Miller| Mrs. Alex. McVeigh\"]\n",
            "['Devota;pg43080.epub;Literary;Evans| Augusta J.']\n",
            "[\"Hugh Crichton's Romance;pg43162.epub;Literary;Coleridge| Christabel R.\"]\n",
            "[\"Blade-O'-Grass. Golden Grain. and Bread and Cheese and Kisses.;pg43190.epub;Christmas Stories;Farjeon| B. L.\"]\n",
            "['Mrs. Severn: A Novel- Vol. 1 (of 3);pg43449.epub;Literary;Carter| Mary Elizabeth']\n",
            "[\"The Gypsy Queen's Vow;pg43489.epub;Literary;Fleming| May Agnes\"]\n",
            "['Flora Adair- Love Works Wonders. Vol. 1 (of 2);pg43498.epub;Literary;Donelan| A. M.']\n",
            "['Flora Adair- Love Works Wonders. Vol. 2 (of 2);pg43499.epub;Literary;Donelan| A. M.']\n",
            "['The Adventurers;pg43716.epub;Sea and Adventure;Aimard| Gustave']\n",
            "['Munster Village;pg43743.epub;Literary;Hamilton| Lady Mary']\n",
            "['The Prairie Flower: A Tale of the Indian Border;pg43925.epub;Western Stories;Aimard| Gustave']\n",
            "['First Love: A Novel. Vol. 1 of 3;pg44018.epub;Literary;Loudon| Mrs.']\n",
            "['The Eve of All-Hallows- Adelaide of Tyrconnel- v. 3 of 3;pg44264.epub;Literary;Hartstonge| Matthew Weld']\n",
            "['Wanted: A Husband. A Novel;pg44326.epub;Literary;Adams| Samuel Hopkins']\n",
            "['The Bee Hunters: A Tale of Adventure;pg44375.epub;Sea and Adventure;Aimard| Gustave']\n",
            "['The Rebel Chief: A Tale of Guerilla Life;pg44421.epub;Literary;Aimard| Gustave']\n",
            "['The Smuggler Chief: A Novel;pg44454.epub;Sea and Adventure;Aimard| Gustave']\n",
            "['The Stoneground Ghost Tales - Compiled from the recollections of the reverend Roland Batchel- the vicar of the parish.;pg44581.epub;Ghost and Horror;Swain| E. G.']\n",
            "['Held to Answer: A Novel;pg44633.epub;Literary;MacFarlane| Peter Clark']\n",
            "['The Prodigal Village: A Christmas Tale;pg44796.epub;Christmas Stories;Bacheller| Irving']\n",
            "[\"Little Golden's Daughter- The Dream of a Life Time;pg44803.epub;Literary;Miller| Mrs. Alex. McVeigh\"]\n",
            "[\"Kathleen's Diamonds- She Loved a Handsome Actor;pg44819.epub;Literary;Miller| Mrs. Alex. McVeigh\"]\n",
            "['Wild Margaret;pg44828.epub;Literary;Garvice| Charles']\n",
            "['The Mark of Cain;pg44841.epub;Detective and Mystery;Wells| Carolyn']\n",
            "['The Man Who Fell Through the Earth;pg44872.epub;Detective and Mystery;Wells| Carolyn']\n",
            "[\"A Man's World;pg44878.epub;Literary;Edwards| Albert\"]\n",
            "['The Mystery Girl;pg44984.epub;Detective and Mystery;Wells| Carolyn']\n",
            "['A Mock Idyl;pg45042.epub;Literary;Ross| Percy']\n",
            "['The Red River Half-Breed: A Tale of the Wild North-West;pg45047.epub;Western Stories;Aimard| Gustave']\n",
            "['Farewell;pg45104.epub;Literary;Stacpoole| William Henry']\n",
            "['The Guide of the Desert;pg45401.epub;Western Stories;Aimard| Gustave']\n",
            "['The Insurgent Chief;pg45402.epub;Literary;Aimard| Gustave']\n",
            "['The Flying Horseman;pg45403.epub;Literary;Aimard| Gustave']\n",
            "['Deadwood Dick Jr. Branded- Red Rover at Powder Pocket.;pg45618.epub;Western Stories;Wheeler| Edward L.']\n",
            "['The Curved Blades;pg45622.epub;Detective and Mystery;Wells| Carolyn']\n",
            "['Stolen Idols;pg45636.epub;Detective and Mystery;Oppenheim| E. Phillips']\n",
            "['The House on the Moor- v. 1-3;pg45816.epub;Literary;Oliphant| Mrs.']\n",
            "['The House on the Moor- v. 2-3;pg45817.epub;Literary;Oliphant| Mrs.']\n",
            "['The House on the Moor- v. 3-3;pg45818.epub;Literary;Oliphant| Mrs.']\n",
            "['Pretty Geraldine- the New York Salesgirl- Wedded to Her Choice;pg45872.epub;Literary;Miller| Mrs. Alex. McVeigh']\n",
            "['The Vanishing of Betty Varian;pg45912.epub;Detective and Mystery;Wells| Carolyn']\n",
            "['The Room with the Tassels;pg46008.epub;Detective and Mystery;Wells| Carolyn']\n",
            "['The Deep Lake Mystery;pg46064.epub;Detective and Mystery;Wells| Carolyn']\n",
            "['The Romantic Lady;pg46217.epub;Literary;Arlen| Michael']\n",
            "['The Good Time Coming;pg4632.epub;Literary;Arthur| T. S.']\n",
            "[\"Uncle William: The Man Who Was Shif'less;pg4634.epub;Literary;Lee| Jennette\"]\n",
            "['Harry Blount- the Detective- The Martin Mystery Solved;pg46402.epub;Detective and Mystery;Flanagan| T. J.']\n",
            "[\"White Wolf's Law: A Western Story;pg46457.epub;Western Stories;Dunning| Hal\"]\n",
            "['Alone;pg46505.epub;Literary;Harland| Marion']\n",
            "[\"God's Good Man: A Simple Love Story;pg4653.epub;Love and Romance;Corelli| Marie\"]\n",
            "['The Crime Club;pg46566.epub;Detective and Mystery;Holt-White| W.']\n",
            "[\"At War with Society- Tales of the Outcasts;pg46623.epub;Detective and Mystery;M'Levy| James\"]\n",
            "['Outpost;pg4676.epub;Literary;Austin| Jane G.']\n",
            "['The Idol of the Blind: A Novel;pg47211.epub;Literary;Gallon| Tom']\n",
            "['A Country Sweetheart;pg47282.epub;Literary;Russell| Dora']\n",
            "['When Egypt Went Broke: A Novel;pg4733.epub;Literary;Day| Holman']\n",
            "['Kate Vernon: A Tale. Vol. 1 (of 3);pg47338.epub;Literary;Alexander| Mrs.']\n",
            "['At the Villa Rose;pg4745.epub;Detective and Mystery;Mason| A. E. W.']\n",
            "['The Fiction Factory - Being the experience of a writer who- for twenty-two years- has kept a story-mill grinding successfully;pg47455.epub;Literary;Cook| William Wallace']\n",
            "['Odette\\'s Marriage - A Novel- from the French of Albert Delpit- Translated from the \"Revue des Deux Mondes||\" by Emily Prescott;pg47697.epub;Literary;Delpit| Albert']\n",
            "['Sekhet;pg47744.epub;Literary;Miller| Irene']\n",
            "['Mirk Abbey- Volume 1 (of 3);pg47771.epub;Literary;Payn| James']\n",
            "['Mirk Abbey- Volume 2 (of 3);pg47772.epub;Literary;Payn| James']\n",
            "['Mirk Abbey- Volume 3 (of 3);pg47773.epub;Literary;Payn| James']\n",
            "['Half a Rogue;pg4790.epub;Literary;MacGrath| Harold']\n",
            "['Dawn;pg4794.epub;Literary;Adams| Mrs. H. A.']\n",
            "[\"The Circassian Slave- the Sultan's favorite : a story of Constantinople and the Caucasus;pg4795.epub;Literary;Ballou| Maturin Murray\"]\n",
            "['A Life for a Life- Volume 1 (of 3);pg47997.epub;Literary;Craik| Dinah Maria Mulock']\n",
            "[\"A Soldier's Daughter- and Other Stories;pg48297.epub;Sea and Adventure;Henty| G. A.\"]\n",
            "['A Life for a Life- Volume 2 (of 3);pg48482.epub;Literary;Craik| Dinah Maria Mulock']\n",
            "['A Life for a Life- Volume 3 (of 3);pg48483.epub;Literary;Craik| Dinah Maria Mulock']\n",
            "['Tinman;pg48989.epub;Literary;Gallon| Tom']\n",
            "['Hilda Wade- a Woman with Tenacity of Purpose;pg4903.epub;Literary;Allen| Grant']\n",
            "['The Lilac Sunbonnet: A Love Story;pg4918.epub;Love and Romance;Crockett| S. R.']\n",
            "['King Midas: a Romance;pg4923.epub;Literary;Sinclair| Upton']\n",
            "['The Fashionable Adventures of Joshua Craig: A Novel;pg4929.epub;Sea and Adventure;Phillips| David Graham']\n",
            "['The Spider and the Fly- An Undesired Love;pg49537.epub;Literary;Garvice| Charles']\n",
            "['Leah Mordecai: A Novel;pg4955.epub;Literary;Abbott| Belle K.']\n",
            "['Chetwynd Calverley - New Edition- 1877;pg49680.epub;Literary;Ainsworth| William Harrison']\n",
            "['The Desultory Man - Collection of Ancient and Modern British Novels and Romances. Vol. CXLVII.;pg49718.epub;Literary;James| G. P. R.']\n",
            "['The Forgery- Best Intentions.;pg50042.epub;Literary;James| G. P. R.']\n",
            "['Desert Gold;pg502.epub;Western Stories;Grey| Zane']\n",
            "['The Mystery of the Sycamore;pg50209.epub;Detective and Mystery;Wells| Carolyn']\n",
            "[\"Leslie's Loyalty;pg50440.epub;Literary;Garvice| Charles\"]\n",
            "[\"De L'Orme. - The Works of G. P. R. James- Esq.|| Vol. XVI.;pg50688.epub;Literary;James| G. P. R.\"]\n",
            "['The Romance of Elaine - Sequel to \"Exploits of Elaine\";pg5094.epub;Detective and Mystery;Reeve| Arthur B.']\n",
            "['Morley Ernstein- the Tenants of the Heart;pg51251.epub;Literary;James| G. P. R.']\n",
            "['The Fate: A Tale of Stirring Times;pg51455.epub;Literary;James| G. P. R.']\n",
            "['Margret Howth: A Story of To-day;pg515.epub;Literary;Davis| Rebecca Harding']\n",
            "['The Exploits of Elaine;pg5151.epub;Detective and Mystery;Reeve| Arthur B.']\n",
            "['Delaware- The Ruined Family. Vol. 1;pg51628.epub;Literary;James| G. P. R.']\n",
            "['Delaware- The Ruined Family. Vol. 2;pg51629.epub;Literary;James| G. P. R.']\n",
            "['Delaware- The Ruined Family. Vol. 3;pg51630.epub;Literary;James| G. P. R.']\n",
            "['Innocent : her fancy and his fact;pg5165.epub;Love and Romance;Corelli| Marie']\n",
            "['A Whim- and Its Consequences - Collection of British Authors Vol. CXIV;pg51715.epub;Literary;James| G. P. R.']\n",
            "['Corpus of a Siam Mosquito;pg5176.epub;Literary;Sills| Steven']\n",
            "['A Siren;pg5179.epub;Detective and Mystery;Trollope| Thomas Adolphus']\n",
            "['Daireen. Volume 1 of 2;pg51936.epub;Literary;Moore| Frank Frankfort']\n",
            "['Daireen. Volume 2 of 2;pg51937.epub;Literary;Moore| Frank Frankfort']\n",
            "['Daireen. Complete;pg51938.epub;Literary;Moore| Frank Frankfort']\n",
            "['Priscilla and Charybdis: A Story of Alternatives;pg51972.epub;Literary;Moore| Frank Frankfort']\n",
            "['Well- After All;pg51988.epub;Literary;Moore| Frank Frankfort']\n",
            "['The Confessions of Harry Lorrequer \\x97 Volume 1;pg5234.epub;Literary;Lever| Charles James']\n",
            "['The Confessions of Harry Lorrequer \\x97 Volume 2;pg5235.epub;Literary;Lever| Charles James']\n",
            "['The Confessions of Harry Lorrequer \\x97 Volume 3;pg5236.epub;Literary;Lever| Charles James']\n",
            "['The Confessions of Harry Lorrequer \\x97 Volume 4;pg5237.epub;Literary;Lever| Charles James']\n",
            "['The Confessions of Harry Lorrequer \\x97 Volume 5;pg5238.epub;Literary;Lever| Charles James']\n",
            "['The Confessions of Harry Lorrequer \\x97 Volume 6;pg5239.epub;Literary;Lever| Charles James']\n",
            "['The Confessions of Harry Lorrequer \\x97 Complete;pg5240.epub;Literary;Lever| Charles James']\n",
            "['Youth- a Narrative;pg525.epub;Sea and Adventure;Conrad| Joseph']\n",
            "['Kate Vernon: A Tale. Vol. 2 (of 3);pg53356.epub;Literary;Alexander| Mrs.']\n",
            "['The Touch of Abner;pg53604.epub;Literary;Cody| H. A.']\n",
            "['Kate Vernon: A Tale. Vol. 3 (of 3);pg53668.epub;Literary;Alexander| Mrs.']\n",
            "[\"Baron Trigault's Vengeance;pg547.epub;Detective and Mystery;Gaboriau| Emile\"]\n",
            "['At Last: A Novel;pg5622.epub;Literary;Harland| Marion']\n",
            "['The Potato Child & Others;pg5662.epub;Christmas Stories;Woodbury| Lucia Prudence Hall']\n",
            "['The Prose of Alfred Lichtenstein;pg5663.epub;Literary;Lichtenstein| Alfred']\n",
            "['The Queen of Sheba- and My Cousin the Colonel;pg5705.epub;Literary;Aldrich| Thomas Bailey']\n",
            "['The Flyers;pg5848.epub;Literary;McCutcheon| George Barr']\n",
            "[\"Michael's Crag;pg5869.epub;Literary;Allen| Grant\"]\n",
            "[\"Danny's Own Story;pg587.epub;Humorous and Wit and Satire;Marquis| Don\"]\n",
            "['Celibates;pg6005.epub;Literary;Moore| George Augustus']\n",
            "['Opening a Chestnut Burr;pg6028.epub;Literary;Roe| Edward Payson']\n",
            "['Fran;pg6057.epub;Literary;Ellis| J. Breckenridge']\n",
            "['Philistia;pg6060.epub;Literary;Allen| Grant']\n",
            "['From Jest to Earnest;pg6102.epub;Literary;Roe| Edward Payson']\n",
            "['Their Yesterdays;pg6105.epub;Love and Romance;Wright| Harold Bell']\n",
            "['A Day of Fate;pg6113.epub;Love and Romance;Roe| Edward Payson']\n",
            "['No Defense- Volume 1.;pg6292.epub;Literary;Parker| Gilbert']\n",
            "['No Defense- Volume 2.;pg6293.epub;Literary;Parker| Gilbert']\n",
            "['No Defense- Volume 3.;pg6294.epub;Literary;Parker| Gilbert']\n",
            "['No Defense- Complete;pg6295.epub;Literary;Parker| Gilbert']\n",
            "[\"Carnac's Folly- Volume 1.;pg6296.epub;Literary;Parker| Gilbert\"]\n",
            "[\"Carnac's Folly- Volume 2.;pg6297.epub;Literary;Parker| Gilbert\"]\n",
            "[\"Carnac's Folly- Volume 3.;pg6298.epub;Literary;Parker| Gilbert\"]\n",
            "[\"Carnac's Folly- Complete;pg6299.epub;Literary;Parker| Gilbert\"]\n",
            "['A Knight of the Nineteenth Century;pg6311.epub;Literary;Roe| Edward Payson']\n",
            "['Self-Raised- From the Depths;pg6376.epub;Literary;Southworth| Emma Dorothy Eliza Nevitte']\n",
            "['Once Aboard the Lugger-- The History of George and his Mary;pg6410.epub;Humorous and Wit and Satire;Hutchinson| A. S. M.']\n",
            "['The Iron Woman;pg6474.epub;Literary;Deland| Margaret Wade Campbell']\n",
            "['The Grey Lady;pg6517.epub;Literary;Merriman| Henry Seton']\n",
            "['Any Coincidence Is - The Day Julia & Cecil the Cat Faced a Fate Worse Than Death;pg6526.epub;Literary;Callahan| Daniel']\n",
            "[\"Si'Wren of the Patriarchs;pg6592.epub;Literary;Cheney| Roland Jon\"]\n",
            "[\"The Doctor's Daughter;pg6809.epub;Literary;Vera|\"]\n",
            "['Creatures That Once Were Men;pg681.epub;Literary;Gorky| Maksim']\n",
            "['Average Jones;pg6864.epub;Detective and Mystery;Adams| Samuel Hopkins']\n",
            "['The Happy Adventurers;pg6901.epub;Literary;Middleton| Lydia Miller']\n",
            "['Aikenside;pg6954.epub;Literary;Holmes| Mary Jane']\n",
            "['A Terrible Secret: A Novel;pg7063.epub;Literary;Fleming| May Agnes']\n",
            "['Fanshawe;pg7085.epub;Literary;Hawthorne| Nathaniel']\n",
            "['The Dolliver Romance;pg7119.epub;Literary;Hawthorne| Nathaniel']\n",
            "['Linda Condon;pg7171.epub;Literary;Hergesheimer| Joseph']\n",
            "[\"Doctor Grimshawe's Secret \\x97 a Romance;pg7183.epub;Literary;Hawthorne| Nathaniel\"]\n",
            "['A Psychological Counter-Current in Recent Fiction;pg726.epub;Literary;Howells| William Dean']\n",
            "['The Wishing-Ring Man;pg7424.epub;Literary;Widdemer| Margaret']\n",
            "['Falkland- Book 1.;pg7757.epub;Literary;Lytton| Baron Edward Bulwer Lytton']\n",
            "['Falkland- Book 2.;pg7758.epub;Literary;Lytton| Baron Edward Bulwer Lytton']\n",
            "['Falkland- Book 3.;pg7759.epub;Literary;Lytton| Baron Edward Bulwer Lytton']\n",
            "['Falkland- Book 4.;pg7760.epub;Literary;Lytton| Baron Edward Bulwer Lytton']\n",
            "['Falkland- Complete;pg7761.epub;Literary;Lytton| Baron Edward Bulwer Lytton']\n",
            "[\"Fan : The Story of a Young Girl's Life;pg7827.epub;Literary;Hudson| W. H.\"]\n",
            "['The Rise of Iskander;pg7842.epub;Literary;Disraeli| Earl of Beaconsfield Benjamin']\n",
            "['The Vision of Desire;pg7855.epub;Literary;Pedler| Margaret']\n",
            "['An Ambitious Man;pg7866.epub;Literary;Wilcox| Ella Wheeler']\n",
            "['A Fool for Love;pg8073.epub;Literary;Lynde| Francis']\n",
            "['A Fountain Sealed;pg8087.epub;Literary;Sedgwick| Anne Douglas']\n",
            "['The Misses Mallett (The Bridge Dividing);pg8131.epub;Literary;Young| E. H.']\n",
            "['The Ghost of Guir House;pg8182.epub;Ghost and Horror;Beale| Charles Willing']\n",
            "['Monsieur Maurice;pg8383.epub;Literary;Edwards| Amelia Ann Blanford']\n",
            "['Ptomaine Street: The Tale of Warble Petticoat;pg8386.epub;Literary;Wells| Carolyn']\n",
            "['The Gentleman: A Romance of the Sea;pg8396.epub;Sea and Adventure;Ollivant| Alfred']\n",
            "[\"Young People's Pride: A Novel;pg8403.epub;Literary;Ben Stephen Vincent\"]\n",
            "['Rest Harrow: A Comedy of Resolution;pg8464.epub;Literary;Hewlett| Maurice']\n",
            "['The Puritans;pg8522.epub;Literary;Bates| Arlo']\n",
            "['The Woman with the Fan;pg8549.epub;Literary;Hichens| Robert']\n",
            "['The Far Horizon;pg8569.epub;Literary;Malet| Lucas']\n",
            "['The Philistines;pg8570.epub;Literary;Bates| Arlo']\n",
            "[\"The Wheel O' Fortune;pg8596.epub;Literary;Tracy| Louis\"]\n",
            "['The Pagans;pg8671.epub;Literary;Bates| Arlo']\n",
            "['The Living Link: A Novel;pg8711.epub;Literary;Mille| James De']\n",
            "['The Brass Bowl;pg8741.epub;Literary;Vance| Louis Joseph']\n",
            "['From One Generation to Another;pg8805.epub;Literary;Merriman| Henry Seton']\n",
            "[\"Miss Theodosia's Heartstrings;pg8865.epub;Literary;Donnell| Annie Hamilton\"]\n",
            "['A Love Story;pg8883.epub;Literary;Christie| William Harvey']\n",
            "['Three Weeks;pg8899.epub;Love and Romance;Glyn| Elinor']\n",
            "['The Golden Calf;pg9052.epub;Literary;Braddon| M. E.']\n",
            "['Eleanor;pg9087.epub;Literary;Ward| Mrs. Humphry']\n",
            "['The Bride of Dreams;pg9111.epub;Literary;Eeden| Frederik van']\n",
            "['Henry Dunbar: A Novel;pg9189.epub;Literary;Braddon| M. E.']\n",
            "[\"Charlotte's Inheritance;pg9259.epub;Literary;Braddon| M. E.\"]\n",
            "[\"One Day's Courtship- and The Heralds of Fame;pg9305.epub;Literary;Barr| Robert\"]\n",
            "[\"Hetty's Strange History;pg9311.epub;Literary;Jackson| Helen Hunt\"]\n",
            "['Birds of Prey;pg9362.epub;Literary;Braddon| M. E.']\n",
            "['A Woman Intervenes;pg9379.epub;Literary;Barr| Robert']\n",
            "['Theresa Marchmont- the Maid of Honour: A Tale;pg9387.epub;Literary;Gore| Mrs.']\n",
            "['Helen of the Old House;pg9410.epub;Literary;Wright| Harold Bell']\n",
            "['The Ashiel mystery: A Detective Story;pg9746.epub;Detective and Mystery;Bryce| Mrs. Charles']\n",
            "['The Fortune Hunter;pg9747.epub;Literary;Smith| Winchell| Vance| Louis Joseph']\n",
            "['Scarhaven Keep;pg9807.epub;Detective and Mystery;Fletcher| J. S.']\n",
            "['The Price of Things;pg9809.epub;Literary;Glyn| Elinor']\n",
            "['The Brown Mask;pg9849.epub;Sea and Adventure;Brebner| Percy James']\n",
            "['The Two Guardians - Home in This World;pg9926.epub;Literary;Yonge| Charlotte M.']\n",
            "['The Bronze Bell;pg9927.epub;Sea and Adventure;Vance| Louis Joseph']\n",
            "['Mr. Waddington of Wyck;pg9967.epub;Literary;Sinclair| May']\n",
            "['Captivating Mary Carstairs;pg9993.epub;Literary;Harrison| Henry Sydnor']\n",
            "['Persuasion;pg105JaneAusPersuatn.epub;Literary;Austen| Jane']\n",
            "['Return of Sherlock Holmes;pg108DoyleReturnSherlk.epub;Detective and Mystery;Connan| Doyle']\n",
            "['The Secret Adversary;pg1155Agatha2.epub;Detective and Mystery;Christie| Agatha']\n",
            "[\"Alice's Adventures in Wonderland;pg11CarolAlice.epub;Literary;Carroll| Lewis\"]\n",
            "['Through the Looking-Glass;pg12CarolGlassLook.epub;Literary;Carroll| Lewis']\n",
            "['Pride and Prejudice;pg1342JaneAustenPP.epub;Literary;Austen| Jane']\n",
            "['Mardi: and A Voyage Thither I;pg13720HermanVoyage1.epub;Sea and Adventure;Melville| Herman']\n",
            "['Mardi: and A Voyage Thither ||;pg13721HermanVoyage2.epub;Sea and Adventure;Melville| Herman']\n",
            "['Great Expectations;pg1400DickensGreatExp.epub;Literary;Dickens| Charles']\n",
            "['Mansfield Park;pg141JaneAusMansPark.epub;Literary;Austen| Jane']\n",
            "['Emma;pg158JaneAustenEmma.epub;Literary;Austen| Jane']\n",
            "['Sense and Sensibility;pg161SJaneAusSensSensi.epub;Literary;Austen| Jane']\n",
            "['A Christmas Carol;pg19337DickensChristCarl.epub;Christmas Stories;Dickens| Charles']\n",
            "['The Sign of Four;pg2097DoyleSignFour.epub;Detective and Mystery;Connan| Doyle']\n",
            "['The Works of Edgar Allan Poe I;pg2147EdgarPoe1.epub;Detective and Mystery;Poe| Edgar Allan']\n",
            "['The Works of Edgar Allan Poe II;pg2148EdgarPoe2.epub;Detective and Mystery;Poe| Edgar Allan']\n",
            "['The Works of Edgar Allan Poe III;pg2149EdgarPoe3.epub;Detective and Mystery;Poe| Edgar Allan']\n",
            "['The Works of Edgar Allan Poe IV;pg2150EdgarPoe4.epub;Detective and Mystery;Poe| Edgar Allan']\n",
            "['The Confidence-Man;pg21816HermanConfidence.epub;Literary;Melville| Herman']\n",
            "['Five Tales;pg2684Galsw4.epub;Literary;Galsworthy| John']\n",
            "['Moby Dick;pg2701HermanMobyDick.epub;Sea and Adventure;Melville| Herman']\n",
            "['The Hound of the Baskervilles;pg2852DoyleHound.epub;Detective and Mystery;Connan| Doyle']\n",
            "['A Tangled Tale;pg29042CarolTangTale.epub;Literary;Carroll| Lewis']\n",
            "['Justice;pg2911Galsw2.epub;Literary;Galsworthy| John']\n",
            "['The Little Man;pg2919Galsw5.epub;Literary;Galsworthy| John']\n",
            "['Pierre or The Ambiguities;pg34970HermanPierre.epub;Literary;Melville| Herman']\n",
            "['Omoo Adventures in the South Seas;pg4045HermanOmmo.epub;Sea and Adventure;Melville| Herman']\n",
            "['The Forsyte Saga;pg4397Galsw1.epub;Literary;Galsworthy| John']\n",
            "['The Game of Logic;pg4763CarolLogik.epub;Literary;Carroll| Lewis']\n",
            "['Loyalties;pg4765Galsw3.epub;Literary;Galsworthy| John']\n",
            "['Tales of Terror and Mystery;pg537DoyleTerrorTales.epub;Detective and Mystery;Connan| Doyle']\n",
            "['Sylvie and Bruno;pg620CarolBruno.epub;Literary;Carroll| Lewis']\n",
            "['Oliver Twist;pg730DickensOliverTw.epub;Literary;Dickens| Charles']\n",
            "['David Copperfield;pg766DickensDavidCopfld.epub;Literary;Dickens| Charles']\n",
            "['Hard Times;pg786DickensHardTimes.epub;Literary;Dickens| Charles']\n",
            "['Memoirs of Shelock Holmes;pg834DoyleMemoirsSherlk.epub;Detective and Mystery;Connan| Doyle']\n",
            "['The Mysterious Affair at Styles;pg863Agatha1.epub;Detective and Mystery;Christie| Agatha']\n",
            "['A Tale of Two Cities;pg98DickensTaleCities.epub;Literary;Dickens| Charles']\n"
          ],
          "name": "stdout"
        }
      ]
    },
    {
      "cell_type": "code",
      "metadata": {
        "id": "Xos4JsmkJNE8",
        "colab_type": "code",
        "colab": {}
      },
      "source": [
        "for i in range(len(labels)):\n",
        "    if labels[i] == \"Literary\":\n",
        "      labels[i] = 1\n",
        "    elif labels[i] == \"Detective and Mystery\":\n",
        "      labels[i] = 2\n",
        "    elif labels[i] == \"Western Stories\":\n",
        "      labels[i] = 3   \n",
        "    elif labels[i] == \"Ghost and Horror\":\n",
        "      labels[i] = 4  \n",
        "    elif labels[i] == \"Humorous and Wit and Satire\":\n",
        "      labels[i] = 5\n",
        "    elif labels[i] == \"Christmas Stories\":\n",
        "      labels[i] = 6\n",
        "    elif labels[i] == \"Love and Romance\":\n",
        "     labels[i] = 7\n",
        "    elif labels[i] == \"Sea and Adventure\":\n",
        "      labels[i] = 8\n",
        "    elif labels[i] == \"Allegories\":\n",
        "      labels[i] = 9\n",
        "    elif labels[i] == \"All\":\n",
        "      labels[i] = 10"
      ],
      "execution_count": 29,
      "outputs": []
    },
    {
      "cell_type": "code",
      "metadata": {
        "id": "CD65i-n0Y92j",
        "colab_type": "code",
        "colab": {}
      },
      "source": [
        "from sklearn.model_selection import train_test_split\n",
        "\n",
        "x_train, x_test, y_train, y_test = train_test_split(books, labels, test_size=0.33, random_state=45)"
      ],
      "execution_count": 112,
      "outputs": []
    },
    {
      "cell_type": "code",
      "metadata": {
        "id": "AQGUgVJsaCba",
        "colab_type": "code",
        "colab": {}
      },
      "source": [
        "from sklearn.feature_extraction.text import TfidfVectorizer\n",
        "\n",
        "vectorizer = TfidfVectorizer(sublinear_tf=True, max_df=0.8,\n",
        "                                 stop_words='english')\n",
        "x_train = vectorizer.fit_transform(x_train)\n",
        "x_test = vectorizer.transform(x_test)"
      ],
      "execution_count": 113,
      "outputs": []
    },
    {
      "cell_type": "code",
      "metadata": {
        "id": "XO-7WXjHclnJ",
        "colab_type": "code",
        "colab": {
          "base_uri": "https://localhost:8080/",
          "height": 34
        },
        "outputId": "e10e0da6-4bb6-4229-eb4f-33258594aa9b"
      },
      "source": [
        "type(x_train)"
      ],
      "execution_count": 115,
      "outputs": [
        {
          "output_type": "execute_result",
          "data": {
            "text/plain": [
              "scipy.sparse.csr.csr_matrix"
            ]
          },
          "metadata": {
            "tags": []
          },
          "execution_count": 115
        }
      ]
    },
    {
      "cell_type": "code",
      "metadata": {
        "id": "IpXVNq8XbHh3",
        "colab_type": "code",
        "colab": {
          "base_uri": "https://localhost:8080/",
          "height": 86
        },
        "outputId": "fe27956b-fea5-49be-bd8b-ae54a79dce43"
      },
      "source": [
        "from sklearn.svm import SVC\n",
        "from sklearn import metrics\n",
        "\n",
        "\n",
        "non_linear_svm = SVC(C = 100, kernel='rbf', gamma=0.9)\n",
        "\n",
        "non_linear_svm.fit(x_train, y_train)"
      ],
      "execution_count": 52,
      "outputs": [
        {
          "output_type": "execute_result",
          "data": {
            "text/plain": [
              "SVC(C=100, break_ties=False, cache_size=200, class_weight=None, coef0=0.0,\n",
              "    decision_function_shape='ovr', degree=3, gamma=0.9, kernel='rbf',\n",
              "    max_iter=-1, probability=False, random_state=None, shrinking=True,\n",
              "    tol=0.001, verbose=False)"
            ]
          },
          "metadata": {
            "tags": []
          },
          "execution_count": 52
        }
      ]
    },
    {
      "cell_type": "code",
      "metadata": {
        "id": "GeP7NtHZba7n",
        "colab_type": "code",
        "colab": {
          "base_uri": "https://localhost:8080/",
          "height": 34
        },
        "outputId": "35516780-a388-4168-9e6f-68aa9cbf7848"
      },
      "source": [
        "svm_pred = non_linear_svm.predict(x_test)\n",
        "svm_score = metrics.accuracy_score(y_test, svm_pred)\n",
        "print(svm_score)"
      ],
      "execution_count": 53,
      "outputs": [
        {
          "output_type": "stream",
          "text": [
            "0.8297872340425532\n"
          ],
          "name": "stdout"
        }
      ]
    },
    {
      "cell_type": "code",
      "metadata": {
        "id": "KtdJAJKocb0R",
        "colab_type": "code",
        "colab": {
          "base_uri": "https://localhost:8080/",
          "height": 330
        },
        "outputId": "a6ff2ab8-c744-4e68-900f-91f3fc43d745"
      },
      "source": [
        "from sklearn.metrics import classification_report\n",
        "print(classification_report(y_test, svm_pred))"
      ],
      "execution_count": 116,
      "outputs": [
        {
          "output_type": "stream",
          "text": [
            "              precision    recall  f1-score   support\n",
            "\n",
            "           1       0.85      0.99      0.92       260\n",
            "           2       0.90      0.58      0.70        33\n",
            "           3       1.00      0.12      0.22         8\n",
            "           4       0.00      0.00      0.00         1\n",
            "           5       0.00      0.00      0.00         2\n",
            "           7       0.00      0.00      0.00         8\n",
            "           8       1.00      0.25      0.40        16\n",
            "           9       0.00      0.00      0.00         1\n",
            "\n",
            "    accuracy                           0.86       329\n",
            "   macro avg       0.47      0.24      0.28       329\n",
            "weighted avg       0.84      0.86      0.82       329\n",
            "\n"
          ],
          "name": "stdout"
        },
        {
          "output_type": "stream",
          "text": [
            "/usr/local/lib/python3.6/dist-packages/sklearn/metrics/_classification.py:1272: UndefinedMetricWarning: Precision and F-score are ill-defined and being set to 0.0 in labels with no predicted samples. Use `zero_division` parameter to control this behavior.\n",
            "  _warn_prf(average, modifier, msg_start, len(result))\n"
          ],
          "name": "stderr"
        }
      ]
    },
    {
      "cell_type": "code",
      "metadata": {
        "id": "ymCcn2NdlxPQ",
        "colab_type": "code",
        "colab": {
          "base_uri": "https://localhost:8080/",
          "height": 155
        },
        "outputId": "d2b81b1f-418d-4f3b-b2db-7e3fbb6356f7"
      },
      "source": [
        "import matplotlib.pyplot as plt\n",
        "from sklearn.metrics import plot_confusion_matrix\n",
        "from sklearn.metrics import confusion_matrix\n",
        "\n",
        "cm = confusion_matrix(y_test, svm_pred)\n",
        "\n",
        "print(cm)"
      ],
      "execution_count": 117,
      "outputs": [
        {
          "output_type": "stream",
          "text": [
            "[[258   2   0   0   0   0   0   0]\n",
            " [ 14  19   0   0   0   0   0   0]\n",
            " [  7   0   1   0   0   0   0   0]\n",
            " [  1   0   0   0   0   0   0   0]\n",
            " [  2   0   0   0   0   0   0   0]\n",
            " [  8   0   0   0   0   0   0   0]\n",
            " [ 12   0   0   0   0   0   4   0]\n",
            " [  1   0   0   0   0   0   0   0]]\n"
          ],
          "name": "stdout"
        }
      ]
    }
  ]
}